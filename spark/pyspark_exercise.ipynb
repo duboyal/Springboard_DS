{
 "cells": [
  {
   "cell_type": "markdown",
   "metadata": {},
   "source": [
    "# MapReduce using SPARK"
   ]
  },
  {
   "cell_type": "code",
   "execution_count": null,
   "metadata": {
    "collapsed": true
   },
   "outputs": [],
   "source": [
    "%pylab inline\n",
    "import pandas as pd\n",
    "import seaborn as sns\n",
    "pd.set_option('display.width', 500)\n",
    "pd.set_option('display.max_columns', 100)"
   ]
  },
  {
   "cell_type": "markdown",
   "metadata": {},
   "source": [
    "# Table of Contents\n",
    "\n",
    "* [SPARK](#SPARK)\n",
    "    * Installing Spark locally\n",
    "* [Spark Context](#Spark-Context)\n",
    "    * [Create A RDD](#Create-A-RDD)\n",
    "    * [Call `collect` on an RDD: Lazy Spark](#Call-collect-on-an-RDD:-Lazy-Spark)\n",
    "    * [Operations on RDDs](#Operations-on-RDDs)\n",
    "    * [Word Examples](#Word-Examples)\n",
    "    * [Key Value Pairs](#Key-Value-Pairs)\n",
    "    * [word count 1](#word-count-1)\n",
    "    * [word count 2:  `reduceByKey()`](#word-count-2:--reduceByKey%28%29)\n",
    "    * [Nested Syntax](#Nested-Syntax)\n",
    "    * [Using Cache](#Using-Cache)\n",
    "    * [Fun with words](#Fun-with-words)\n",
    "    * [DataFrames](#DataFrames)\n",
    "    * [Machine Learning](#Machine-Learning)\n"
   ]
  },
  {
   "cell_type": "markdown",
   "metadata": {
    "slideshow": {
     "slide_type": "slide"
    }
   },
   "source": [
    "With shameless stealing of some code and text from:\n",
    "\n",
    "- https://github.com/tdhopper/rta-pyspark-presentation/blob/master/slides.ipynb\n",
    "- Databricks and Berkeley Spark MOOC: https://www.edx.org/course/introduction-big-data-apache-spark-uc-berkeleyx-cs100-1x\n",
    "\n",
    "which you should go check out."
   ]
  },
  {
   "cell_type": "markdown",
   "metadata": {},
   "source": [
    "## Installing Spark locally\n",
    "\n",
    "\n",
    "**Step 1: Install Apache Spark**\n",
    "\n",
    "For example, for Mac users using Homebrew:\n",
    "\n",
    "```\n",
    "$ brew install apache-spark\n",
    "```"
   ]
  },
  {
   "cell_type": "markdown",
   "metadata": {},
   "source": [
    "**Step 2: Install the Java SDK version 1.8 or above for your platform (not just the JRE runtime)**\n",
    "\n",
    "Make sure you can access commands such as `java` on your command line."
   ]
  },
  {
   "cell_type": "markdown",
   "metadata": {},
   "source": [
    "**Step 3: Install the latest findspark package using pip**\n",
    "\n",
    "```\n",
    "➜  ~  pip install findspark\n",
    "Collecting findspark\n",
    "  Downloading findspark-0.0.5-py2.py3-none-any.whl\n",
    "Installing collected packages: findspark\n",
    "Successfully installed findspark-0.0.5\n",
    "```"
   ]
  },
  {
   "cell_type": "markdown",
   "metadata": {
    "slideshow": {
     "slide_type": "slide"
    }
   },
   "source": [
    "# Spark Context\n",
    "\n",
    "You can also use it directly from the notebook interface on the mac if you installed `apache-spark` using `brew` and also installed `findspark` above."
   ]
  },
  {
   "cell_type": "code",
   "execution_count": 1,
   "metadata": {
    "collapsed": true
   },
   "outputs": [],
   "source": [
    "import findspark\n",
    "findspark.init()\n",
    "import pyspark\n",
    "sc = pyspark.SparkContext()"
   ]
  },
  {
   "cell_type": "markdown",
   "metadata": {},
   "source": [
    "It also outputs a bunch of stuff on my terminal. This is because the entire java context is started up.\n",
    "\n",
    "```Using Spark's default log4j profile: org/apache/spark/log4j-defaults.properties\n",
    "15/10/21 14:46:15 INFO SparkContext: Running Spark version 1.4.0\n",
    "2015-10-21 14:46:15.774 java[30685:c003] Unable to load realm info from SCDynamicStore\n",
    "15/10/21 14:46:15 WARN NativeCodeLoader: Unable to load native-hadoop library for your platform... using builtin-java classes where applicable\n",
    "15/10/21 14:46:15 INFO SecurityManager: Changing view acls to: rahul\n",
    "15/10/21 14:46:15 INFO SecurityManager: Changing modify acls to: rahul\n",
    "15/10/21 14:46:15 INFO SecurityManager: SecurityManager: authentication disabled; ui acls disabled; users with view permissions: Set(rahul); users with modify permissions: Set(rahul)\n",
    "15/10/21 14:46:16 INFO Slf4jLogger: Slf4jLogger started\n",
    "15/10/21 14:46:16 INFO Remoting: Starting remoting\n",
    "15/10/21 14:46:16 INFO Remoting: Remoting started; listening on addresses :[akka.tcp://sparkDriver@10.251.101.163:64359]\n",
    "15/10/21 14:46:16 INFO Utils: Successfully started service 'sparkDriver' on port 64359.\n",
    "15/10/21 14:46:16 INFO SparkEnv: Registering MapOutputTracker\n",
    "15/10/21 14:46:16 INFO SparkEnv: Registering BlockManagerMaster\n",
    "15/10/21 14:46:16 INFO DiskBlockManager: Created local directory at /private/var/folders/_f/y76rs29s3c57ykwyz9c8z12c0000gn/T/spark-00a4e09e-e5db-485f-81dc-2e5016e9a27e/blockmgr-8966e07c-223b-4c38-9273-11543aa9d3c1\n",
    "15/10/21 14:46:16 INFO MemoryStore: MemoryStore started with capacity 273.0 MB\n",
    "15/10/21 14:46:16 INFO HttpFileServer: HTTP File server directory is /private/var/folders/_f/y76rs29s3c57ykwyz9c8z12c0000gn/T/spark-00a4e09e-e5db-485f-81dc-2e5016e9a27e/httpd-6af0a9e0-1cfe-42c4-a1bd-e01715b98436\n",
    "15/10/21 14:46:16 INFO HttpServer: Starting HTTP Server\n",
    "15/10/21 14:46:17 INFO Utils: Successfully started service 'HTTP file server' on port 64360.\n",
    "15/10/21 14:46:17 INFO SparkEnv: Registering OutputCommitCoordinator\n",
    "15/10/21 14:46:18 INFO Utils: Successfully started service 'SparkUI' on port 4040.\n",
    "15/10/21 14:46:18 INFO SparkUI: Started SparkUI at http://10.251.101.163:4040\n",
    "15/10/21 14:46:18 INFO Executor: Starting executor ID driver on host localhost\n",
    "15/10/21 14:46:18 INFO Utils: Successfully started service 'org.apache.spark.network.netty.NettyBlockTransferService' on port 64361.\n",
    "15/10/21 14:46:18 INFO NettyBlockTransferService: Server created on 64361\n",
    "15/10/21 14:46:18 INFO BlockManagerMaster: Trying to register BlockManager\n",
    "15/10/21 14:46:18 INFO BlockManagerMasterEndpoint: Registering block manager localhost:64361 with 273.0 MB RAM, BlockManagerId(driver, localhost, 64361)\n",
    "15/10/21 14:46:18 INFO BlockManagerMaster: Registered BlockManager\n",
    "```"
   ]
  },
  {
   "cell_type": "code",
   "execution_count": 2,
   "metadata": {},
   "outputs": [
    {
     "data": {
      "text/html": [
       "\n",
       "        <div>\n",
       "            <p><b>SparkContext</b></p>\n",
       "\n",
       "            <p><a href=\"http://dyn-160-39-8-205.dyn.columbia.edu:4040\">Spark UI</a></p>\n",
       "\n",
       "            <dl>\n",
       "              <dt>Version</dt>\n",
       "                <dd><code>v2.3.1</code></dd>\n",
       "              <dt>Master</dt>\n",
       "                <dd><code>local[*]</code></dd>\n",
       "              <dt>AppName</dt>\n",
       "                <dd><code>pyspark-shell</code></dd>\n",
       "            </dl>\n",
       "        </div>\n",
       "        "
      ],
      "text/plain": [
       "<SparkContext master=local[*] appName=pyspark-shell>"
      ]
     },
     "execution_count": 2,
     "metadata": {},
     "output_type": "execute_result"
    }
   ],
   "source": [
    "sc"
   ]
  },
  {
   "cell_type": "code",
   "execution_count": 3,
   "metadata": {},
   "outputs": [
    {
     "data": {
      "text/plain": [
       "385"
      ]
     },
     "execution_count": 3,
     "metadata": {},
     "output_type": "execute_result"
    }
   ],
   "source": [
    "sc.parallelize([1, 2, 3, 4, 5, 6, 7, 8, 9, 10]).map(lambda x: x**2).sum()"
   ]
  },
  {
   "cell_type": "markdown",
   "metadata": {
    "slideshow": {
     "slide_type": "slide"
    }
   },
   "source": [
    "### Create A RDD\n"
   ]
  },
  {
   "cell_type": "code",
   "execution_count": 5,
   "metadata": {},
   "outputs": [
    {
     "name": "stdout",
     "output_type": "stream",
     "text": [
      "<class 'pyspark.rdd.RDD'>\n"
     ]
    }
   ],
   "source": [
    "wordsList = ['cat', 'elephant', 'rat', 'rat', 'cat']\n",
    "wordsRDD = sc.parallelize(wordsList, 4)\n",
    "# Print out the type of wordsRDD\n",
    "print(type(wordsRDD))"
   ]
  },
  {
   "cell_type": "markdown",
   "metadata": {
    "slideshow": {
     "slide_type": "slide"
    }
   },
   "source": [
    "### Call `collect` on an RDD: Lazy Spark"
   ]
  },
  {
   "cell_type": "markdown",
   "metadata": {},
   "source": [
    "Spark is lazy. Until you `collect`, nothing is actually run.\n",
    "\n",
    ">Instead, they just remember the transformations applied to some base dataset (e.g. a file). The transformations are only computed when an action requires a result to be returned to the driver program."
   ]
  },
  {
   "cell_type": "code",
   "execution_count": 8,
   "metadata": {},
   "outputs": [
    {
     "data": {
      "text/plain": [
       "['cat', 'elephant', 'rat', 'rat', 'cat']"
      ]
     },
     "execution_count": 8,
     "metadata": {},
     "output_type": "execute_result"
    }
   ],
   "source": [
    "wordsRDD.collect()"
   ]
  },
  {
   "cell_type": "markdown",
   "metadata": {},
   "source": [
    "```\n",
    "15/10/21 14:59:59 INFO SparkContext: Starting job: collect at <ipython-input-6-dee494da0714>:1\n",
    "15/10/21 14:59:59 INFO DAGScheduler: Got job 0 (collect at <ipython-input-6-dee494da0714>:1) with 4 output partitions (allowLocal=false)\n",
    "15/10/21 14:59:59 INFO DAGScheduler: Final stage: ResultStage 0(collect at <ipython-input-6-dee494da0714>:1)\n",
    "15/10/21 14:59:59 INFO DAGScheduler: Parents of final stage: List()\n",
    "15/10/21 14:59:59 INFO DAGScheduler: Missing parents: List()\n",
    "15/10/21 14:59:59 INFO DAGScheduler: Submitting ResultStage 0 (ParallelCollectionRDD[0] at parallelize at PythonRDD.scala:396), which has no missing parents\n",
    "15/10/21 15:00:00 INFO MemoryStore: ensureFreeSpace(1224) called with curMem=0, maxMem=286300569\n",
    "15/10/21 15:00:00 INFO MemoryStore: Block broadcast_0 stored as values in memory (estimated size 1224.0 B, free 273.0 MB)\n",
    "15/10/21 15:00:00 INFO MemoryStore: ensureFreeSpace(777) called with curMem=1224, maxMem=286300569\n",
    "15/10/21 15:00:00 INFO MemoryStore: Block broadcast_0_piece0 stored as bytes in memory (estimated size 777.0 B, free 273.0 MB)\n",
    "15/10/21 15:00:00 INFO BlockManagerInfo: Added broadcast_0_piece0 in memory on localhost:64361 (size: 777.0 B, free: 273.0 MB)\n",
    "15/10/21 15:00:00 INFO SparkContext: Created broadcast 0 from broadcast at DAGScheduler.scala:874\n",
    "15/10/21 15:00:00 INFO DAGScheduler: Submitting 4 missing tasks from ResultStage 0 (ParallelCollectionRDD[0] at parallelize at PythonRDD.scala:396)\n",
    "15/10/21 15:00:00 INFO TaskSchedulerImpl: Adding task set 0.0 with 4 tasks\n",
    "15/10/21 15:00:00 INFO TaskSetManager: Starting task 0.0 in stage 0.0 (TID 0, localhost, PROCESS_LOCAL, 1379 bytes)\n",
    "15/10/21 15:00:00 INFO TaskSetManager: Starting task 1.0 in stage 0.0 (TID 1, localhost, PROCESS_LOCAL, 1384 bytes)\n",
    "15/10/21 15:00:00 INFO TaskSetManager: Starting task 2.0 in stage 0.0 (TID 2, localhost, PROCESS_LOCAL, 1379 bytes)\n",
    "15/10/21 15:00:00 INFO TaskSetManager: Starting task 3.0 in stage 0.0 (TID 3, localhost, PROCESS_LOCAL, 1403 bytes)\n",
    "15/10/21 15:00:00 INFO Executor: Running task 0.0 in stage 0.0 (TID 0)\n",
    "15/10/21 15:00:00 INFO Executor: Running task 2.0 in stage 0.0 (TID 2)\n",
    "15/10/21 15:00:00 INFO Executor: Running task 1.0 in stage 0.0 (TID 1)\n",
    "15/10/21 15:00:00 INFO Executor: Running task 3.0 in stage 0.0 (TID 3)\n",
    "15/10/21 15:00:00 INFO Executor: Finished task 1.0 in stage 0.0 (TID 1). 646 bytes result sent to driver\n",
    "15/10/21 15:00:00 INFO Executor: Finished task 3.0 in stage 0.0 (TID 3). 665 bytes result sent to driver\n",
    "15/10/21 15:00:00 INFO Executor: Finished task 0.0 in stage 0.0 (TID 0). 641 bytes result sent to driver\n",
    "15/10/21 15:00:00 INFO Executor: Finished task 2.0 in stage 0.0 (TID 2). 641 bytes result sent to driver\n",
    "15/10/21 15:00:00 INFO TaskSetManager: Finished task 1.0 in stage 0.0 (TID 1) in 61 ms on localhost (1/4)\n",
    "15/10/21 15:00:00 INFO TaskSetManager: Finished task 3.0 in stage 0.0 (TID 3) in 60 ms on localhost (2/4)\n",
    "15/10/21 15:00:00 INFO TaskSetManager: Finished task 0.0 in stage 0.0 (TID 0) in 96 ms on localhost (3/4)\n",
    "15/10/21 15:00:00 INFO TaskSetManager: Finished task 2.0 in stage 0.0 (TID 2) in 63 ms on localhost (4/4)\n",
    "15/10/21 15:00:00 INFO DAGScheduler: ResultStage 0 (collect at <ipython-input-6-dee494da0714>:1) finished in 0.120 s\n",
    "15/10/21 15:00:00 INFO TaskSchedulerImpl: Removed TaskSet 0.0, whose tasks have all completed, from pool\n",
    "15/10/21 15:00:00 INFO DAGScheduler: Job 0 finished: collect at <ipython-input-6-dee494da0714>:1, took 0.872367 s\n",
    "```"
   ]
  },
  {
   "cell_type": "markdown",
   "metadata": {},
   "source": [
    "### Operations on RDDs"
   ]
  },
  {
   "cell_type": "markdown",
   "metadata": {},
   "source": [
    "From the Spark Programming Guide:\n",
    "\n",
    ">RDDs support two types of operations: transformations, which create a new dataset from an existing one, and actions, which return a value to the driver program after running a computation on the dataset. For example, map is a transformation that passes each dataset element through a function and returns a new RDD representing the results. On the other hand, reduce is an action that aggregates all the elements of the RDD using some function and returns the final result to the driver program (although there is also a parallel reduceByKey that returns a distributed dataset)."
   ]
  },
  {
   "cell_type": "markdown",
   "metadata": {},
   "source": [
    "### Word Examples"
   ]
  },
  {
   "cell_type": "code",
   "execution_count": 10,
   "metadata": {},
   "outputs": [
    {
     "name": "stdout",
     "output_type": "stream",
     "text": [
      "cats\n"
     ]
    }
   ],
   "source": [
    "def makePlural(word):\n",
    "    return word + 's'\n",
    "\n",
    "print(makePlural('cat'))"
   ]
  },
  {
   "cell_type": "markdown",
   "metadata": {},
   "source": [
    "Transform one RDD into another."
   ]
  },
  {
   "cell_type": "code",
   "execution_count": 11,
   "metadata": {},
   "outputs": [
    {
     "name": "stdout",
     "output_type": "stream",
     "text": [
      "cats\n",
      "['cats', 'elephants']\n"
     ]
    }
   ],
   "source": [
    "pluralRDD = wordsRDD.map(makePlural)\n",
    "print(pluralRDD.first())\n",
    "print(pluralRDD.take(2))\n"
   ]
  },
  {
   "cell_type": "code",
   "execution_count": 12,
   "metadata": {},
   "outputs": [
    {
     "data": {
      "text/plain": [
       "['cats']"
      ]
     },
     "execution_count": 12,
     "metadata": {},
     "output_type": "execute_result"
    }
   ],
   "source": [
    "pluralRDD.take(1)"
   ]
  },
  {
   "cell_type": "code",
   "execution_count": 13,
   "metadata": {},
   "outputs": [
    {
     "data": {
      "text/plain": [
       "['cats', 'elephants', 'rats', 'rats', 'cats']"
      ]
     },
     "execution_count": 13,
     "metadata": {},
     "output_type": "execute_result"
    }
   ],
   "source": [
    "pluralRDD.collect()"
   ]
  },
  {
   "cell_type": "markdown",
   "metadata": {
    "slideshow": {
     "slide_type": "slide"
    }
   },
   "source": [
    "### Key Value Pairs"
   ]
  },
  {
   "cell_type": "code",
   "execution_count": 15,
   "metadata": {},
   "outputs": [
    {
     "name": "stdout",
     "output_type": "stream",
     "text": [
      "[('cat', 1), ('elephant', 1), ('rat', 1), ('rat', 1), ('cat', 1)]\n"
     ]
    }
   ],
   "source": [
    "wordPairs = wordsRDD.map(lambda w: (w, 1))\n",
    "print(wordPairs.collect())"
   ]
  },
  {
   "cell_type": "markdown",
   "metadata": {},
   "source": [
    "```\n",
    "➜  sparklect  ps auxwww | grep pyspark\n",
    "rahul           30685   0.4  0.8  3458120  68712 s012  S+    2:46PM   2:00.21 /System/Library/Java/JavaVirtualMachines/1.6.0.jdk/Contents/Home/bin/java -cp /usr/local/opt/apache-spark/libexec/conf/:/usr/local/opt/apache-spark/libexec/lib/spark-assembly-1.4.0-hadoop2.6.0.jar:/usr/local/opt/apache-spark/libexec/lib/datanucleus-api-jdo-3.2.6.jar:/usr/local/opt/apache-spark/libexec/lib/datanucleus-core-3.2.10.jar:/usr/local/opt/apache-spark/libexec/lib/datanucleus-rdbms-3.2.9.jar -Xms512m -Xmx512m -XX:MaxPermSize=128m org.apache.spark.deploy.SparkSubmit pyspark-shell\n",
    "rahul           31520   0.0  0.0  2432784    480 s011  R+    6:42PM   0:00.00 grep --color=auto --exclude-dir=.bzr --exclude-dir=.cvs --exclude-dir=.git --exclude-dir=.hg --exclude-dir=.svn pyspark\n",
    "rahul           31494   0.0  0.7  2548972  57288 s012  S     6:41PM   0:00.10 python -m pyspark.daemon\n",
    "rahul           31493   0.0  0.7  2548972  57308 s012  S     6:41PM   0:00.10 python -m pyspark.daemon\n",
    "rahul           31492   0.0  0.7  2548972  57288 s012  S     6:41PM   0:00.11 python -m pyspark.daemon\n",
    "rahul           31446   0.0  0.8  2548972  68460 s012  S     6:35PM   0:01.34 python -m pyspark.daemon\n",
    "```"
   ]
  },
  {
   "cell_type": "markdown",
   "metadata": {
    "slideshow": {
     "slide_type": "slide"
    }
   },
   "source": [
    "### WORD COUNT!\n",
    "\n",
    "This little exercise shows how to use mapreduce to calculate the counts of individual words in a list."
   ]
  },
  {
   "cell_type": "code",
   "execution_count": 16,
   "metadata": {},
   "outputs": [
    {
     "name": "stdout",
     "output_type": "stream",
     "text": [
      "[('cat', 2), ('elephant', 1), ('rat', 2)]\n"
     ]
    }
   ],
   "source": [
    "wordsList = ['cat', 'elephant', 'rat', 'rat', 'cat']\n",
    "wordsRDD = sc.parallelize(wordsList, 4)\n",
    "wordCountsCollected = (wordsRDD\n",
    "                       .map(lambda w: (w, 1))\n",
    "                       .reduceByKey(lambda x,y: x+y)\n",
    "                       .collect())\n",
    "print(wordCountsCollected)"
   ]
  },
  {
   "cell_type": "markdown",
   "metadata": {
    "slideshow": {
     "slide_type": "slide"
    }
   },
   "source": [
    "![Tons of shuffling](https://databricks.gitbooks.io/databricks-spark-knowledge-base/content/images/reduce_by.png)"
   ]
  },
  {
   "cell_type": "code",
   "execution_count": 19,
   "metadata": {},
   "outputs": [
    {
     "name": "stdout",
     "output_type": "stream",
     "text": [
      "b'(4) PythonRDD[24] at RDD at PythonRDD.scala:49 []\\n |  MapPartitionsRDD[23] at mapPartitions at PythonRDD.scala:129 []\\n |  ShuffledRDD[22] at partitionBy at NativeMethodAccessorImpl.java:0 []\\n +-(4) PairwiseRDD[21] at reduceByKey at <ipython-input-19-8fbf8b724c9a>:3 []\\n    |  PythonRDD[20] at reduceByKey at <ipython-input-19-8fbf8b724c9a>:3 []\\n    |  ParallelCollectionRDD[9] at parallelize at PythonRDD.scala:184 []'\n"
     ]
    }
   ],
   "source": [
    "print(wordsRDD\n",
    "    .map(lambda w: (w, 1))\n",
    "    .reduceByKey(lambda x,y: x+y).toDebugString())"
   ]
  },
  {
   "cell_type": "markdown",
   "metadata": {
    "slideshow": {
     "slide_type": "slide"
    }
   },
   "source": [
    "### Using Cache"
   ]
  },
  {
   "cell_type": "code",
   "execution_count": 21,
   "metadata": {},
   "outputs": [
    {
     "name": "stdout",
     "output_type": "stream",
     "text": [
      "ParallelCollectionRDD[25] at parallelize at PythonRDD.scala:184\n"
     ]
    },
    {
     "data": {
      "text/plain": [
       "5"
      ]
     },
     "execution_count": 21,
     "metadata": {},
     "output_type": "execute_result"
    }
   ],
   "source": [
    "wordsList = ['cat', 'elephant', 'rat', 'rat', 'cat']\n",
    "wordsRDD = sc.parallelize(wordsList, 4)\n",
    "print(wordsRDD)\n",
    "wordsRDD.count()"
   ]
  },
  {
   "cell_type": "markdown",
   "metadata": {},
   "source": [
    "Normally, every operation is run from the start. This may be inefficient in many cases. So when appropriate, we may want to cache the result the first time an operation is run on an RDD."
   ]
  },
  {
   "cell_type": "code",
   "execution_count": 22,
   "metadata": {},
   "outputs": [
    {
     "data": {
      "text/plain": [
       "5"
      ]
     },
     "execution_count": 22,
     "metadata": {},
     "output_type": "execute_result"
    }
   ],
   "source": [
    "#this is rerun from the start\n",
    "wordsRDD.count()"
   ]
  },
  {
   "cell_type": "code",
   "execution_count": 23,
   "metadata": {},
   "outputs": [
    {
     "data": {
      "text/plain": [
       "ParallelCollectionRDD[25] at parallelize at PythonRDD.scala:184"
      ]
     },
     "execution_count": 23,
     "metadata": {},
     "output_type": "execute_result"
    }
   ],
   "source": [
    "#default storage level (MEMORY_ONLY)\n",
    "wordsRDD.cache()#nothing done this is still lazy"
   ]
  },
  {
   "cell_type": "code",
   "execution_count": 24,
   "metadata": {},
   "outputs": [
    {
     "data": {
      "text/plain": [
       "5"
      ]
     },
     "execution_count": 24,
     "metadata": {},
     "output_type": "execute_result"
    }
   ],
   "source": [
    "#parallelize is rerun and cached because we told it to cache\n",
    "wordsRDD.count()"
   ]
  },
  {
   "cell_type": "code",
   "execution_count": 25,
   "metadata": {},
   "outputs": [
    {
     "data": {
      "text/plain": [
       "5"
      ]
     },
     "execution_count": 25,
     "metadata": {},
     "output_type": "execute_result"
    }
   ],
   "source": [
    "#this `sc.parallelize` is not rerun in this case\n",
    "wordsRDD.count()"
   ]
  },
  {
   "cell_type": "markdown",
   "metadata": {},
   "source": [
    "Where is this useful: it is when you have branching parts or loops, so that you dont do things again and again. Spark, being \"lazy\" will rerun the chain again. So `cache` or `persist` serves as a checkpoint, breaking the RDD chain or the *lineage*."
   ]
  },
  {
   "cell_type": "code",
   "execution_count": 26,
   "metadata": {},
   "outputs": [
    {
     "data": {
      "text/plain": [
       "{'cat': 'mammal',\n",
       " 'elephant': 'mammal',\n",
       " 'heron': 'bird',\n",
       " 'owl': 'bird',\n",
       " 'rat': 'mammal'}"
      ]
     },
     "execution_count": 26,
     "metadata": {},
     "output_type": "execute_result"
    }
   ],
   "source": [
    "birdsList=['heron','owl']\n",
    "animList=wordsList+birdsList\n",
    "animaldict={}\n",
    "for e in wordsList:\n",
    "    animaldict[e]='mammal'\n",
    "for e in birdsList:\n",
    "    animaldict[e]='bird'\n",
    "animaldict"
   ]
  },
  {
   "cell_type": "code",
   "execution_count": 28,
   "metadata": {},
   "outputs": [
    {
     "name": "stdout",
     "output_type": "stream",
     "text": [
      "5 2\n"
     ]
    }
   ],
   "source": [
    "animsrdd = sc.parallelize(animList, 4)\n",
    "animsrdd.cache()\n",
    "#below runs the whole chain but causes cache to be populated\n",
    "mammalcount=animsrdd.filter(lambda w: animaldict[w]=='mammal').count()\n",
    "#now only the filter is carried out\n",
    "birdcount=animsrdd.filter(lambda w: animaldict[w]=='bird').count()\n",
    "print(mammalcount, birdcount)"
   ]
  },
  {
   "cell_type": "code",
   "execution_count": null,
   "metadata": {
    "collapsed": true
   },
   "outputs": [],
   "source": []
  },
  {
   "cell_type": "markdown",
   "metadata": {},
   "source": [
    "### Exercises: Fun with MapReduce\n",
    "\n",
    "Read http://spark.apache.org/docs/latest/programming-guide.html for some useful background and then try out the following exercises"
   ]
  },
  {
   "cell_type": "markdown",
   "metadata": {},
   "source": [
    "The file `./sparklect/english.stop.txt` contains a list of English stopwords, while the file `./sparklect/shakes/juliuscaesar.txt` contains the entire text of Shakespeare's 'Julius Caesar'.\n",
    "\n",
    "* Load all of the stopwords into a Python list\n",
    "* Load the text of Julius Caesar into an RDD using the `sparkcontext.textfile()` method. Call it `juliusrdd`."
   ]
  },
  {
   "cell_type": "code",
   "execution_count": 43,
   "metadata": {
    "collapsed": true
   },
   "outputs": [],
   "source": [
    "py_list = []"
   ]
  },
  {
   "cell_type": "code",
   "execution_count": 44,
   "metadata": {
    "collapsed": true
   },
   "outputs": [],
   "source": [
    "lines = sc.textFile(\"./sparklect/english.stop.txt\")\n",
    "line_list = lines.map(lambda s: py_list.append(s))"
   ]
  },
  {
   "cell_type": "code",
   "execution_count": 47,
   "metadata": {},
   "outputs": [
    {
     "data": {
      "text/plain": [
       "pyspark.rdd.PipelinedRDD"
      ]
     },
     "execution_count": 47,
     "metadata": {},
     "output_type": "execute_result"
    }
   ],
   "source": [
    "type(line_list)"
   ]
  },
  {
   "cell_type": "code",
   "execution_count": 48,
   "metadata": {},
   "outputs": [
    {
     "data": {
      "text/plain": [
       "pyspark.rdd.RDD"
      ]
     },
     "execution_count": 48,
     "metadata": {},
     "output_type": "execute_result"
    }
   ],
   "source": [
    "type(lines)"
   ]
  },
  {
   "cell_type": "code",
   "execution_count": 29,
   "metadata": {
    "collapsed": true
   },
   "outputs": [],
   "source": [
    "# your turn\n",
    "lines = sc.textFile(\"./sparklect/english.stop.txt\")\n",
    "lineLengths = lines.map(lambda s: len(s))\n",
    "totalLength = lineLengths.reduce(lambda a, b: a + b)"
   ]
  },
  {
   "cell_type": "code",
   "execution_count": 31,
   "metadata": {},
   "outputs": [
    {
     "data": {
      "text/plain": [
       "3018"
      ]
     },
     "execution_count": 31,
     "metadata": {},
     "output_type": "execute_result"
    }
   ],
   "source": [
    "lines.map(lambda s: len(s)).reduce(lambda a, b: a + b)"
   ]
  },
  {
   "cell_type": "code",
   "execution_count": 34,
   "metadata": {},
   "outputs": [
    {
     "data": {
      "text/plain": [
       "pyspark.rdd.RDD"
      ]
     },
     "execution_count": 34,
     "metadata": {},
     "output_type": "execute_result"
    }
   ],
   "source": [
    "type(lines)"
   ]
  },
  {
   "cell_type": "code",
   "execution_count": null,
   "metadata": {
    "collapsed": true
   },
   "outputs": [],
   "source": []
  },
  {
   "cell_type": "code",
   "execution_count": 37,
   "metadata": {
    "collapsed": true
   },
   "outputs": [],
   "source": [
    "# RDD to Spark DataFrame\n",
    "sparkDF = lines.map(lambda x: str(x)).map(lambda w: w.split(''))"
   ]
  },
  {
   "cell_type": "code",
   "execution_count": 38,
   "metadata": {},
   "outputs": [
    {
     "data": {
      "text/plain": [
       "pyspark.rdd.PipelinedRDD"
      ]
     },
     "execution_count": 38,
     "metadata": {},
     "output_type": "execute_result"
    }
   ],
   "source": [
    "type(sparkDF) #ooooh"
   ]
  },
  {
   "cell_type": "code",
   "execution_count": 50,
   "metadata": {},
   "outputs": [
    {
     "ename": "AttributeError",
     "evalue": "'RDD' object has no attribute 'toDF'",
     "output_type": "error",
     "traceback": [
      "\u001b[0;31m---------------------------------------------------------------------------\u001b[0m",
      "\u001b[0;31mAttributeError\u001b[0m                            Traceback (most recent call last)",
      "\u001b[0;32m<ipython-input-50-0d7497fda5b4>\u001b[0m in \u001b[0;36m<module>\u001b[0;34m()\u001b[0m\n\u001b[1;32m      1\u001b[0m \u001b[0;31m#Spark DataFrame to Pandas DataFrame\u001b[0m\u001b[0;34m\u001b[0m\u001b[0;34m\u001b[0m\u001b[0m\n\u001b[0;32m----> 2\u001b[0;31m \u001b[0mpdsDF\u001b[0m \u001b[0;34m=\u001b[0m \u001b[0mlines\u001b[0m\u001b[0;34m.\u001b[0m\u001b[0mtoDF\u001b[0m\u001b[0;34m(\u001b[0m\u001b[0;34m)\u001b[0m\u001b[0;34m\u001b[0m\u001b[0m\n\u001b[0m",
      "\u001b[0;31mAttributeError\u001b[0m: 'RDD' object has no attribute 'toDF'"
     ]
    }
   ],
   "source": [
    "#Spark DataFrame to Pandas DataFrame\n",
    "pdsDF = lines.toDF()"
   ]
  },
  {
   "cell_type": "markdown",
   "metadata": {},
   "source": [
    "### ok stopwords list time"
   ]
  },
  {
   "cell_type": "code",
   "execution_count": 56,
   "metadata": {
    "collapsed": true
   },
   "outputs": [],
   "source": [
    "list_stopwords = lines.flatMap(lambda line: line.split()).collect()"
   ]
  },
  {
   "cell_type": "code",
   "execution_count": 57,
   "metadata": {},
   "outputs": [
    {
     "data": {
      "text/plain": [
       "['a',\n",
       " \"a's\",\n",
       " 'able',\n",
       " 'about',\n",
       " 'above',\n",
       " 'according',\n",
       " 'accordingly',\n",
       " 'across',\n",
       " 'actually',\n",
       " 'after',\n",
       " 'afterwards',\n",
       " 'again',\n",
       " 'against',\n",
       " \"ain't\",\n",
       " 'all',\n",
       " 'allow',\n",
       " 'allows',\n",
       " 'almost',\n",
       " 'alone',\n",
       " 'along',\n",
       " 'already',\n",
       " 'also',\n",
       " 'although',\n",
       " 'always',\n",
       " 'am',\n",
       " 'among',\n",
       " 'amongst',\n",
       " 'an',\n",
       " 'and',\n",
       " 'another',\n",
       " 'any',\n",
       " 'anybody',\n",
       " 'anyhow',\n",
       " 'anyone',\n",
       " 'anything',\n",
       " 'anyway',\n",
       " 'anyways',\n",
       " 'anywhere',\n",
       " 'apart',\n",
       " 'appear',\n",
       " 'appreciate',\n",
       " 'appropriate',\n",
       " 'are',\n",
       " \"aren't\",\n",
       " 'around',\n",
       " 'as',\n",
       " 'aside',\n",
       " 'ask',\n",
       " 'asking',\n",
       " 'associated',\n",
       " 'at',\n",
       " 'available',\n",
       " 'away',\n",
       " 'awfully',\n",
       " 'b',\n",
       " 'be',\n",
       " 'became',\n",
       " 'because',\n",
       " 'become',\n",
       " 'becomes',\n",
       " 'becoming',\n",
       " 'been',\n",
       " 'before',\n",
       " 'beforehand',\n",
       " 'behind',\n",
       " 'being',\n",
       " 'believe',\n",
       " 'below',\n",
       " 'beside',\n",
       " 'besides',\n",
       " 'best',\n",
       " 'better',\n",
       " 'between',\n",
       " 'beyond',\n",
       " 'both',\n",
       " 'brief',\n",
       " 'but',\n",
       " 'by',\n",
       " 'c',\n",
       " \"c'mon\",\n",
       " \"c's\",\n",
       " 'came',\n",
       " 'can',\n",
       " \"can't\",\n",
       " 'cannot',\n",
       " 'cant',\n",
       " 'cause',\n",
       " 'causes',\n",
       " 'certain',\n",
       " 'certainly',\n",
       " 'changes',\n",
       " 'clearly',\n",
       " 'co',\n",
       " 'com',\n",
       " 'come',\n",
       " 'comes',\n",
       " 'concerning',\n",
       " 'consequently',\n",
       " 'consider',\n",
       " 'considering',\n",
       " 'contain',\n",
       " 'containing',\n",
       " 'contains',\n",
       " 'corresponding',\n",
       " 'could',\n",
       " \"couldn't\",\n",
       " 'course',\n",
       " 'currently',\n",
       " 'd',\n",
       " 'definitely',\n",
       " 'described',\n",
       " 'despite',\n",
       " 'did',\n",
       " \"didn't\",\n",
       " 'different',\n",
       " 'do',\n",
       " 'does',\n",
       " \"doesn't\",\n",
       " 'doing',\n",
       " \"don't\",\n",
       " 'done',\n",
       " 'down',\n",
       " 'downwards',\n",
       " 'during',\n",
       " 'e',\n",
       " 'each',\n",
       " 'edu',\n",
       " 'eg',\n",
       " 'eight',\n",
       " 'either',\n",
       " 'else',\n",
       " 'elsewhere',\n",
       " 'enough',\n",
       " 'entirely',\n",
       " 'especially',\n",
       " 'et',\n",
       " 'etc',\n",
       " 'even',\n",
       " 'ever',\n",
       " 'every',\n",
       " 'everybody',\n",
       " 'everyone',\n",
       " 'everything',\n",
       " 'everywhere',\n",
       " 'ex',\n",
       " 'exactly',\n",
       " 'example',\n",
       " 'except',\n",
       " 'f',\n",
       " 'far',\n",
       " 'few',\n",
       " 'fifth',\n",
       " 'first',\n",
       " 'five',\n",
       " 'followed',\n",
       " 'following',\n",
       " 'follows',\n",
       " 'for',\n",
       " 'former',\n",
       " 'formerly',\n",
       " 'forth',\n",
       " 'four',\n",
       " 'from',\n",
       " 'further',\n",
       " 'furthermore',\n",
       " 'g',\n",
       " 'get',\n",
       " 'gets',\n",
       " 'getting',\n",
       " 'given',\n",
       " 'gives',\n",
       " 'go',\n",
       " 'goes',\n",
       " 'going',\n",
       " 'gone',\n",
       " 'got',\n",
       " 'gotten',\n",
       " 'greetings',\n",
       " 'h',\n",
       " 'had',\n",
       " \"hadn't\",\n",
       " 'happens',\n",
       " 'hardly',\n",
       " 'has',\n",
       " \"hasn't\",\n",
       " 'have',\n",
       " \"haven't\",\n",
       " 'having',\n",
       " 'he',\n",
       " \"he's\",\n",
       " 'hello',\n",
       " 'help',\n",
       " 'hence',\n",
       " 'her',\n",
       " 'here',\n",
       " \"here's\",\n",
       " 'hereafter',\n",
       " 'hereby',\n",
       " 'herein',\n",
       " 'hereupon',\n",
       " 'hers',\n",
       " 'herself',\n",
       " 'hi',\n",
       " 'him',\n",
       " 'himself',\n",
       " 'his',\n",
       " 'hither',\n",
       " 'hopefully',\n",
       " 'how',\n",
       " 'howbeit',\n",
       " 'however',\n",
       " 'i',\n",
       " \"i'd\",\n",
       " \"i'll\",\n",
       " \"i'm\",\n",
       " \"i've\",\n",
       " 'ie',\n",
       " 'if',\n",
       " 'ignored',\n",
       " 'immediate',\n",
       " 'in',\n",
       " 'inasmuch',\n",
       " 'inc',\n",
       " 'indeed',\n",
       " 'indicate',\n",
       " 'indicated',\n",
       " 'indicates',\n",
       " 'inner',\n",
       " 'insofar',\n",
       " 'instead',\n",
       " 'into',\n",
       " 'inward',\n",
       " 'is',\n",
       " \"isn't\",\n",
       " 'it',\n",
       " \"it'd\",\n",
       " \"it'll\",\n",
       " \"it's\",\n",
       " 'its',\n",
       " 'itself',\n",
       " 'j',\n",
       " 'just',\n",
       " 'k',\n",
       " 'keep',\n",
       " 'keeps',\n",
       " 'kept',\n",
       " 'know',\n",
       " 'knows',\n",
       " 'known',\n",
       " 'l',\n",
       " 'last',\n",
       " 'lately',\n",
       " 'later',\n",
       " 'latter',\n",
       " 'latterly',\n",
       " 'least',\n",
       " 'less',\n",
       " 'lest',\n",
       " 'let',\n",
       " \"let's\",\n",
       " 'like',\n",
       " 'liked',\n",
       " 'likely',\n",
       " 'little',\n",
       " 'look',\n",
       " 'looking',\n",
       " 'looks',\n",
       " 'ltd',\n",
       " 'm',\n",
       " 'mainly',\n",
       " 'many',\n",
       " 'may',\n",
       " 'maybe',\n",
       " 'me',\n",
       " 'mean',\n",
       " 'meanwhile',\n",
       " 'merely',\n",
       " 'might',\n",
       " 'more',\n",
       " 'moreover',\n",
       " 'most',\n",
       " 'mostly',\n",
       " 'much',\n",
       " 'must',\n",
       " 'my',\n",
       " 'myself',\n",
       " 'n',\n",
       " 'name',\n",
       " 'namely',\n",
       " 'nd',\n",
       " 'near',\n",
       " 'nearly',\n",
       " 'necessary',\n",
       " 'need',\n",
       " 'needs',\n",
       " 'neither',\n",
       " 'never',\n",
       " 'nevertheless',\n",
       " 'new',\n",
       " 'next',\n",
       " 'nine',\n",
       " 'no',\n",
       " 'nobody',\n",
       " 'non',\n",
       " 'none',\n",
       " 'noone',\n",
       " 'nor',\n",
       " 'normally',\n",
       " 'not',\n",
       " 'nothing',\n",
       " 'novel',\n",
       " 'now',\n",
       " 'nowhere',\n",
       " 'o',\n",
       " 'obviously',\n",
       " 'of',\n",
       " 'off',\n",
       " 'often',\n",
       " 'oh',\n",
       " 'ok',\n",
       " 'okay',\n",
       " 'old',\n",
       " 'on',\n",
       " 'once',\n",
       " 'one',\n",
       " 'ones',\n",
       " 'only',\n",
       " 'onto',\n",
       " 'or',\n",
       " 'other',\n",
       " 'others',\n",
       " 'otherwise',\n",
       " 'ought',\n",
       " 'our',\n",
       " 'ours',\n",
       " 'ourselves',\n",
       " 'out',\n",
       " 'outside',\n",
       " 'over',\n",
       " 'overall',\n",
       " 'own',\n",
       " 'p',\n",
       " 'particular',\n",
       " 'particularly',\n",
       " 'per',\n",
       " 'perhaps',\n",
       " 'placed',\n",
       " 'please',\n",
       " 'plus',\n",
       " 'possible',\n",
       " 'presumably',\n",
       " 'probably',\n",
       " 'provides',\n",
       " 'q',\n",
       " 'que',\n",
       " 'quite',\n",
       " 'qv',\n",
       " 'r',\n",
       " 'rather',\n",
       " 'rd',\n",
       " 're',\n",
       " 'really',\n",
       " 'reasonably',\n",
       " 'regarding',\n",
       " 'regardless',\n",
       " 'regards',\n",
       " 'relatively',\n",
       " 'respectively',\n",
       " 'right',\n",
       " 's',\n",
       " 'said',\n",
       " 'same',\n",
       " 'saw',\n",
       " 'say',\n",
       " 'saying',\n",
       " 'says',\n",
       " 'second',\n",
       " 'secondly',\n",
       " 'see',\n",
       " 'seeing',\n",
       " 'seem',\n",
       " 'seemed',\n",
       " 'seeming',\n",
       " 'seems',\n",
       " 'seen',\n",
       " 'self',\n",
       " 'selves',\n",
       " 'sensible',\n",
       " 'sent',\n",
       " 'serious',\n",
       " 'seriously',\n",
       " 'seven',\n",
       " 'several',\n",
       " 'shall',\n",
       " 'she',\n",
       " 'should',\n",
       " \"shouldn't\",\n",
       " 'since',\n",
       " 'six',\n",
       " 'so',\n",
       " 'some',\n",
       " 'somebody',\n",
       " 'somehow',\n",
       " 'someone',\n",
       " 'something',\n",
       " 'sometime',\n",
       " 'sometimes',\n",
       " 'somewhat',\n",
       " 'somewhere',\n",
       " 'soon',\n",
       " 'sorry',\n",
       " 'specified',\n",
       " 'specify',\n",
       " 'specifying',\n",
       " 'still',\n",
       " 'sub',\n",
       " 'such',\n",
       " 'sup',\n",
       " 'sure',\n",
       " 't',\n",
       " \"t's\",\n",
       " 'take',\n",
       " 'taken',\n",
       " 'tell',\n",
       " 'tends',\n",
       " 'th',\n",
       " 'than',\n",
       " 'thank',\n",
       " 'thanks',\n",
       " 'thanx',\n",
       " 'that',\n",
       " \"that's\",\n",
       " 'thats',\n",
       " 'the',\n",
       " 'their',\n",
       " 'theirs',\n",
       " 'them',\n",
       " 'themselves',\n",
       " 'then',\n",
       " 'thence',\n",
       " 'there',\n",
       " \"there's\",\n",
       " 'thereafter',\n",
       " 'thereby',\n",
       " 'therefore',\n",
       " 'therein',\n",
       " 'theres',\n",
       " 'thereupon',\n",
       " 'these',\n",
       " 'they',\n",
       " \"they'd\",\n",
       " \"they'll\",\n",
       " \"they're\",\n",
       " \"they've\",\n",
       " 'think',\n",
       " 'third',\n",
       " 'this',\n",
       " 'thorough',\n",
       " 'thoroughly',\n",
       " 'those',\n",
       " 'though',\n",
       " 'three',\n",
       " 'through',\n",
       " 'throughout',\n",
       " 'thru',\n",
       " 'thus',\n",
       " 'to',\n",
       " 'together',\n",
       " 'too',\n",
       " 'took',\n",
       " 'toward',\n",
       " 'towards',\n",
       " 'tried',\n",
       " 'tries',\n",
       " 'truly',\n",
       " 'try',\n",
       " 'trying',\n",
       " 'twice',\n",
       " 'two',\n",
       " 'u',\n",
       " 'un',\n",
       " 'under',\n",
       " 'unfortunately',\n",
       " 'unless',\n",
       " 'unlikely',\n",
       " 'until',\n",
       " 'unto',\n",
       " 'up',\n",
       " 'upon',\n",
       " 'us',\n",
       " 'use',\n",
       " 'used',\n",
       " 'useful',\n",
       " 'uses',\n",
       " 'using',\n",
       " 'usually',\n",
       " 'uucp',\n",
       " 'v',\n",
       " 'value',\n",
       " 'various',\n",
       " 'very',\n",
       " 'via',\n",
       " 'viz',\n",
       " 'vs',\n",
       " 'w',\n",
       " 'want',\n",
       " 'wants',\n",
       " 'was',\n",
       " \"wasn't\",\n",
       " 'way',\n",
       " 'we',\n",
       " \"we'd\",\n",
       " \"we'll\",\n",
       " \"we're\",\n",
       " \"we've\",\n",
       " 'welcome',\n",
       " 'well',\n",
       " 'went',\n",
       " 'were',\n",
       " \"weren't\",\n",
       " 'what',\n",
       " \"what's\",\n",
       " 'whatever',\n",
       " 'when',\n",
       " 'whence',\n",
       " 'whenever',\n",
       " 'where',\n",
       " \"where's\",\n",
       " 'whereafter',\n",
       " 'whereas',\n",
       " 'whereby',\n",
       " 'wherein',\n",
       " 'whereupon',\n",
       " 'wherever',\n",
       " 'whether',\n",
       " 'which',\n",
       " 'while',\n",
       " 'whither',\n",
       " 'who',\n",
       " \"who's\",\n",
       " 'whoever',\n",
       " 'whole',\n",
       " 'whom',\n",
       " 'whose',\n",
       " 'why',\n",
       " 'will',\n",
       " 'willing',\n",
       " 'wish',\n",
       " 'with',\n",
       " 'within',\n",
       " 'without',\n",
       " \"won't\",\n",
       " 'wonder',\n",
       " 'would',\n",
       " 'would',\n",
       " \"wouldn't\",\n",
       " 'x',\n",
       " 'y',\n",
       " 'yes',\n",
       " 'yet',\n",
       " 'you',\n",
       " \"you'd\",\n",
       " \"you'll\",\n",
       " \"you're\",\n",
       " \"you've\",\n",
       " 'your',\n",
       " 'yours',\n",
       " 'yourself',\n",
       " 'yourselves',\n",
       " 'z',\n",
       " 'zero']"
      ]
     },
     "execution_count": 57,
     "metadata": {},
     "output_type": "execute_result"
    }
   ],
   "source": [
    "list_stopwords"
   ]
  },
  {
   "cell_type": "markdown",
   "metadata": {},
   "source": [
    "### ok julius cesar time "
   ]
  },
  {
   "cell_type": "markdown",
   "metadata": {},
   "source": [
    "How many words does Julius Caesar have? *Hint: use `flatMap()`*."
   ]
  },
  {
   "cell_type": "code",
   "execution_count": 51,
   "metadata": {
    "collapsed": true
   },
   "outputs": [],
   "source": [
    "# your turn\n",
    "juliusrdd = sc.textFile(\"./sparklect/shakes/juliuscaesar.txt\")"
   ]
  },
  {
   "cell_type": "code",
   "execution_count": 52,
   "metadata": {},
   "outputs": [
    {
     "data": {
      "text/plain": [
       "pyspark.rdd.RDD"
      ]
     },
     "execution_count": 52,
     "metadata": {},
     "output_type": "execute_result"
    }
   ],
   "source": [
    "type(juliusrdd)"
   ]
  },
  {
   "cell_type": "code",
   "execution_count": 58,
   "metadata": {},
   "outputs": [],
   "source": [
    "list_julius = juliusrdd.flatMap(lambda line: line.split()).collect()"
   ]
  },
  {
   "cell_type": "code",
   "execution_count": 59,
   "metadata": {},
   "outputs": [
    {
     "data": {
      "text/plain": [
       "['1599',\n",
       " 'THE',\n",
       " 'TRAGEDY',\n",
       " 'OF',\n",
       " 'JULIUS',\n",
       " 'CAESAR',\n",
       " 'by',\n",
       " 'William',\n",
       " 'Shakespeare',\n",
       " 'Dramatis',\n",
       " 'Personae',\n",
       " 'JULIUS',\n",
       " 'CAESAR,',\n",
       " 'Roman',\n",
       " 'statesman',\n",
       " 'and',\n",
       " 'general',\n",
       " 'OCTAVIUS,',\n",
       " 'Triumvir',\n",
       " 'after',\n",
       " \"Caesar's\",\n",
       " 'death,',\n",
       " 'later',\n",
       " 'Augustus',\n",
       " 'Caesar,',\n",
       " 'first',\n",
       " 'emperor',\n",
       " 'of',\n",
       " 'Rome',\n",
       " 'MARK',\n",
       " 'ANTONY,',\n",
       " 'general',\n",
       " 'and',\n",
       " 'friend',\n",
       " 'of',\n",
       " 'Caesar,',\n",
       " 'a',\n",
       " 'Triumvir',\n",
       " 'after',\n",
       " 'his',\n",
       " 'death',\n",
       " 'LEPIDUS,',\n",
       " 'third',\n",
       " 'member',\n",
       " 'of',\n",
       " 'the',\n",
       " 'Triumvirate',\n",
       " 'MARCUS',\n",
       " 'BRUTUS,',\n",
       " 'leader',\n",
       " 'of',\n",
       " 'the',\n",
       " 'conspiracy',\n",
       " 'against',\n",
       " 'Caesar',\n",
       " 'CASSIUS,',\n",
       " 'instigator',\n",
       " 'of',\n",
       " 'the',\n",
       " 'conspiracy',\n",
       " 'CASCA,',\n",
       " 'conspirator',\n",
       " 'against',\n",
       " 'Caesar',\n",
       " 'TREBONIUS,',\n",
       " '\"',\n",
       " '\"',\n",
       " '\"',\n",
       " 'CAIUS',\n",
       " 'LIGARIUS,',\n",
       " '\"',\n",
       " '\"',\n",
       " '\"',\n",
       " 'DECIUS',\n",
       " 'BRUTUS,',\n",
       " '\"',\n",
       " '\"',\n",
       " '\"',\n",
       " 'METELLUS',\n",
       " 'CIMBER,',\n",
       " '\"',\n",
       " '\"',\n",
       " '\"',\n",
       " 'CINNA,',\n",
       " '\"',\n",
       " '\"',\n",
       " '\"',\n",
       " 'CALPURNIA,',\n",
       " 'wife',\n",
       " 'of',\n",
       " 'Caesar',\n",
       " 'PORTIA,',\n",
       " 'wife',\n",
       " 'of',\n",
       " 'Brutus',\n",
       " 'CICERO,',\n",
       " 'senator',\n",
       " 'POPILIUS,',\n",
       " '\"',\n",
       " 'POPILIUS',\n",
       " 'LENA,',\n",
       " '\"',\n",
       " 'FLAVIUS,',\n",
       " 'tribune',\n",
       " 'MARULLUS,',\n",
       " 'tribune',\n",
       " 'CATO,',\n",
       " 'supportor',\n",
       " 'of',\n",
       " 'Brutus',\n",
       " 'LUCILIUS,',\n",
       " '\"',\n",
       " '\"',\n",
       " '\"',\n",
       " 'TITINIUS,',\n",
       " '\"',\n",
       " '\"',\n",
       " '\"',\n",
       " 'MESSALA,',\n",
       " '\"',\n",
       " '\"',\n",
       " '\"',\n",
       " 'VOLUMNIUS,',\n",
       " '\"',\n",
       " '\"',\n",
       " '\"',\n",
       " 'ARTEMIDORUS,',\n",
       " 'a',\n",
       " 'teacher',\n",
       " 'of',\n",
       " 'rhetoric',\n",
       " 'CINNA,',\n",
       " 'a',\n",
       " 'poet',\n",
       " 'VARRO,',\n",
       " 'servant',\n",
       " 'to',\n",
       " 'Brutus',\n",
       " 'CLITUS,',\n",
       " '\"',\n",
       " '\"',\n",
       " '\"',\n",
       " 'CLAUDIO,',\n",
       " '\"',\n",
       " '\"',\n",
       " '\"',\n",
       " 'STRATO,',\n",
       " '\"',\n",
       " '\"',\n",
       " '\"',\n",
       " 'LUCIUS,',\n",
       " '\"',\n",
       " '\"',\n",
       " '\"',\n",
       " 'DARDANIUS,',\n",
       " '\"',\n",
       " '\"',\n",
       " '\"',\n",
       " 'PINDARUS,',\n",
       " 'servant',\n",
       " 'to',\n",
       " 'Cassius',\n",
       " 'The',\n",
       " 'Ghost',\n",
       " 'of',\n",
       " 'Caesar',\n",
       " 'A',\n",
       " 'Soothsayer',\n",
       " 'A',\n",
       " 'Poet',\n",
       " 'Senators,',\n",
       " 'Citizens,',\n",
       " 'Soldiers,',\n",
       " 'Commoners,',\n",
       " 'Messengers,',\n",
       " 'and',\n",
       " 'Servants',\n",
       " '<<THIS',\n",
       " 'ELECTRONIC',\n",
       " 'VERSION',\n",
       " 'OF',\n",
       " 'THE',\n",
       " 'COMPLETE',\n",
       " 'WORKS',\n",
       " 'OF',\n",
       " 'WILLIAM',\n",
       " 'SHAKESPEARE',\n",
       " 'IS',\n",
       " 'COPYRIGHT',\n",
       " '1990-1993',\n",
       " 'BY',\n",
       " 'WORLD',\n",
       " 'LIBRARY,',\n",
       " 'INC.,',\n",
       " 'AND',\n",
       " 'IS',\n",
       " 'PROVIDED',\n",
       " 'BY',\n",
       " 'PROJECT',\n",
       " 'GUTENBERG',\n",
       " 'ETEXT',\n",
       " 'OF',\n",
       " 'CARNEGIE',\n",
       " 'MELLON',\n",
       " 'UNIVERSITY',\n",
       " 'WITH',\n",
       " 'PERMISSION.',\n",
       " 'ELECTRONIC',\n",
       " 'AND',\n",
       " 'MACHINE',\n",
       " 'READABLE',\n",
       " 'COPIES',\n",
       " 'MAY',\n",
       " 'BE',\n",
       " 'DISTRIBUTED',\n",
       " 'SO',\n",
       " 'LONG',\n",
       " 'AS',\n",
       " 'SUCH',\n",
       " 'COPIES',\n",
       " '(1)',\n",
       " 'ARE',\n",
       " 'FOR',\n",
       " 'YOUR',\n",
       " 'OR',\n",
       " 'OTHERS',\n",
       " 'PERSONAL',\n",
       " 'USE',\n",
       " 'ONLY,',\n",
       " 'AND',\n",
       " '(2)',\n",
       " 'ARE',\n",
       " 'NOT',\n",
       " 'DISTRIBUTED',\n",
       " 'OR',\n",
       " 'USED',\n",
       " 'COMMERCIALLY.',\n",
       " 'PROHIBITED',\n",
       " 'COMMERCIAL',\n",
       " 'DISTRIBUTION',\n",
       " 'INCLUDES',\n",
       " 'BY',\n",
       " 'ANY',\n",
       " 'SERVICE',\n",
       " 'THAT',\n",
       " 'CHARGES',\n",
       " 'FOR',\n",
       " 'DOWNLOAD',\n",
       " 'TIME',\n",
       " 'OR',\n",
       " 'FOR',\n",
       " 'MEMBERSHIP.>>',\n",
       " 'SCENE:',\n",
       " 'Rome,',\n",
       " 'the',\n",
       " \"conspirators'\",\n",
       " 'camp',\n",
       " 'near',\n",
       " 'Sardis,',\n",
       " 'and',\n",
       " 'the',\n",
       " 'plains',\n",
       " 'of',\n",
       " 'Philippi.',\n",
       " 'ACT',\n",
       " 'I.',\n",
       " 'SCENE',\n",
       " 'I.',\n",
       " 'Rome.',\n",
       " 'A',\n",
       " 'street.',\n",
       " 'Enter',\n",
       " 'Flavius,',\n",
       " 'Marullus,',\n",
       " 'and',\n",
       " 'certain',\n",
       " 'Commoners.',\n",
       " 'FLAVIUS.',\n",
       " 'Hence,',\n",
       " 'home,',\n",
       " 'you',\n",
       " 'idle',\n",
       " 'creatures,',\n",
       " 'get',\n",
       " 'you',\n",
       " 'home.',\n",
       " 'Is',\n",
       " 'this',\n",
       " 'a',\n",
       " 'holiday?',\n",
       " 'What,',\n",
       " 'know',\n",
       " 'you',\n",
       " 'not,',\n",
       " 'Being',\n",
       " 'mechanical,',\n",
       " 'you',\n",
       " 'ought',\n",
       " 'not',\n",
       " 'walk',\n",
       " 'Upon',\n",
       " 'a',\n",
       " 'laboring',\n",
       " 'day',\n",
       " 'without',\n",
       " 'the',\n",
       " 'sign',\n",
       " 'Of',\n",
       " 'your',\n",
       " 'profession?',\n",
       " 'Speak,',\n",
       " 'what',\n",
       " 'trade',\n",
       " 'art',\n",
       " 'thou?',\n",
       " 'FIRST',\n",
       " 'COMMONER.',\n",
       " 'Why,',\n",
       " 'sir,',\n",
       " 'a',\n",
       " 'carpenter.',\n",
       " 'MARULLUS.',\n",
       " 'Where',\n",
       " 'is',\n",
       " 'thy',\n",
       " 'leather',\n",
       " 'apron',\n",
       " 'and',\n",
       " 'thy',\n",
       " 'rule?',\n",
       " 'What',\n",
       " 'dost',\n",
       " 'thou',\n",
       " 'with',\n",
       " 'thy',\n",
       " 'best',\n",
       " 'apparel',\n",
       " 'on?',\n",
       " 'You,',\n",
       " 'sir,',\n",
       " 'what',\n",
       " 'trade',\n",
       " 'are',\n",
       " 'you?',\n",
       " 'SECOND',\n",
       " 'COMMONER.',\n",
       " 'Truly,',\n",
       " 'sir,',\n",
       " 'in',\n",
       " 'respect',\n",
       " 'of',\n",
       " 'a',\n",
       " 'fine',\n",
       " 'workman,',\n",
       " 'I',\n",
       " 'am',\n",
       " 'but,',\n",
       " 'as',\n",
       " 'you',\n",
       " 'would',\n",
       " 'say,',\n",
       " 'a',\n",
       " 'cobbler.',\n",
       " 'MARULLUS.',\n",
       " 'But',\n",
       " 'what',\n",
       " 'trade',\n",
       " 'art',\n",
       " 'thou?',\n",
       " 'Answer',\n",
       " 'me',\n",
       " 'directly.',\n",
       " 'SECOND',\n",
       " 'COMMONER.',\n",
       " 'A',\n",
       " 'trade,',\n",
       " 'sir,',\n",
       " 'that,',\n",
       " 'I',\n",
       " 'hope,',\n",
       " 'I',\n",
       " 'may',\n",
       " 'use',\n",
       " 'with',\n",
       " 'a',\n",
       " 'safe',\n",
       " 'conscience,',\n",
       " 'which',\n",
       " 'is',\n",
       " 'indeed,',\n",
       " 'sir,',\n",
       " 'a',\n",
       " 'mender',\n",
       " 'of',\n",
       " 'bad',\n",
       " 'soles.',\n",
       " 'MARULLUS.',\n",
       " 'What',\n",
       " 'trade,',\n",
       " 'thou',\n",
       " 'knave?',\n",
       " 'Thou',\n",
       " 'naughty',\n",
       " 'knave,',\n",
       " 'what',\n",
       " 'trade?',\n",
       " 'SECOND',\n",
       " 'COMMONER.',\n",
       " 'Nay,',\n",
       " 'I',\n",
       " 'beseech',\n",
       " 'you,',\n",
       " 'sir,',\n",
       " 'be',\n",
       " 'not',\n",
       " 'out',\n",
       " 'with',\n",
       " 'me;',\n",
       " 'yet,',\n",
       " 'if',\n",
       " 'you',\n",
       " 'be',\n",
       " 'out,',\n",
       " 'sir,',\n",
       " 'I',\n",
       " 'can',\n",
       " 'mend',\n",
       " 'you.',\n",
       " 'MARULLUS.',\n",
       " 'What',\n",
       " \"mean'st\",\n",
       " 'thou',\n",
       " 'by',\n",
       " 'that?',\n",
       " 'Mend',\n",
       " 'me,',\n",
       " 'thou',\n",
       " 'saucy',\n",
       " 'fellow!',\n",
       " 'SECOND',\n",
       " 'COMMONER.',\n",
       " 'Why,',\n",
       " 'sir,',\n",
       " 'cobble',\n",
       " 'you.',\n",
       " 'FLAVIUS.',\n",
       " 'Thou',\n",
       " 'art',\n",
       " 'a',\n",
       " 'cobbler,',\n",
       " 'art',\n",
       " 'thou?',\n",
       " 'SECOND',\n",
       " 'COMMONER.',\n",
       " 'Truly,',\n",
       " 'Sir,',\n",
       " 'all',\n",
       " 'that',\n",
       " 'I',\n",
       " 'live',\n",
       " 'by',\n",
       " 'is',\n",
       " 'with',\n",
       " 'the',\n",
       " 'awl;',\n",
       " 'I',\n",
       " 'meddle',\n",
       " 'with',\n",
       " 'no',\n",
       " \"tradesman's\",\n",
       " 'matters,',\n",
       " 'nor',\n",
       " \"women's\",\n",
       " 'matters,',\n",
       " 'but',\n",
       " 'with',\n",
       " 'awl.',\n",
       " 'I',\n",
       " 'am',\n",
       " 'indeed,',\n",
       " 'sir,',\n",
       " 'a',\n",
       " 'surgeon',\n",
       " 'to',\n",
       " 'old',\n",
       " 'shoes;',\n",
       " 'when',\n",
       " 'they',\n",
       " 'are',\n",
       " 'in',\n",
       " 'great',\n",
       " 'danger,',\n",
       " 'I',\n",
       " 'recover',\n",
       " 'them.',\n",
       " 'As',\n",
       " 'proper',\n",
       " 'men',\n",
       " 'as',\n",
       " 'ever',\n",
       " 'trod',\n",
       " 'upon',\n",
       " \"neat's\",\n",
       " 'leather',\n",
       " 'have',\n",
       " 'gone',\n",
       " 'upon',\n",
       " 'my',\n",
       " 'handiwork.',\n",
       " 'FLAVIUS.',\n",
       " 'But',\n",
       " 'wherefore',\n",
       " 'art',\n",
       " 'not',\n",
       " 'in',\n",
       " 'thy',\n",
       " 'shop',\n",
       " 'today?',\n",
       " 'Why',\n",
       " 'dost',\n",
       " 'thou',\n",
       " 'lead',\n",
       " 'these',\n",
       " 'men',\n",
       " 'about',\n",
       " 'the',\n",
       " 'streets?',\n",
       " 'SECOND',\n",
       " 'COMMONER.',\n",
       " 'Truly,',\n",
       " 'sir,',\n",
       " 'to',\n",
       " 'wear',\n",
       " 'out',\n",
       " 'their',\n",
       " 'shoes',\n",
       " 'to',\n",
       " 'get',\n",
       " 'myself',\n",
       " 'into',\n",
       " 'more',\n",
       " 'work.',\n",
       " 'But',\n",
       " 'indeed,',\n",
       " 'sir,',\n",
       " 'we',\n",
       " 'make',\n",
       " 'holiday',\n",
       " 'to',\n",
       " 'see',\n",
       " 'Caesar',\n",
       " 'and',\n",
       " 'to',\n",
       " 'rejoice',\n",
       " 'in',\n",
       " 'his',\n",
       " 'triumph.',\n",
       " 'MARULLUS.',\n",
       " 'Wherefore',\n",
       " 'rejoice?',\n",
       " 'What',\n",
       " 'conquest',\n",
       " 'brings',\n",
       " 'he',\n",
       " 'home?',\n",
       " 'What',\n",
       " 'tributaries',\n",
       " 'follow',\n",
       " 'him',\n",
       " 'to',\n",
       " 'Rome',\n",
       " 'To',\n",
       " 'grace',\n",
       " 'in',\n",
       " 'captive',\n",
       " 'bonds',\n",
       " 'his',\n",
       " 'chariot',\n",
       " 'wheels?',\n",
       " 'You',\n",
       " 'blocks,',\n",
       " 'you',\n",
       " 'stones,',\n",
       " 'you',\n",
       " 'worse',\n",
       " 'than',\n",
       " 'senseless',\n",
       " 'things!',\n",
       " 'O',\n",
       " 'you',\n",
       " 'hard',\n",
       " 'hearts,',\n",
       " 'you',\n",
       " 'cruel',\n",
       " 'men',\n",
       " 'of',\n",
       " 'Rome,',\n",
       " 'Knew',\n",
       " 'you',\n",
       " 'not',\n",
       " 'Pompey?',\n",
       " 'Many',\n",
       " 'a',\n",
       " 'time',\n",
       " 'and',\n",
       " 'oft',\n",
       " 'Have',\n",
       " 'you',\n",
       " \"climb'd\",\n",
       " 'up',\n",
       " 'to',\n",
       " 'walls',\n",
       " 'and',\n",
       " 'battlements,',\n",
       " 'To',\n",
       " 'towers',\n",
       " 'and',\n",
       " 'windows,',\n",
       " 'yea,',\n",
       " 'to',\n",
       " 'chimney',\n",
       " 'tops,',\n",
       " 'Your',\n",
       " 'infants',\n",
       " 'in',\n",
       " 'your',\n",
       " 'arms,',\n",
       " 'and',\n",
       " 'there',\n",
       " 'have',\n",
       " 'sat',\n",
       " 'The',\n",
       " 'livelong',\n",
       " 'day',\n",
       " 'with',\n",
       " 'patient',\n",
       " 'expectation',\n",
       " 'To',\n",
       " 'see',\n",
       " 'great',\n",
       " 'Pompey',\n",
       " 'pass',\n",
       " 'the',\n",
       " 'streets',\n",
       " 'of',\n",
       " 'Rome.',\n",
       " 'And',\n",
       " 'when',\n",
       " 'you',\n",
       " 'saw',\n",
       " 'his',\n",
       " 'chariot',\n",
       " 'but',\n",
       " 'appear,',\n",
       " 'Have',\n",
       " 'you',\n",
       " 'not',\n",
       " 'made',\n",
       " 'an',\n",
       " 'universal',\n",
       " 'shout',\n",
       " 'That',\n",
       " 'Tiber',\n",
       " 'trembled',\n",
       " 'underneath',\n",
       " 'her',\n",
       " 'banks',\n",
       " 'To',\n",
       " 'hear',\n",
       " 'the',\n",
       " 'replication',\n",
       " 'of',\n",
       " 'your',\n",
       " 'sounds',\n",
       " 'Made',\n",
       " 'in',\n",
       " 'her',\n",
       " 'concave',\n",
       " 'shores?',\n",
       " 'And',\n",
       " 'do',\n",
       " 'you',\n",
       " 'now',\n",
       " 'put',\n",
       " 'on',\n",
       " 'your',\n",
       " 'best',\n",
       " 'attire?',\n",
       " 'And',\n",
       " 'do',\n",
       " 'you',\n",
       " 'now',\n",
       " 'cull',\n",
       " 'out',\n",
       " 'a',\n",
       " 'holiday?',\n",
       " 'And',\n",
       " 'do',\n",
       " 'you',\n",
       " 'now',\n",
       " 'strew',\n",
       " 'flowers',\n",
       " 'in',\n",
       " 'his',\n",
       " 'way',\n",
       " 'That',\n",
       " 'comes',\n",
       " 'in',\n",
       " 'triumph',\n",
       " 'over',\n",
       " \"Pompey's\",\n",
       " 'blood?',\n",
       " 'Be',\n",
       " 'gone!',\n",
       " 'Run',\n",
       " 'to',\n",
       " 'your',\n",
       " 'houses,',\n",
       " 'fall',\n",
       " 'upon',\n",
       " 'your',\n",
       " 'knees,',\n",
       " 'Pray',\n",
       " 'to',\n",
       " 'the',\n",
       " 'gods',\n",
       " 'to',\n",
       " 'intermit',\n",
       " 'the',\n",
       " 'plague',\n",
       " 'That',\n",
       " 'needs',\n",
       " 'must',\n",
       " 'light',\n",
       " 'on',\n",
       " 'this',\n",
       " 'ingratitude.',\n",
       " 'FLAVIUS.',\n",
       " 'Go,',\n",
       " 'go,',\n",
       " 'good',\n",
       " 'countrymen,',\n",
       " 'and,',\n",
       " 'for',\n",
       " 'this',\n",
       " 'fault,',\n",
       " 'Assemble',\n",
       " 'all',\n",
       " 'the',\n",
       " 'poor',\n",
       " 'men',\n",
       " 'of',\n",
       " 'your',\n",
       " 'sort,',\n",
       " 'Draw',\n",
       " 'them',\n",
       " 'to',\n",
       " 'Tiber',\n",
       " 'banks,',\n",
       " 'and',\n",
       " 'weep',\n",
       " 'your',\n",
       " 'tears',\n",
       " 'Into',\n",
       " 'the',\n",
       " 'channel,',\n",
       " 'till',\n",
       " 'the',\n",
       " 'lowest',\n",
       " 'stream',\n",
       " 'Do',\n",
       " 'kiss',\n",
       " 'the',\n",
       " 'most',\n",
       " 'exalted',\n",
       " 'shores',\n",
       " 'of',\n",
       " 'all.',\n",
       " 'Exeunt',\n",
       " 'all',\n",
       " 'Commoners.',\n",
       " 'See',\n",
       " 'whether',\n",
       " 'their',\n",
       " 'basest',\n",
       " 'metal',\n",
       " 'be',\n",
       " 'not',\n",
       " 'moved;',\n",
       " 'They',\n",
       " 'vanish',\n",
       " 'tongue-tied',\n",
       " 'in',\n",
       " 'their',\n",
       " 'guiltiness.',\n",
       " 'Go',\n",
       " 'you',\n",
       " 'down',\n",
       " 'that',\n",
       " 'way',\n",
       " 'towards',\n",
       " 'the',\n",
       " 'Capitol;',\n",
       " 'This',\n",
       " 'way',\n",
       " 'will',\n",
       " 'I.',\n",
       " 'Disrobe',\n",
       " 'the',\n",
       " 'images',\n",
       " 'If',\n",
       " 'you',\n",
       " 'do',\n",
       " 'find',\n",
       " 'them',\n",
       " \"deck'd\",\n",
       " 'with',\n",
       " 'ceremonies.',\n",
       " 'MARULLUS.',\n",
       " 'May',\n",
       " 'we',\n",
       " 'do',\n",
       " 'so?',\n",
       " 'You',\n",
       " 'know',\n",
       " 'it',\n",
       " 'is',\n",
       " 'the',\n",
       " 'feast',\n",
       " 'of',\n",
       " 'Lupercal.',\n",
       " 'FLAVIUS.',\n",
       " 'It',\n",
       " 'is',\n",
       " 'no',\n",
       " 'matter;',\n",
       " 'let',\n",
       " 'no',\n",
       " 'images',\n",
       " 'Be',\n",
       " 'hung',\n",
       " 'with',\n",
       " \"Caesar's\",\n",
       " 'trophies.',\n",
       " \"I'll\",\n",
       " 'about',\n",
       " 'And',\n",
       " 'drive',\n",
       " 'away',\n",
       " 'the',\n",
       " 'vulgar',\n",
       " 'from',\n",
       " 'the',\n",
       " 'streets;',\n",
       " 'So',\n",
       " 'do',\n",
       " 'you',\n",
       " 'too,',\n",
       " 'where',\n",
       " 'you',\n",
       " 'perceive',\n",
       " 'them',\n",
       " 'thick.',\n",
       " 'These',\n",
       " 'growing',\n",
       " 'feathers',\n",
       " \"pluck'd\",\n",
       " 'from',\n",
       " \"Caesar's\",\n",
       " 'wing',\n",
       " 'Will',\n",
       " 'make',\n",
       " 'him',\n",
       " 'fly',\n",
       " 'an',\n",
       " 'ordinary',\n",
       " 'pitch,',\n",
       " 'Who',\n",
       " 'else',\n",
       " 'would',\n",
       " 'soar',\n",
       " 'above',\n",
       " 'the',\n",
       " 'view',\n",
       " 'of',\n",
       " 'men',\n",
       " 'And',\n",
       " 'keep',\n",
       " 'us',\n",
       " 'all',\n",
       " 'in',\n",
       " 'servile',\n",
       " 'fearfulness.',\n",
       " 'Exeunt.',\n",
       " 'SCENE',\n",
       " 'II.',\n",
       " 'A',\n",
       " 'public',\n",
       " 'place.',\n",
       " 'Flourish.',\n",
       " 'Enter',\n",
       " 'Caesar;',\n",
       " 'Antony,',\n",
       " 'for',\n",
       " 'the',\n",
       " 'course;',\n",
       " 'Calpurnia,',\n",
       " 'Portia,',\n",
       " 'Decius,',\n",
       " 'Cicero,',\n",
       " 'Brutus,',\n",
       " 'Cassius,',\n",
       " 'and',\n",
       " 'Casca;',\n",
       " 'a',\n",
       " 'great',\n",
       " 'crowd',\n",
       " 'follows,',\n",
       " 'among',\n",
       " 'them',\n",
       " 'a',\n",
       " 'Soothsayer.',\n",
       " 'CAESAR.',\n",
       " 'Calpurnia!',\n",
       " 'CASCA.',\n",
       " 'Peace,',\n",
       " 'ho!',\n",
       " 'Caesar',\n",
       " 'speaks.',\n",
       " 'Music',\n",
       " 'ceases.',\n",
       " 'CAESAR.',\n",
       " 'Calpurnia!',\n",
       " 'CALPURNIA.',\n",
       " 'Here,',\n",
       " 'my',\n",
       " 'lord.',\n",
       " 'CAESAR.',\n",
       " 'Stand',\n",
       " 'you',\n",
       " 'directly',\n",
       " 'in',\n",
       " \"Antonio's\",\n",
       " 'way,',\n",
       " 'When',\n",
       " 'he',\n",
       " 'doth',\n",
       " 'run',\n",
       " 'his',\n",
       " 'course.',\n",
       " 'Antonio!',\n",
       " 'ANTONY.',\n",
       " 'Caesar,',\n",
       " 'my',\n",
       " 'lord?',\n",
       " 'CAESAR.',\n",
       " 'Forget',\n",
       " 'not',\n",
       " 'in',\n",
       " 'your',\n",
       " 'speed,',\n",
       " 'Antonio,',\n",
       " 'To',\n",
       " 'touch',\n",
       " 'Calpurnia,',\n",
       " 'for',\n",
       " 'our',\n",
       " 'elders',\n",
       " 'say',\n",
       " 'The',\n",
       " 'barren,',\n",
       " 'touched',\n",
       " 'in',\n",
       " 'this',\n",
       " 'holy',\n",
       " 'chase,',\n",
       " 'Shake',\n",
       " 'off',\n",
       " 'their',\n",
       " 'sterile',\n",
       " 'curse.',\n",
       " 'ANTONY.',\n",
       " 'I',\n",
       " 'shall',\n",
       " 'remember.',\n",
       " 'When',\n",
       " 'Caesar',\n",
       " 'says',\n",
       " '\"Do',\n",
       " 'this,\"',\n",
       " 'it',\n",
       " 'is',\n",
       " \"perform'd.\",\n",
       " 'CAESAR.',\n",
       " 'Set',\n",
       " 'on,',\n",
       " 'and',\n",
       " 'leave',\n",
       " 'no',\n",
       " 'ceremony',\n",
       " ...]"
      ]
     },
     "execution_count": 59,
     "metadata": {},
     "output_type": "execute_result"
    }
   ],
   "source": [
    "list_julius"
   ]
  },
  {
   "cell_type": "markdown",
   "metadata": {},
   "source": [
    "Now print the first 20 words of Julius Caesar as a Python list."
   ]
  },
  {
   "cell_type": "code",
   "execution_count": 62,
   "metadata": {},
   "outputs": [
    {
     "data": {
      "text/plain": [
       "['1599',\n",
       " 'THE',\n",
       " 'TRAGEDY',\n",
       " 'OF',\n",
       " 'JULIUS',\n",
       " 'CAESAR',\n",
       " 'by',\n",
       " 'William',\n",
       " 'Shakespeare',\n",
       " 'Dramatis',\n",
       " 'Personae',\n",
       " 'JULIUS',\n",
       " 'CAESAR,',\n",
       " 'Roman',\n",
       " 'statesman',\n",
       " 'and',\n",
       " 'general',\n",
       " 'OCTAVIUS,',\n",
       " 'Triumvir',\n",
       " 'after']"
      ]
     },
     "execution_count": 62,
     "metadata": {},
     "output_type": "execute_result"
    }
   ],
   "source": [
    "# your turn\n",
    "list_julius[:20]"
   ]
  },
  {
   "cell_type": "markdown",
   "metadata": {},
   "source": [
    "Now print the first 20 words of Julius Caesar, **after removing all the stopwords**. *Hint: use `filter()`*."
   ]
  },
  {
   "cell_type": "code",
   "execution_count": 77,
   "metadata": {},
   "outputs": [],
   "source": [
    "filtered_list = list(filter(lambda x: x not in list_stopwords, list_julius))"
   ]
  },
  {
   "cell_type": "code",
   "execution_count": 82,
   "metadata": {},
   "outputs": [
    {
     "data": {
      "text/plain": [
       "['1599',\n",
       " 'THE',\n",
       " 'TRAGEDY',\n",
       " 'OF',\n",
       " 'JULIUS',\n",
       " 'CAESAR',\n",
       " 'William',\n",
       " 'Shakespeare',\n",
       " 'Dramatis',\n",
       " 'Personae',\n",
       " 'JULIUS',\n",
       " 'CAESAR,',\n",
       " 'Roman',\n",
       " 'statesman',\n",
       " 'general',\n",
       " 'OCTAVIUS,',\n",
       " 'Triumvir',\n",
       " \"Caesar's\",\n",
       " 'death,',\n",
       " 'Augustus']"
      ]
     },
     "execution_count": 82,
     "metadata": {},
     "output_type": "execute_result"
    }
   ],
   "source": [
    "filtered_list[0:20]"
   ]
  },
  {
   "cell_type": "markdown",
   "metadata": {},
   "source": [
    "Now, use the word counting MapReduce code you've seen before. Count the number of times each word occurs and print the top 20 results as a list of tuples of the form `(word, count)`. *Hint: use `takeOrdered()` instead of `take()`*"
   ]
  },
  {
   "cell_type": "code",
   "execution_count": 83,
   "metadata": {},
   "outputs": [
    {
     "name": "stdout",
     "output_type": "stream",
     "text": [
      "[('JULIUS', 2), ('Shakespeare', 1), ('statesman', 1), ('MARCUS', 1), ('BRUTUS,', 2), ('CASSIUS,', 1), ('instigator', 1), ('CALPURNIA,', 1), ('PORTIA,', 1), ('LENA,', 1), ('MARULLUS,', 1), ('MESSALA,', 1), ('poet', 1), ('CLITUS,', 1), ('CLAUDIO,', 1), ('DARDANIUS,', 1), ('PINDARUS,', 1), ('Ghost', 2), ('Commoners,', 1), ('Servants', 1), ('VERSION', 5), ('WILLIAM', 5), ('WORLD', 5), ('PROVIDED', 5), ('UNIVERSITY', 5), ('PERMISSION.', 5), ('READABLE', 5), ('AS', 5), ('ARE', 10), ('YOUR', 5), ('OTHERS', 5), ('(2)', 5), ('THAT', 5), ('SCENE:', 1), ('Sardis,', 2), ('Philippi.', 6), ('ACT', 5), ('FLAVIUS.', 5), ('home.', 2), ('walk', 7), ('Upon', 12), ('sign', 4), ('Speak,', 4), ('trade', 3), ('What', 52), ('dost', 7), ('on?', 2), ('You,', 1), ('you?', 8), ('workman,', 1), ('but,', 4), ('safe', 2), ('indeed,', 5), ('mender', 1), ('knave?', 1), ('Thou', 12), ('yet,', 3), ('out,', 6), ('Mend', 1), ('cobble', 1), ('Sir,', 4), (\"tradesman's\", 1), ('them.', 11), ('trod', 1), ('wherefore', 3), ('shop', 1), ('today?', 1), ('wear', 4), ('shoes', 1), ('home?', 2), ('tributaries', 1), ('wheels?', 1), ('worse', 3), ('senseless', 1), ('O', 48), ('battlements,', 1), ('towers', 1), ('yea,', 2), ('arms,', 2), ('livelong', 1), ('And', 200), ('universal', 1), ('put', 15), ('flowers', 1), ('gone!', 2), ('ingratitude.', 1), ('good', 43), ('countrymen,', 6), ('banks,', 1), ('till', 18), ('shores', 1), ('metal', 1), ('They', 21), ('vanish', 1), ('Capitol;', 3), ('Disrobe', 1), (\"deck'd\", 1), ('ceremonies.', 3), ('May', 3), ('Lupercal.', 1), ('It', 33), ('These', 7), ('Will', 15), ('fly', 3), ('fearfulness.', 1), ('Exeunt.', 14), ('Antony,', 27), ('Decius,', 5), ('Cicero,', 2), ('Cassius,', 37), ('Calpurnia!', 3), ('Peace,', 7), ('ho!', 14), ('ceases.', 1), ('CALPURNIA.', 6), ('When', 27), ('Antonio!', 2), ('touched', 1), ('chase,', 1), ('remember.', 2), (\"perform'd.\", 1), ('leave', 15), ('ceremony', 1), ('out.', 4), ('SOOTHSAYER.', 9), ('calls', 1), ('me?', 7), ('tongue,', 1), ('hear.', 2), ('Fellow,', 2), ('throng;', 1), (\"say'st\", 1), ('now?', 2), ('Pass.', 1), ('Not', 8), ('pray', 6), ('gamesome;', 1), ('quick', 2), ('spirit', 10), ('eyes', 8), ('turn', 8), ('trouble', 3), ('Which', 21), ('give', 22), ('Among', 1), ('number,', 1), ('Forgets', 1), ('passion,', 1), ('whereof', 1), ('Thoughts', 1), ('lamented,', 1), ('yoke,', 1), ('eyes.', 2), ('prepared', 1), ('hear,', 2), ('glass', 1), ('modestly', 1), ('of.', 3), ('jealous', 1), ('Brutus;', 4), ('common', 9), ('stale', 1), ('oaths', 1), ('long?', 1), ('impart', 1), (\"i'\", 2), ('indifferently.', 1), ('favor.', 2), ('subject', 1), ('life,', 3), ('free', 2), ('Endure', 1), ('raw', 2), ('shores,', 1), ('plunged', 1), ('did.', 2), ('proposed,', 1), ('cried,', 4), ('waves', 1), ('creature', 2), ('bend', 3), ('fever', 1), ('mark', 5), ('shake.', 1), ('lips', 3), ('color', 2), ('lose', 4), ('luster.', 1), ('girl.', 1), ('amaze', 1), ('start', 2), ('Another', 5), ('peep', 1), ('dishonorable', 1), ('underlings.', 1), ('Caesar:', 1), ('name;', 1), ('mouth', 2), ('\"Brutus\"', 1), ('feed', 1), ('hast', 13), ('lost', 2), ('work', 6), ('thought', 6), ('times,', 1), ('recount', 1), ('chew', 1), ('villager', 1), ('conditions', 1), ('fire', 11), ('Train.', 1), ('done,', 5), ('by,', 1), ('Casca', 5), ('fashion,', 2), ('spot', 2), ('chidden', 1), ('pale,', 1), ('Looks', 2), ('ferret', 1), ('matter', 4), ('fat,', 1), ('Yond', 1), ('hungry', 1), ('look;', 1), ('spare', 1), ('dost,', 1), (\"scorn'd\", 1), ('Such', 7), (\"heart's\", 1), ('behold', 4), (\"fear'd\", 2), ('deaf,', 1), ('chanced', 1), ('chanced.', 3), ('offered', 7), ('ashouting.', 1), ('cry', 5), ('Was', 4), ('thrice,', 1), ('gentler', 1), ('putting', 1), ('crown?', 1), ('it,', 8), ('coronets)', 1), ('again;', 3), ('fingers', 3), ('refused', 3), ('rabblement', 1), ('nightcaps', 1), ('uttered', 1), ('part,', 7), ('air.', 1), ('wound?', 1), ('speechless.', 1), ('down.', 5), ('pleased', 1), ('players', 1), ('theatre,', 1), ('perceived', 1), ('crown,', 2), ('plucked', 1), ('throat', 1), ('worships', 1), ('infirmity.', 1), ('stood', 3), ('soul!\"', 1), ('forgave', 1), ('less.', 1), ('sad,', 1), ('anything?', 4), ('tonight,', 2), ('promised', 1), ('mind', 4), ('hold,', 1), ('eating.', 1), ('both.', 1), ('enterprise,', 3), ('rudeness', 1), ('wit,', 2), ('noble;', 1), ('disposed;', 1), ('hard,', 3), ('Writings,', 1), ('opinion', 3), ('holds', 2), ('days', 4), ('Enter,', 2), ('stare', 1), ('earth', 4), ('Shakes', 1), ('unfirm?', 1), ('rived', 2), ('knotty', 1), ('rage', 2), ('threatening', 1), ('dropping', 1), ('Or', 6), ('send', 9), ('destruction.', 1), ('wonderful?', 1), ('Held', 1), ('twenty', 2), ('torches', 1), (\"unscorch'd.\", 1), (\"ha'\", 1), ('Without', 1), ('women', 2), ('streets.', 3), ('bird', 1), ('shrieking.', 1), ('conjointly', 1), ('meet,', 1), ('reasons;', 2), ('Unto', 4), ('strange-disposed', 1), ('bid', 12), ('this!', 2), ('pleasing', 1), ('heavens', 3), (\"walk'd\", 2), ('streets,', 2), ('bared', 1), ('bosom', 2), ('thunderstone;', 1), ('flash', 1), ('heavens?', 1), ('mighty', 12), ('tokens', 1), ('dreadful', 4), ('sparks', 1), ('not.', 12), ('pale', 1), ('cast', 2), ('heavens.', 1), ('gliding', 1), ('birds', 1), ('quality', 3), ('kind,', 1), ('fools,', 1), ('natures,', 1), ('preformed', 1), ('lightens,', 1), ('graves,', 1), ('lion', 1), ('mightier', 1), ('mean,', 1), ('Cassius?', 3), ('ancestors.', 2), ('while!', 1), ('dead,', 6), (\"mothers'\", 1), ('womanish.', 1), ('Indeed', 2), ('king,', 1), ('sea', 2), ('save', 2), ('ye', 6), ('defeat.', 1), ('tower,', 1), ('retentive', 1), ('weary', 2), ('bars,', 1), ('Never', 3), ('dismiss', 1), ('itself.', 1), ('this,', 9), ('besides,', 1), ('tyranny', 2), ('pleasure.', 3), ('bondman', 1), ('hinds.', 1), ('grief,', 2), ('led', 3), ('bondman;', 2), ('made.', 4), (\"arm'd,\", 1), ('hand.', 5), ('factious', 1), ('set', 6), (\"There's\", 3), (\"favor's\", 1), ('fiery,', 1), ('terrible.', 2), ('haste.', 2), ('friend.', 4), ('Metellus', 8), ('incorporate', 2), ('party-', 1), ('throw', 1), ('window;', 1), ('wax', 1), ('Trebonius', 3), ('repair', 1), ('Theatre.', 1), ('encounter', 1), ('ours.', 1), ('sits', 1), (\"people's\", 1), ('offense', 3), ('countenance,', 1), ('richest', 1), ('Him', 1), ('awake', 4), ('cannot,', 1), ('fault', 1), ('When,', 1), ('Awake,', 1), ('Get', 3), ('here.', 4), ('spurn', 2), ('adder', 1), ('danger', 1), (\"sway'd\", 1), (\"'tis\", 13), ('young', 10), ('ladder,', 1), ('turns', 3), ('upmost', 1), ('back,', 2), ('scorning', 1), ('degrees', 1), ('extremities;', 1), ('kill', 5), ('closet,', 2), ('Gives', 1), ('boy,', 7), ('whizzing', 1), ('letter', 1), ('etc.', 1), ('redress!\"', 2), ('awake!\"', 1), ('etc.\"', 1), ('ancestors', 1), ('strike?', 1), ('Brutus!', 4), ('March', 5), ('wasted', 1), ('gate,', 1), ('Since', 1), ('slept.', 1), ('acting', 1), ('interim', 1), ('genius', 1), ('enter.', 1), ('evils', 2), ('free?', 1), ('mask', 1), ('visage?', 1), ('path,', 1), ('native', 1), ('semblance', 1), ('prevention.', 2), ('hither.', 1), ('cares', 1), ('whisper.', 1), ('DECIUS.', 12), ('Doth', 2), ('confess', 2), ('sun', 2), ('months', 1), ('fire,', 3), ('east', 1), ('resolution.', 1), ('betimes,', 1), ('women,', 1), ('redress?', 2), ('oath', 1), ('Swear', 1), ('carrions', 1), ('souls', 1), ('performance', 1), ('oath;', 2), ('nobly', 1), ('sound', 2), ('him?', 6), ('means.', 2), ('silver', 1), ('opinion,', 1), (\"men's\", 2), ('judgement', 1), ('beloved', 1), ('Should', 4), ('shrewd', 1), ('means,', 2), ('head', 2), ('alas,', 3), ('boldly,', 1), ('carve', 1), ('hew', 1), ('carcass', 1), ('hounds;', 1), ('subtle', 1), ('off.', 4), ('ingrated', 1), ('Caesar-', 3), ('wildness,', 1), ('TREBONIUS.', 4), ('him-let', 1), ('Clock', 1), ('clock.', 1), ('doubtful', 1), ('fantasy,', 1), (\"unaccustom'd\", 1), ('persuasion', 1), ('resolved,', 1), (\"o'ersway\", 1), ('elephants', 1), ('holes,', 1), ('utter', 1), ('hither,', 5), ('yourselves,', 1), ('Romans.', 1), ('gentlemen,', 2), ('purposes,', 1), ('untired', 1), ('formal', 1), ('morrow', 3), ('figures', 1), ('Portia.', 3), ('neither.', 1), ('stared', 1), ('urged', 1), ('further;', 1), ('head,', 1), (\"answer'd\", 3), ('enkindled,', 1), ('humor,', 2), ('shape', 1), ('lord,', 11), ('acquainted', 1), ('wise,', 2), ('unbraced', 1), ('dare', 4), ('rheumy', 1), ('one,', 1), ('resort', 1), ('darkness.', 1), ('Within', 2), ('excepted', 1), ('sometimes?', 1), ('suburbs', 1), ('ruddy', 1), ('reputed,', 1), (\"Cato's\", 2), ('daughter.', 1), ('stronger', 1), ('disclose', 1), ('constancy,', 2), ('voluntary', 1), ('thigh.', 1), ('Render', 1), ('partake', 1), ('Portia.]', 1), ('knocks?', 1), ('aside.', 1), ('how?', 1), ('LIGARIUS.', 5), ('Caius,', 2), ('kerchief!', 1), ('Any', 1), ('Had', 4), ('sickness!', 1), ('derived', 1), ('Thou,', 1), ('exorcist,', 1), ('run,', 2), ('strive', 1), ('impossible,', 1), (\"What's\", 2), ('sick?', 1), ('done.', 2), ('heart', 17), ('Follow', 1), ('tonight.', 2), ('Servant.', 5), ('sacrifice,', 1), ('success.', 1), ('forth?', 2), ('forth:', 1), ('vanished.', 1), ('ceremonies,', 1), ('Besides', 1), ('sights', 1), ('graves', 1), ('yielded', 1), ('war,', 2), ('ghosts', 1), ('avoided', 1), ('Whose', 3), ('gods?', 1), ('blaze', 1), ('offering', 1), ('lions', 1), ('elder', 2), ('consumed', 1), ('confidence.', 1), ('House,', 2), ('knee,', 1), ('Say', 4), (\"stretch'd\", 1), ('truth?', 1), ('will:', 1), ('come,', 6), ('Senate.', 1), ('Because', 2), ('home;', 1), ('portents', 1), ('imminent,', 1), ('Hath', 6), (\"begg'd\", 1), ('vision', 1), ('fortunate.', 1), ('tinctures,', 1), ('Besides,', 1), (\"render'd,\", 1), ('\"Break', 1), ('yield', 2), ('Publius,', 4), ('Trebonius,', 3), ('PUBLIUS.', 2), ('Welcome,', 3), ('too?', 1), (\"is't\", 2), ('pains', 1), ('long', 1), ('prepare', 2), ('for.', 3), ('store', 2), ('will.', 9), ('straightway', 1), ('\"Caesar,', 1), ('wronged', 1), ('immortal,', 1), ('thee!', 2), ('Out', 1), ('traitors', 2), ('errand,', 1), ('there,', 4), ('might.', 1), ('counsel!', 1), ('yet?', 1), ('forth;', 3), ('rumor', 1), ('fellow;', 1), ('At', 2), ('lady.', 3), ('About', 2), ('yet.', 1), ('befriend', 1), (\"harm's\", 1), ('throng', 2), ('along.', 2), ('is!', 1), ('enterprise!', 1), ('faint.', 1), ('severally.', 1), ('people,', 2), ('Popilius,', 1), ('others.', 4), (\"o'er\", 3), ('leisure,', 1), ('touches', 2), ('served.', 1), ('Delay', 1), ('Sirrah,', 2), ('street?', 1), ('Popilius', 2), ('sudden,', 1), ('slay', 1), ('constant.', 1), ('Lena', 1), ('way.', 2), (\"address'd;\", 1), ('rears', 1), ('high,', 1), ('mighty,', 2), ('puissant', 1), ('courtesies', 1), ('decree', 2), (\"thaw'd\", 1), ('melteth', 1), ('fools-', 1), (\"court'sies,\", 1), ('spaniel-fawning.', 1), ('cur', 1), ('Know,', 1), ('brother?', 2), ('Pardon,', 1), ('pardon!', 1), ('prayers', 1), ('unassailable', 1), ('Unshaked', 1), ('he,', 4), ('Wilt', 2), ('stab', 1), ('tu,', 1), ('fall,', 3), ('Dies.', 3), ('dead!', 1), ('pulpit,', 2), ('Publius?', 1), ('chance-', 1), ('harm', 2), ('else.', 1), ('Rushing', 1), ('doers.', 1), ('amazed.', 1), ('stare,', 1), ('Fates,', 1), ('drawing', 1), ('cuts', 1), ('years', 2), ('abridged', 1), ('Stoop,', 1), ('Up', 1), ('swords;', 1), ('\"Peace,', 1), ('scene', 1), ('knot', 1), ('country', 3), ('boldest', 1), ('master', 6), ('honest;', 1), ('royal,', 1), ('him;', 5), ('vouchsafe', 1), ('safely', 1), ('Roman;', 1), ('worse.', 1), ('place,', 1), (\"untouch'd.\", 1), ('presently.', 1), ('Dost', 2), (\"death's\", 1), ('purpled', 1), ('thousand', 1), ('years,', 2), ('age.', 1), ('bloody', 8), ('business', 3), ('reverence.', 2), ('multitude,', 1), ('proceeded.', 1), ('Yours,', 1), ('say?', 2), ('ground,', 1), ('flatterer.', 1), ('dearer', 1), ('making', 1), ('Shaking', 1), ('noble!', 1), ('presence', 1), ('enemies.', 2), ('Julius!', 1), ('princes', 1), ('lie!', 1), ('Antony-', 1), ('modesty.', 1), ('us?', 1), (\"prick'd\", 2), ('seek;', 1), ('funeral.', 5), ('[Aside', 1), ('pulpit', 2), ('lawful', 1), ('wrong.', 3), ('fall;', 1), ('funeral', 1), ('speech', 4), (\"do't\", 1), ('going,', 1), ('butchers!', 1), ('noblest', 3), ('costly', 1), ('blood!', 1), ('ruby', 1), ('destruction', 1), ('deeds,', 1), ('hot', 3), (\"monarch's\", 1), ('dogs', 1), ('smell', 1), ('carrion', 1), ('serve', 1), ('letters,', 2), ('Passion,', 1), ('water.', 1), ('coming?', 1), ('Post', 1), ('According', 2), ('discourse', 1), ('Forum.', 1), ('CITIZENS.', 1), ('satisfied!', 2), ('numbers.', 1), ('speak.', 4), ('reasons,', 1), ('Silence!', 2), ('Hear', 7), ('Believe', 2), ('judge.', 1), ('demand', 2), ('rose', 1), ('less,', 1), ('slaves,', 1), ('slew', 3), ('offended.', 4), ('country?', 1), ('None,', 1), ('question', 2), ('dying,', 2), ('commonwealth,', 1), (\"crown'd\", 2), ('alone,', 2), ('sake,', 3), ('make.', 1), ('Save', 1), ('Goes', 1), ('says,', 1), ('finds', 1), ('tyrant.', 1), ('Romans-', 1), ('praise', 1), ('rest-', 1), ('men-', 1), ('Ambition', 1), ('stuff:', 1), ('thrice', 2), ('kingly', 1), ('refuse.', 1), ('ambition?', 1), ('disprove', 1), ('withholds', 1), ('mourn', 1), ('beasts,', 1), ('matter,', 2), ('mutiny', 1), ('rage,', 1), ('parchment', 1), ('seal', 1), ('read-', 1), ('patience,', 1), ('inflame', 1), ('will;', 1), ('awhile?', 1), ('testament!', 1), ('will?', 1), ('Descend.', 1), ('leave.', 1), ('hearse,', 1), ('back!', 1), ('now.', 2), ('mantle.', 1), ('on;', 3), ('well-beloved', 1), (\"follow'd\", 1), (\"knock'd,\", 1), ('burst', 1), ('muffling', 1), ('Whilst', 3), ('weep,', 1), ('feel', 1), ('dint', 1), ('Kind', 1), ('piteous', 1), ('spectacle!', 1), ('day!', 1), ('villains!', 1), ('revenged.', 1), ('honorable,', 1), ('is;', 1), ('speech,', 1), ('mouths,', 1), ('Antony!', 1), ('gives,', 1), ('patience.', 1), ('arbors,', 1), ('forever-', 1), ('another?', 1), ('benches.', 1), ('wilt.', 1), ('madmen', 1), ('gates', 1), ('Cinna', 4), ('poet.', 2), ('unluckily', 1), ('charge', 2), ('wander', 1), ('married', 2), ('bachelor?', 2), ('truly,', 1), ('briefly,', 1), ('wisely', 3), ('truly:', 1), (\"You'll\", 1), ('Proceed', 1), ('Directly,', 1), ('answered', 1), ('Briefly,', 1), ('verses,', 1), ('going.', 1), ('brands,', 1), ('firebrands.', 1), (\"Brutus',\", 1), ('seated', 1), ('table.', 1), ('OCTAVIUS.', 19), ('consent-', 1), ('Prick', 1), ('damn', 1), ('errands.', 1), ('divided,', 1), ('One', 1), ('gold,', 3), ('business,', 1), ('treasure', 1), ('ears', 2), ('commons.', 1), ('stop,', 1), ('motion', 1), ('imitations,', 1), ('property.', 1), ('Listen', 1), ('head;', 1), ('combined,', 1), (\"stretch'd;\", 1), ('matters', 1), ('disclosed,', 1), ('surest', 1), ('answered.', 2), ('Stand,', 3), ('LUCILIUS.', 10), ('near?', 1), ('change,', 2), ('undone;', 1), ('conference,', 1), ('cooling.', 1), ('useth', 1), ('hollow', 1), ('mettle;', 1), ('endure', 4), ('deceitful', 1), ('jades', 1), ('Sard', 1), ('gently', 1), ('enemies?', 1), ('charges', 1), ('ground.', 1), ('like,', 1), ('guard', 1), ('slighted', 1), ('undeservers.', 1), ('sake?', 1), ('villain', 1), ('justice?', 1), ('foremost', 1), ('space', 1), ('thus?', 1), ('Older', 1), ('slaves', 1), ('are,', 2), ('crouch', 1), ('lived,', 1), ('tempted', 1), ('love;', 1), ('threats,', 1), ('money', 1), ('drachmas', 1), ('pay', 1), ('Olympus.', 1), ('aweary', 1), ('teeth.', 2), ('eyes!', 1), ('naked', 1), (\"Pluto's\", 1), ('worst,', 1), ('lovedst', 2), ('dagger.', 1), ('Makes', 1), ('henceforth,', 1), ('POET.', 3), ('Titinius,', 10), ('sure,', 1), ('ye.', 1), ('hence!', 2), ('Companion,', 1), ('companies', 1), ('bowl', 2), ('wine!', 1), ('angry.', 1), ('philosophy', 2), ('killing', 1), ('loss!', 1), ('Impatient', 1), ('strong-', 1), ('tidings', 3), ('taper.', 1), ('Fill,', 1), ('cup;', 1), ('necessities.', 1), ('letters', 5), ('Bending', 1), ('MESSALA.', 21), ('agree;', 1), ('one!', 1), ('her?', 1), ('strange.', 1), ('true.', 2), ('losses', 1), ('presently?', 1), ('offense,', 1), ('ground', 1), ('fuller', 1), ('new-added,', 1), ('legions', 3), ('height,', 1), ('fortune;', 1), ('Omitted,', 1), ('shallows', 1), ('miseries.', 1), ('current', 1), ('serves,', 1), ('gown.', 4), ('TITINIUS.', 10), ('everyone.', 1), ('watch', 1), ('book', 1), ('two?', 1), (\"an't\", 1), ('might;', 1), ('long.', 1), ('song.', 1), ('tune.', 1), ('slumber,', 1), ('mace', 1), ('nod,', 1), ('thee;', 1), ('leaf', 1), ('reading?', 1), ('think.', 1), ('Sits', 1), ('Sirs,', 1), ('awake!', 3), ('Didst', 3), ('dream,', 1), ('cry.', 1), ('Sirrah', 1), ('CLAUDIO.', 4), ('betimes', 1), ('proves', 1), ('Answering', 1), ('Tut,', 1), ('bosoms,', 1), ('places,', 1), ('fasten', 1), ('parley.', 1), ('strokes,', 2), ('hole', 1), ('Crying', 1), ('blows', 1), ('bees,', 1), ('yes,', 1), ('soundless', 1), (\"stol'n\", 1), ('threat', 1), ('sting.', 1), (\"Hack'd\", 1), ('hounds,', 1), ('neck.', 1), ('flatterers!', 1), ('ruled.', 1), ('sweat,', 1), ('draw', 1), ('thirty', 1), ('added', 1), ('sword.', 3), ('strain,', 1), ('Young', 1), ('school', 2), ('masker', 1), ('still!', 1), ('hurl', 1), ('stomachs.', 1), ('apart.', 1), ('born.', 1), ('opinion.', 1), ('ensign', 2), ('Two', 2), (\"perch'd,\", 1), ('Gorging', 1), ('feeding', 1), ('shadows', 1), ('Lovers', 1), ('determined', 1), ('Cato', 1), ('below.', 1), ('farewell', 1), ('smile;', 1), ('parting', 2), (\"day's\", 1), ('known.', 1), ('Away!', 1), ('field', 2), ('battle.', 1), ('side.', 1), (\"Octavia's\", 1), ('enemy.', 2), ('Took', 1), ('soldiers', 1), ('Pindarus.', 1), ('therefore,', 2), ('tents', 1), ('lovest', 1), ('yond', 1), ('thought.', 1), ('first:', 1), ('begin,', 1), (\"He's\", 1), ('face!', 1), ('whatsoever', 1), ('attempt', 1), ('bosom.', 1), ('hilts;', 1), (\"cover'd,\", 1), ('Durst', 1), ('overthrown', 1), ('bondman,', 1), ('rays', 1), ('gone;', 1), ('hateful', 1), (\"engender'd\", 1), ('darts', 1), ('sight.', 1), ('while.', 1), ('Put', 1), ('brows', 1), ('thee?', 2), ('shouts?', 1), ('misconstrued', 1), ('bidding.', 1), ('regarded', 1), ('Lo,', 1), ('yonder,', 1), ('upward.', 1), ('well!', 1), ('impossible', 1), ('fellow.', 1), ('moe', 1), ('funerals', 1), ('discomfort', 1), ('Labio', 1), ('Flavio,', 1), ('fight.', 1), ('fighting,', 1), ('bastard', 1), (\"country's\", 2), ('down?', 1), ('diest', 1), ('bravely', 1), (\"honor'd,\", 1), ('Kill', 1), ('Safe,', 1), (\"Octavius'\", 1), ('Dardanius,', 2), ('Sit', 1), ('Clitus.', 3), ('word:', 1), ('Hark', 2), ('Dardanius.', 1), ('Clitus!', 1), ('meditates.', 1), ('ghost', 1), ('fields.', 1), ('goes;', 1), ('pit;', 1), ('old,', 1), ('Hold', 2), (\"life's\", 1), ('history.', 1), ('bones', 2), (\"labor'd\", 1), ('Retreat.', 1), ('Free', 1), ('found.', 1), ('proved', 1), ('served', 1), ('latest', 1), ('service', 1), ('only,', 1), (\"mix'd\", 1), ('Nature', 1), ('\"This', 1), ('man!\"', 1), ('William', 1), ('CAESAR,', 1), ('Roman', 11), ('general', 8), ('Triumvir', 2), (\"Caesar's\", 40), ('Rome', 17), ('MARK', 1), ('death', 14), ('LEPIDUS,', 1), ('Triumvirate', 1), ('conspirator', 1), ('METELLUS', 1), ('wife', 3), ('Brutus', 75), ('CICERO,', 1), ('FLAVIUS,', 1), ('supportor', 1), ('LUCILIUS,', 1), ('TITINIUS,', 1), ('ARTEMIDORUS,', 1), ('teacher', 1), ('servant', 2), ('A', 38), ('Messengers,', 1), ('<<THIS', 5), ('COMPLETE', 5), ('WORKS', 5), ('BY', 15), ('INC.,', 5), ('PROJECT', 5), ('WITH', 5), ('DISTRIBUTED', 10), ('SO', 5), ('SUCH', 5), ('(1)', 5), ('PERSONAL', 5), ('COMMERCIAL', 5), ('DISTRIBUTION', 5), ('ANY', 5), ('DOWNLOAD', 5), ('camp', 1), ('street.', 3), ('Marullus,', 1), ('Commoners.', 2), ('What,', 16), ('art', 19), ('COMMONER.', 7), ('Where', 17), ('apron', 1), ('rule?', 1), ('respect', 6), ('say,', 2), ('cobbler.', 1), ('Answer', 2), ('directly.', 4), ('bad', 8), ('beseech', 3), ('you.', 24), ('that?', 5), ('me,', 33), ('fellow!', 1), ('cobbler,', 1), ('awl.', 1), ('surgeon', 1), ('great', 25), ('As', 32), ('men', 39), ('lead', 6), ('Wherefore', 3), ('rejoice?', 1), ('conquest', 3), ('follow', 9), ('bonds', 1), ('chariot', 2), ('You', 49), ('hard', 5), ('Knew', 1), ('time', 19), ('chimney', 1), ('tops,', 1), ('patient', 3), ('trembled', 1), ('banks', 1), ('shores?', 1), ('strew', 1), ('blood?', 1), ('Be', 17), ('Run', 3), ('houses,', 1), ('knees,', 2), ('Draw', 1), ('Into', 5), ('stream', 2), ('all.', 5), ('Exeunt', 13), ('basest', 1), ('moved;', 1), (\"I'll\", 13), ('vulgar', 1), ('growing', 2), ('feathers', 1), ('wing', 1), ('pitch,', 1), ('Who', 15), ('soar', 1), ('servile', 1), ('course;', 1), ('Calpurnia,', 2), ('Brutus,', 52), ('crowd', 3), ('Soothsayer.', 3), ('Music', 1), ('lord.', 14), ('directly', 4), ('way,', 2), ('Forget', 1), ('Antonio,', 1), ('barren,', 1), ('sterile', 1), ('calls?', 1), ('Peace', 3), ('shriller', 1), ('\"Caesar.\"', 2), (\"turn'd\", 3), ('March.', 4), ('man', 36), ('Caesar.', 22), ('Speak', 7), ('Sennet.', 2), ('order', 3), ('do.', 4), ('part', 9), ('show', 11), ('wont', 1), ('hand', 12), ('look,', 6), ('Vexed', 1), ('difference,', 1), ('myself,', 3), ('grieved-', 1), ('Nor', 10), ('shows', 2), ('men.', 6), ('hath', 29), ('buried', 3), ('value,', 1), ('No,', 17), ('things.', 4), ('just,', 1), ('worthiness', 1), ('immortal', 2), ('speaking', 2), ('groaning', 2), (\"age's\", 1), ('seek', 5), ('laugher,', 1), ('hug', 1), ('profess', 1), ('banqueting', 1), ('rout,', 1), ('hold', 9), ('shouting?', 1), ('people', 8), ('Ay,', 16), ('it?', 3), ('well.', 9), ('Well,', 5), ('story.', 1), ('lief', 1), ('thing', 6), (\"winter's\", 1), ('troubled', 1), ('thou,', 4), ('angry', 4), ('flood', 4), ('point?\"', 1), (\"roar'd,\", 1), ('With', 18), ('lusty', 2), ('ancestor', 1), ('bear,', 1), ('tired', 1), ('wretched', 1), ('fit', 4), ('How', 20), ('god', 1), ('His', 8), ('coward', 3), ('groan.', 1), ('\"Give', 1), ('Titinius,\"', 1), ('Ye', 1), ('alone.', 2), ('honors', 5), ('Colossus,', 1), ('petty', 1), ('legs', 1), ('fates:', 1), ('dear', 7), ('Sound', 1), ('well;', 1), ('grown', 4), ('shamed!', 1), ('breed', 2), ('bloods!', 1), ('age', 2), ('man?', 2), ('O,', 22), (\"brook'd\", 1), ('devil', 2), ('to,', 2), ('hereafter;', 1), ('present,', 1), ('consider;', 1), ('patience', 4), ('Till', 4), ('friend,', 7), ('this:', 3), ('lay', 4), ('us.', 10), ('glad', 4), ('weak', 5), ('words', 4), ('struck', 3), ('Brutus.', 17), ('will,', 15), ('note', 4), ('But,', 12), ('brow,', 1), ('fiery', 2), ('Capitol,', 5), ('conference', 1), ('senators.', 2), ('is.', 2), ('Sleek-headed', 1), ('sleep', 5), ('nights:', 1), ('dangerous;', 1), ('given.', 1), ('fatter!', 1), ('Yet', 12), ('liable', 1), ('observer,', 1), ('smiles,', 2), ('sort', 2), (\"mock'd\", 1), ('Whiles', 1), ('greater', 3), ('thee', 32), ('Come', 16), ('hand,', 10), (\"think'st\", 1), ('cloak;', 1), ('today', 6), ('thus,', 2), ('manner', 2), (\"hang'd\", 1), ('Antony', 22), (\"'twas\", 2), ('chopped', 1), ('hands', 9), ('soft,', 1), ('what,', 2), ('Caesars', 1), ('sickness.', 2), ('herd', 1), ('hell', 1), ('rogues.', 1), ('fell.', 2), ('said,', 2), ('wenches', 1), ('heed', 2), ('mothers,', 1), ('away?', 1), ('Ay.', 1), ('effect?', 1), ('smiled', 1), ('heads;', 1), ('Greek', 1), ('me.', 18), ('pulling', 1), ('scarfs', 1), ('foolery', 1), ('forth.', 3), ('tomorrow?', 2), ('expect', 1), ('so,', 15), ('Exit.', 12), ('fellow', 4), ('be!', 1), ('school.', 1), ('puts', 1), ('sauce', 1), ('or,', 1), ('Exit', 13), ('From', 3), ('likes;', 1), ('night,', 11), ('windows', 1), ('tending', 1), ('seat', 2), ('opposite', 1), ('drawn,', 1), ('Cicero.', 3), ('Are', 13), ('sway', 1), ('scolding', 1), ('winds', 1), ('oaks,', 1), ('ambitious', 1), ('clouds,', 3), ('now,', 13), ('tempest', 1), ('fire.', 3), ('sight-', 1), ('left', 5), (\"join'd,\", 1), ('sword-', 1), ('Against', 1), ('Capitol', 3), ('heap', 1), ('yesterday', 2), ('sit', 3), ('Even', 10), ('marketplace,', 3), ('prodigies', 1), ('natural\":', 1), ('portentous', 1), ('time.', 3), ('purpose', 3), ('word', 11), ('tomorrow.', 1), ('in.', 3), ('menace', 1), ('unbraced,', 1), ('see,', 4), ('blue', 1), ('aim', 1), ('astonish', 1), ('life', 8), ('gaze', 1), ('impatience', 2), ('ghosts,', 1), ('Their', 6), ('quality,', 1), ('why,', 2), ('heaven', 2), ('instruments', 2), ('Most', 9), ('roars', 1), ('thyself', 1), ('limbs', 3), ('Our', 14), ('yoke', 1), ('sufferance', 2), ('senators', 3), ('Mean', 1), ('tyrants', 1), ('dungeon,', 1), ('iron', 1), ('Can', 2), ('lacks', 1), ('rubbish,', 1), ('illuminate', 1), ('vile', 7), ('Before', 4), ('My', 20), ('indifferent.', 1), ('tell-tale.', 1), ('Hold,', 1), ('redress', 2), ('farthest.', 1), ('bargain', 1), ('Some', 5), ('stay', 12), ('fearful', 3), ('Cinna.', 5), ('gait;', 1), ('Cimber?', 2), ('Am', 5), (\"stay'd\", 2), ('Yes,', 5), ('content.', 1), (\"praetor's\", 1), ('it;', 3), ('statue.', 1), ('Cimber,', 2), ('Come,', 10), ('already,', 1), ('us,', 6), ('alchemy,', 1), ('midnight,', 1), ('orchard.', 1), ('Lucius,', 13), ('day.', 4), ('say!', 2), ('soundly.', 1), ('Lucius!', 4), (\"Call'd\", 1), ('general.', 2), ('question.', 1), ('wary', 1), ('walking.', 1), ('grant,', 1), ('sting', 1), ('with.', 1), ('abuse', 1), ('truth', 2), ('affections', 1), (\"ambition's\", 2), ('climber-upward', 1), ('face;', 1), ('prevent.', 1), ('And,', 13), ('augmented,', 1), (\"serpent's\", 1), ('burneth', 1), ('window', 1), ('flint', 2), ('paper', 1), ('letter.', 1), ('March?', 1), ('air', 2), ('Opens', 1), ('reads.', 1), ('\"Brutus,', 2), ('Shall', 16), ('up.', 3), ('drive,', 1), (\"call'd\", 3), ('receivest', 1), ('Knocking', 2), ('within.', 4), ('whet', 1), ('phantasma', 1), ('hideous', 1), ('dream;', 1), ('council,', 2), ('nature', 3), ('desire', 3), ('alone?', 1), ('ears,', 1), ('faces', 2), ('cloaks,', 1), (\"'em\", 2), ('cavern', 1), ('Seek', 2), ('affability;', 1), ('Erebus', 1), ('conspirators,', 2), ('rest.', 3), ('morrow,', 4), ('hour,', 3), ('watchful', 1), ('night?', 1), ('lies', 6), ('east.', 1), ('break', 4), ('here?', 4), ('No.', 2), ('fret', 1), ('arises,', 1), ('season', 1), ('year.', 1), ('one.', 3), ('oath.', 1), ('souls,', 2), ('abuse-', 1), ('motives', 1), ('weak,', 1), ('range', 1), ('drop', 3), ('kindle', 1), ('valor', 1), ('spur', 1), ('bond', 2), ('priests', 2), ('cautelous,', 1), ('blood', 12), ('bears,', 2), (\"pass'd\", 1), ('wildness', 1), ('whit', 1), ('outlive', 1), ('together.', 3), ('wrath', 1), ('spirit,', 3), (\"Let's\", 5), ('wrathfully;', 1), ('servants', 1), ('chide', 1), ('eyes,', 3), ('arm', 2), ('sports,', 1), ('die,', 5), ('hereafter.', 1), ('clock', 1), ('Whether', 2), ('main', 1), ('toils,', 1), ('flatterers;', 1), ('flattered.', 1), ('bent,', 1), ('fetch', 5), ('eighth', 1), ('fail', 1), ('then.', 4), ('Pompey.', 1), (\"We'll\", 11), ('fresh', 2), ('merrily;', 1), ('actors', 1), ('Boy!', 2), ('matter.', 1), ('honey-heavy', 1), ('busy', 1), ('draws', 2), ('brains', 1), ('Therefore', 5), ('PORTIA.', 16), ('lord!', 2), ('rise', 3), ('morning.', 1), ('arms', 2), ('ungentle', 1), (\"scratch'd\", 1), ('impatiently', 1), ('Fearing', 1), ('hour', 3), (\"prevail'd\", 1), ('Make', 3), ('health,', 3), ('physical', 1), ('humors', 1), ('add', 1), ('charm', 1), ('commended', 1), ('half,', 1), ('seven,', 1), ('marriage,', 1), ('were,', 1), ('limitation,', 1), ('comfort', 2), ('bed,', 1), ('talk', 4), ('Dwell', 1), ('pleasure?', 1), ('more,', 3), ('harlot,', 1), ('husbanded?', 1), ('charactery', 1), ('spake', 1), ('tongue.', 1), ('healthful', 1), ('bow', 1), ('Soul', 1), ('son,', 2), ('loins!', 1), ('spirit.', 2), ('foot,', 1), ('leads', 3), (\"Ne'er\", 1), ('within,', 3), ('seen,', 1), ('Recounts', 1), ('lioness', 1), ('dead;', 1), ('ranks', 1), ('hurtled', 1), ('Horses', 1), ('neigh', 1), ('squeal', 1), ('forth,', 6), ('deaths;', 1), ('augurers?', 1), ('Plucking', 1), ('entrails', 1), ('cowardice.', 1), ('wisdom', 1), ('Senate', 8), ('this.', 2), ('hail!', 1), ('Cannot,', 1), ('false,', 1), ('falser:', 1), ('greybeards', 1), ('stays', 1), ('Which,', 3), ('blood,', 7), ('Came', 1), ('apply', 1), ('amiss', 2), ('spouting', 1), ('time,', 3), ('dreams.\"', 1), ('\"Lo,', 1), ('Pardon', 3), ('bids', 1), ('reason', 4), ('foolish', 1), (\"stirr'd\", 1), ('early', 1), ('waited', 1), ('same,', 1), ('yearns', 1), ('street', 3), ('Artemidorus,', 1), ('Cassius;', 2), ('laments', 1), ('emulation.', 1), ('contrive.', 1), ('House;', 1), ('gone.', 2), ('madam.', 2), ('Ere', 1), ('mountain', 1), ('return', 1), ('Prithee,', 1), ('listen', 1), ('bustling', 1), ('fray,', 1), ('wind', 2), ('Sooth,', 1), ('madam,', 1), ('been?', 1), ('house,', 3), (\"know'st\", 2), ('intended', 2), ('be,', 2), ('senators,', 2), ('praetors,', 1), ('suitors,', 1), ('Sure,', 1), ('grant.', 1), ('thee.', 7), ('Read', 5), ('humble', 2), ('suit.', 1), (\"mine's\", 1), ('instantly.', 1), ('urge', 2), ('petitions', 1), ('thrive.', 2), ('Popilius?', 1), ('Advances', 1), ('makes', 2), ('known,', 1), ('presently', 2), ('prefer', 2), ('ready?', 1), ('Cimber', 3), ('wrong,', 2), ('satisfied.', 3), ('own,', 1), (\"banish'd\", 1), ('freedom', 1), ('Brutus?', 2), ('beg', 4), ('enfranchisement', 1), (\"unnumber'd\", 1), ('shine;', 1), ('apprehensive;', 1), ('number', 3), (\"banish'd,\", 1), ('hence,', 3), ('People', 1), (\"Where's\", 1), ('mutiny.', 4), ('mischief.', 1), ('Men,', 1), ('doomsday.', 1), ('pleasures.', 1), ('Romans,', 5), ('waving', 1), ('red', 4), ('unborn', 1), ('No', 6), ('heels', 1), ('Thus,', 1), ('kneel,', 1), ('say:', 1), ('bold,', 1), (\"honor'd\", 2), ('resolved', 3), ('affairs', 3), ('Thorough', 2), ('faith.', 1), ('wise', 2), ('satisfied', 1), ('honor,', 4), ('Depart', 1), ('Falls', 1), ('shrewdly', 1), ('conquests,', 1), ('triumphs,', 1), ('spoils,', 1), ('Shrunk', 1), ('rank.', 1), ('instrument', 2), ('rich', 2), ('ye,', 1), ('smoke,', 1), ('die;', 2), ('off,', 3), ('us!', 1), ('cruel,', 1), ('wrong', 10), ('points,', 1), ('receive', 3), ('love,', 3), ('thoughts,', 1), ('doubt', 2), ('wisdom.', 1), ('First,', 1), ('Next,', 1), ('yours,', 2), ('credit', 2), ('stands', 1), ('true!', 1), ('peace,', 2), ('Weeping', 1), ('terms', 1), ('hart,', 2), ('didst', 4), ('stand,', 2), ('Lethe.', 1), ('deer', 1), ('enemies', 2), ('praising', 1), (\"Sway'd\", 1), ('Produce', 1), ('utter?', 1), ('speak,', 5), ('After', 1), ('more.', 6), ('Prepare', 3), ('Woe', 1), ('wounds', 3), ('prophesy', 1), ('mouths', 1), ('curse', 1), ('fury', 1), ('cumber', 1), ('objects', 1), ('mothers', 1), ('custom', 1), ('revenge,', 1), ('side', 2), ('confines', 1), ('slip', 1), ('mouth-', 1), ('Sees', 1), ('mourning', 2), ('safety', 1), ('oration,', 1), ('issue', 1), ('Citizens.', 3), ('rendered', 1), ('ascended.', 1), ('senses,', 1), ('his.', 1), ('freemen?', 1), ('fortunate,', 1), ('bondman?', 1), ('any,', 3), ('Roman?', 1), ('pause', 2), ('extenuated,', 1), ('offenses', 1), ('suffered', 1), ('body,', 2), ('depart-', 1), ('lover', 1), ('Bring', 2), ('shouts', 1), ('Tending', 1), (\"allow'd\", 1), ('depart,', 1), ('spoke.', 1), ('Noble', 1), ('blest', 1), ('Friends,', 2), ('interred', 1), ('bones;', 1), ('brought', 4), ('fill.', 1), ('wept;', 1), ('sterner', 1), ('Lupercal', 1), ('brutish', 1), ('coffin', 1), ('sayings.', 1), (\"Mark'd\", 1), ('words?', 1), ('ambitious.', 1), ('masters!', 1), ('know,', 3), ('wrong;', 1), ('testament-', 1), ('napkins', 1), ('Bequeathing', 1), ('issue.', 1), ('will!', 5), ('mad.', 1), (\"stabb'd\", 1), ('traitors.', 3), ('murtherers.', 1), ('compel', 1), (\"'Twas\", 1), ('evening,', 1), ('Nervii.', 1), (\"stabb'd;\", 1), ('cursed', 1), ('doors,', 2), ('no;', 1), ('angel.', 1), ('Judge,', 1), (\"traitors'\", 3), ('face,', 2), ('pity.', 1), ('gracious', 1), ('woeful', 1), ('sight!', 1), ('About!', 1), ('Seek!', 1), ('traitor', 1), ('there!', 1), ('honorable.', 2), ('Action,', 1), ('Show', 1), ('ruffle', 1), ('conspirators.', 1), ('what.', 1), ('Wherein', 2), ('seventy-five', 1), ('Moreover,', 1), ('On', 4), ('pleasures,', 1), ('abroad', 1), ('away!', 2), ('brands', 1), ('Mischief,', 1), ('afoot,', 1), ('Fortune', 1), ('notice', 1), ('Octavius.', 2), ('dwell?', 2), ('briefly.', 2), ('best.', 1), ('bachelor.', 1), ('bang', 1), ('enemy?', 1), ('dwelling,', 1), ('Tear', 3), ('tear', 2), (\"name's\", 1), (\"Decius'\", 1), (\"Ligarius'.\", 1), ('determine', 1), ('legacies.', 1), ('slight', 2), ('fit,', 1), ('black', 1), ('sweat', 1), ('way;', 1), ('load', 1), ('appoint', 1), ('provender.', 1), ('so:', 1), ('staled', 1), ('powers;', 1), ('covert', 1), (\"bay'd\", 1), ('Drum.', 2), ('Pindarus', 7), ('stand.', 1), ('master,', 2), ('courtesy', 1), ('old.', 1), ('Ever', 1), ('decay', 1), ('spur,', 1), ('meant', 1), (\"quarter'd;\", 1), ('horse', 2), ('general,', 1), ('arrived.', 1), ('Powers.', 1), ('wrongs,', 1), ('them-', 1), (\"wrong'd\", 2), (\"condemn'd\", 2), ('case.', 1), ('palm?', 1), ('Or,', 1), ('chastisement', 1), ('March,', 1), ('robbers,', 1), ('Contaminate', 1), ('dog,', 1), ('bay', 1), ('forget', 2), ('abler', 1), ('am.', 1), ('myself;', 1), ('Must', 6), ('rash', 2), ('this?', 3), ('Fret', 1), ('choleric', 1), ('bondmen', 1), ('humor?', 1), ('venom', 1), ('laughter,', 1), ('learn', 1), ('better.', 3), ('peace!', 1), ('presume', 1), ('terror,', 1), ('raise', 2), ('coin', 1), ('legions,', 1), ('rascal', 1), ('thunderbolts,', 1), ('pieces!', 1), (\"friend's\", 1), ('Revenge', 1), ('world:', 1), ('Hated', 1), ('braved', 1), ('faults', 1), (\"conn'd\", 1), ('dagger,', 1), ('breast;', 1), ('richer', 1), ('gold.', 1), ('Sheathe', 1), ('scope;', 1), ('yoked', 1), ('hasty', 1), ('spark', 1), ('mirth', 1), ('generals!', 1), ('Ha,', 2), ('ha!', 1), ('rhyme!', 1), ('Messala', 2), ('evils.', 1), ('Ha?', 1), ('insupportable', 1), ('absent)', 1), ('her.', 1), ('thirsty', 1), ('gone?', 1), ('Messala,', 9), ('tenure.', 1), ('Mine', 1), ('seventy', 1), ('That,', 1), ('reason?', 1), ('is:', 1), ('waste', 1), ('Doing', 1), ('lying', 1), ('defense,', 1), ('nimbleness.', 1), ('force', 1), ('utmost', 1), ('brim-full,', 1), ('day;', 1), ('decline.', 1), ('bound', 2), ('crept', 1), ('hence.', 1), ('beginning', 1), ('Everything', 1), ('drowsily?', 1), ('Claudio.', 1), ('sirs,', 2), ('sirs.', 1), ('bethink', 1), ('forgetful.', 1), ('strain', 1), ('duty,', 1), ('sleepy', 1), ('music?', 1), (\"break'st\", 1), ('instrument;', 1), ('burns!', 1), ('comest', 2), ('Ghost.', 1), ('vanishest.', 1), ('strings,', 1), ('instrument.', 1), ('criedst', 1), ('out?', 1), ('[To', 1), ('Varro.]', 1), ('sleep?', 1), ('V.', 2), ('content', 1), ('bravery,', 1), ('thinking', 1), ('thoughts', 2), ('courage;', 1), ('MESSENGER.', 1), ('show;', 1), ('immediately.', 1), ('softly', 1), ('left.', 1), ('talk.', 1), ('charge.', 1), ('generals', 1), ('signal', 1), ('blows.', 1), ('Witness', 1), ('posture', 1), ('unknown;', 1), ('rob', 1), ('honeyless.', 1), ('sides', 1), (\"show'd\", 2), ('bondmen,', 1), ('Flatterers?', 1), ('avenged,', 1), ('slaughter', 1), ('wert', 1), ('peevish', 1), ('reveler!', 1), ('field;', 1), ('blow', 1), ('billow,', 1), ('hazard.', 1), ('[Stands', 2), ('converse', 1), ('presage.', 1), (\"soldiers'\", 1), ('gone,', 1), ('ravens,', 1), ('downward', 1), ('lies,', 1), ('incertain,', 1), ('befall.', 1), ('battle,', 2), ('how,', 1), ('vile,', 1), ('arming', 1), ('providence', 1), ('Rome;', 1), ('everlasting', 1), ('forever,', 1), ('Cassius!', 3), ('Loud', 1), ('overthrow.', 1), ('villains', 1), ('fly!', 1), ('eagerly.', 1), ('Fly,', 3), ('hill', 1), ('Titinius:', 1), ('spurs', 2), ('sight', 1), ('thick;', 1), ('notest', 1), ('spur;', 1), ('light.', 1), (\"ta'en\", 3), ('long,', 1), ('freeman,', 1), ('stabs', 1), ('him.]', 1), ('revenged,', 1), ('Far', 1), ('sink', 1), ('Clouds,', 1), ('come;', 1), ('done!', 1), ('child,', 1), ('birth,', 1), ('ears.', 1), ('\"thrusting\"', 1), ('envenomed', 1), ('victory,', 1), ('garland', 1), (\"Roman's\", 1), (\"Titinius'\", 2), ('Where,', 1), ('yet!', 1), ('abroad,', 1), ('entrails.', 1), ('alarums.', 2), (\"whe'er\", 1), ('fare', 2), ('owe', 1), ('pay.', 1), ('Thasos', 1), ('body;', 1), (\"o'clock,\", 1), ('Soldiers', 1), ('proclaim', 1), ('tyrants,', 1), ('diest.', 1), ('die.', 1), (\"ta'en.\", 1), ('kindness;', 1), ('wheer', 1), ('remains', 1), ('CLITUS.', 8), ('torchlight,', 1), ('Slaying', 1), ('request', 1), ('Sardis', 1), ('Nay', 1), ('seest', 1), ('office', 1), ('tarrying', 1), ('Farewell', 2), ('Countrymen,', 1), ('attain', 2), ('unto.', 1), ('hangs', 1), ('\"Fly,', 1), ('fly.', 1), ('While', 1), ('Strato?', 2), ('STRATO.', 4), ('Runs', 1), (\"master's\", 1), ('Messala:', 1), ('entertain', 1), ('elements', 1), ('lie,', 1), ('glories', 1), ('END', 1), ('1599', 1), ('TRAGEDY', 1), ('OF', 16), ('Dramatis', 1), ('Personae', 1), ('OCTAVIUS,', 1), ('death,', 6), ('Caesar,', 45), ('ANTONY,', 1), ('leader', 1), ('Caesar', 95), ('CASCA,', 1), ('\"', 44), ('LIGARIUS,', 1), ('DECIUS', 1), ('CIMBER,', 1), ('CINNA,', 2), ('senator', 1), ('POPILIUS', 1), ('VOLUMNIUS,', 1), ('rhetoric', 1), ('VARRO,', 1), ('STRATO,', 1), ('LUCIUS,', 1), ('The', 84), ('Poet', 1), ('Citizens,', 1), ('ELECTRONIC', 10), ('SHAKESPEARE', 5), ('IS', 10), ('COPYRIGHT', 5), ('LIBRARY,', 5), ('GUTENBERG', 5), ('ETEXT', 5), ('MAY', 5), ('BE', 5), ('LONG', 5), ('FOR', 15), ('USE', 5), ('CHARGES', 5), ('TIME', 5), ('MEMBERSHIP.>>', 5), ('Rome,', 12), (\"conspirators'\", 1), ('I.', 9), ('SCENE', 18), ('holiday?', 2), ('mechanical,', 1), ('laboring', 1), ('Of', 17), ('sir,', 15), ('MARULLUS.', 6), ('thy', 44), ('thou', 95), ('fine', 1), ('But', 61), ('that,', 10), ('soles.', 1), ('mend', 1), (\"mean'st\", 1), ('live', 6), ('awl;', 1), ('matters,', 2), (\"women's\", 1), ('proper', 3), ('handiwork.', 1), ('streets?', 1), ('work.', 2), ('make', 22), ('holiday', 1), ('triumph.', 1), ('brings', 3), ('grace', 4), ('captive', 1), ('blocks,', 1), ('hearts,', 4), (\"climb'd\", 1), ('walls', 3), ('sat', 1), ('expectation', 1), ('pass', 5), ('streets', 3), ('appear,', 2), ('shout', 2), ('That', 85), ('Tiber', 4), ('underneath', 2), ('hear', 26), ('sounds', 1), ('Made', 1), ('attire?', 1), (\"Pompey's\", 6), ('fall', 7), ('intermit', 1), ('plague', 1), ('fault,', 3), ('poor', 6), ('sort,', 1), ('weep', 4), ('tears', 3), ('channel,', 1), ('Do', 14), ('Go', 9), ('feast', 2), ('matter;', 1), ('hung', 2), ('trophies.', 1), ('streets;', 2), ('thick.', 1), (\"pluck'd\", 3), ('II.', 6), ('public', 4), ('place.', 4), ('Flourish.', 4), ('Portia,', 5), ('CAESAR.', 40), ('CASCA.', 39), ('Stand', 7), (\"Antonio's\", 1), ('doth', 25), ('run', 10), ('course.', 1), ('speed,', 1), ('touch', 2), ('Shake', 1), ('curse.', 1), ('Set', 6), ('on,', 6), ('Caesar!', 13), ('again!', 1), ('Beware', 2), ('ides', 7), ('BRUTUS.', 194), ('beware', 2), ('CASSIUS.', 139), ('dreamer;', 1), ('lack', 1), ('Antony.', 22), ('Let', 32), ('hinder,', 1), ('love', 28), ('bear', 19), ('strange', 6), ('Over', 2), ('loves', 6), ('deceived;', 1), ('Merely', 1), ('late', 1), ('passions', 1), ('Conceptions', 1), ('soil', 1), ('neglect', 1), ('Than', 9), ('means', 6), ('face?', 1), ('mirrors', 1), ('hidden', 1), ('shadow.', 1), ('heard', 7), ('noble', 34), ('dangers', 3), ('Therefore,', 1), ('discover', 2), ('gentle', 8), ('protester,', 1), ('fawn', 2), ('them,', 9), ('Flourish', 1), ('shout.', 1), ('fear', 21), ('Choose', 1), ('Then', 13), ('so.', 15), ('good,', 1), ('honor', 8), ('speed', 3), ('death.', 11), ('virtue', 6), ('single', 1), ('fed', 1), ('well,', 5), ('cold', 6), ('once,', 6), ('gusty', 1), ('Leap', 1), ('swim', 2), ('bade', 4), ('follow.', 4), ('buffet', 1), ('sinews,', 1), ('stemming', 1), ('controversy.', 1), ('arrive', 1), ('point', 5), ('\"Help', 1), ('flames', 1), ('shoulder', 1), ('god,', 2), ('carelessly', 1), ('Spain,', 1), ('fly,', 3), ('world', 8), ('Romans', 10), ('Mark', 27), ('books,', 1), ('Alas,', 5), ('gods!', 4), ('temper', 1), ('majestic', 1), ('palm', 1), ('applauses', 1), (\"heap'd\", 1), ('bestride', 1), ('Walk', 1), ('huge', 3), ('graves.', 1), ('stars,', 2), ('together,', 2), ('Weigh', 1), ('heavy;', 1), ('conjure', 1), ('names', 2), ('great?', 1), ('famed', 1), (\"encompass'd\", 1), ('Now', 14), ('room', 2), ('enough,', 2), ('man.', 7), ('state', 4), ('easily', 1), ('entreat', 3), ('moved.', 1), ('meet', 16), ('high', 5), ('then,', 10), ('repute', 1), ('son', 4), ('games', 1), ('pluck', 1), ('sleeve,', 1), ('proceeded', 1), ('today.', 9), ('rest', 6), ('train:', 1), (\"Calpurnia's\", 2), ('Caesar?', 4), ('men,', 11), (\"o'\", 2), ('thinks', 2), ('much;', 1), ('fear,', 5), ('reads', 1), ('deeds', 2), ('plays,', 1), ('hears', 1), ('Seldom', 1), ('smiles', 2), ('ear', 4), (\"pull'd\", 1), ('speak', 19), ('Casca,', 18), ('sad.', 1), ('too.', 8), ('shouted', 1), ('thrice.', 1), ('thrice?', 1), ('marry,', 1), ('wast,', 1), ('neighbors', 1), ('it.', 24), ('(yet', 1), ('neither,', 1), ('told', 3), ('thinking,', 2), ('fain', 1), ('hooted', 1), ('threw', 1), ('deal', 1), ('stinking', 1), ('choked', 2), ('swounded', 1), ('durst', 6), ('laugh', 2), ('falling', 2), ('true', 10), ('Marry,', 1), ('doublet', 1), ('occupation,', 1), ('again,', 9), ('Three', 2), ('hearts.', 2), ('spoke', 3), (\"ne'er\", 2), ('understood', 1), ('shook', 1), ('news', 1), ('too:', 1), ('Fare', 4), ('Casca?', 1), ('dine', 1), ('alive,', 1), ('worth', 3), ('Good,', 1), ('blunt', 2), ('execution', 1), ('However', 1), ('tardy', 1), ('digest', 2), ('home', 6), ('honorable', 11), ('minds', 4), ('seduced?', 1), ('throw,', 1), ('citizens,', 1), ('ambition', 1), ('glanced', 1), ('at.', 1), ('shake', 4), ('endure.', 2), ('Thunder', 3), ('lightning.', 2), ('Good', 23), ('Brought', 1), ('moved,', 2), ('ocean', 1), ('Incenses', 1), ('flame', 1), ('Besides-', 1), ('lion,', 2), ('annoying', 1), ('Transformed', 1), ('swore', 2), ('night', 10), ('Howling', 1), ('\"These', 1), ('things', 11), ('climate', 1), ('upon.', 2), ('Comes', 2), ('doth,', 3), ('Antonio', 1), ('sky', 1), ('Farewell,', 4), ('there?', 2), ('voice.', 1), ('good.', 3), ('full', 9), ('perilous', 1), ('cross', 3), ('open', 2), ('tempt', 4), ('heralds', 1), ('dull,', 1), ('want,', 1), ('beasts', 1), ('change', 4), ('ordinance,', 1), ('faculties', 1), ('infused', 1), ('spirits', 5), ('state.', 1), ('thunders,', 1), ('eruptions', 1), ('are.', 3), ('is,', 7), (\"fathers'\", 1), ('tomorrow', 2), ('establish', 1), ('Italy.', 1), ('bondage', 2), ('Therein,', 2), ('stony', 1), ('beaten', 1), ('brass,', 1), ('airless', 1), ('links', 1), ('strength', 2), ('worldly', 1), ('power', 3), ('bears', 9), ('sheep.', 1), ('haste', 2), ('straws.', 1), ('offal,', 1), ('fleering', 1), ('noblest-minded', 1), ('undergo', 1), ('enterprise', 3), ('consequence;', 1), ('Porch.', 1), ('stir', 6), ('complexion', 1), ('close', 3), (\"on't.\", 1), ('sights.', 1), ('win', 1), ('paper,', 1), ('chair,', 1), (\"Brutus'\", 11), ('Repair', 1), ('Porch,', 1), ('house.', 5), ('papers', 1), ('entire', 1), ('worthiness.', 1), ('conceited.', 1), ('progress', 1), ('Give', 12), ('guess', 1), ('Lucius.', 14), ('LUCIUS.', 24), ('study,', 1), ('call', 4), (\"crown'd:\", 1), ('bright', 1), ('disjoins', 1), ('Remorse', 1), ('power,', 3), ('proof', 3), ('round,', 2), ('ascend.', 1), ('may;', 1), ('quarrel', 1), (\"hatch'd\", 1), ('kind', 2), ('shell.', 1), ('Searching', 1), ('lie', 5), ('bed.', 2), ('calendar', 1), ('bring', 8), ('read', 7), ('thyself!', 1), ('instigations', 1), (\"dropp'd\", 1), ('Thus', 2), ('stand', 18), ('awe?', 1), ('Rome?', 2), ('Tarquin', 1), ('\"Speak,', 1), ('entreated', 1), ('promise,', 1), ('fifteen', 1), ('knocks.', 2), ('mortal', 1), ('insurrection.', 1), ('brother', 5), ('them?', 1), ('hats', 1), ('faction.', 1), ('brow', 1), ('dark', 1), ('none,', 2), ('Hide', 1), ('dim', 1), ('hide', 5), ('Trebonius.', 5), ('night.', 5), ('Know', 2), ('This,', 2), ('welcome.', 1), ('messengers', 1), ('south,', 1), ('youthful', 1), ('higher', 2), ('presents', 1), (\"time's\", 1), ('bed;', 2), ('lottery.', 1), ('do,', 6), ('melting', 1), ('secret', 1), ('honesty', 2), ('engaged', 1), ('Old', 2), ('suffering', 1), ('wrongs;', 1), ('creatures', 1), ('doubt;', 1), ('bastardy', 1), ('Cicero?', 1), ('purchase', 1), ('voices', 1), ('commend', 3), ('ruled', 1), ('hands;', 1), ('youths', 1), ('gravity.', 1), ('not;', 4), ('begin.', 1), (\"touch'd\", 2), ('contriver;', 1), ('improve', 1), ('stretch', 1), ('annoy', 1), ('Caius', 10), ('cut', 5), ('envy', 2), ('butchers,', 1), ('Caius.', 1), ('blood.', 2), ('Stir', 2), ('act', 2), ('appearing', 1), ('purgers,', 1), ('die', 9), ('should,', 2), ('company.', 1), ('strikes.', 1), ('count', 1), ('stricken', 1), ('three.', 1), ('part.', 2), ('no,', 1), ('superstitious', 1), ('late,', 1), ('apparent', 1), ('prodigies,', 1), ('terror', 1), ('augurers', 1), ('glasses,', 1), ('flatterers,', 1), ('does,', 2), ('hour.', 2), ('most?', 1), ('uttermost,', 1), ('Ligarius', 1), ('rated', 1), ('Metellus,', 3), (\"'s.\", 1), ('Enjoy', 1), ('dew', 1), ('slumber;', 1), ('commit', 1), ('yesternight', 1), ('supper', 1), ('suddenly', 1), ('arose', 1), ('about,', 1), ('Musing', 1), ('sighing,', 1), ('across;', 1), (\"ask'd\", 1), ('foot.', 1), ('waiter', 1), ('Gave', 1), ('did,', 2), ('strengthen', 1), ('withal', 3), ('effect', 1), ('eat,', 1), ('talk,', 2), ('sleep,', 1), ('condition,', 1), ('steal', 2), ('wholesome', 1), ('sickness?', 2), ('of;', 1), ('vow', 1), ('unfold', 2), ('yourself,', 1), ('heavy', 2), ('Kneel', 1), ('need,', 1), ('secrets', 2), ('meals,', 1), ('drops', 1), ('visit', 3), ('sad', 2), ('grant', 2), ('Lord', 2), (\"father'd\", 1), ('counsels,', 1), ('Giving', 1), (\"husband's\", 1), ('secrets?', 1), ('wife!', 1), ('Hark,', 4), ('thee,', 10), ('brows.', 1), ('[Exit', 1), ('Ligarius.', 2), ('Ligarius,', 5), ('Vouchsafe', 1), ('brave', 3), ('sick!', 1), ('honor.', 2), ('before,', 2), ('mortified', 1), ('Yea,', 2), ('also.', 1), ('peace', 1), ('Thrice', 1), ('Calpurnia', 2), ('\"Help,', 1), ('murther', 1), ('Caesar!\"', 2), ('within?', 1), ('SERVANT.', 11), ('opinions', 1), ('house', 7), (\"threaten'd\", 1), ('fright', 1), ('horrid', 1), ('whelped', 1), ('fight', 2), ('form', 2), ('drizzled', 1), ('air,', 1), ('shriek', 1), ('use,', 3), ('end', 4), ('purposed', 1), ('predictions', 1), ('comets', 1), ('Cowards', 1), ('valiant', 4), ('wonders', 1), ('Seeing', 2), ('end,', 2), ('beast.', 1), ('Danger', 1), (\"litter'd\", 1), ('Call', 2), ('own.', 1), ('prevail', 1), ('House.', 1), ('sick.', 1), ('Lest', 2), (\"laugh'd\", 1), ('private', 3), ('here,', 8), ('She', 2), ('dreamt', 2), ('statue,', 2), ('fountain', 1), ('smiling', 2), ('warnings', 1), ('knee', 1), ('dream', 2), ('interpreted;', 1), ('statue', 2), ('pipes,', 1), ('stains,', 1), ('signified.', 1), ('expounded', 1), ('mock', 1), ('Apt', 1), ('liable.', 1), ('go.', 1), ('Publius', 4), ('enemy', 6), ('ague', 1), ('lean.', 1), (\"o'clock?\", 2), ('eight.', 1), ('nights,', 1), ('blame', 5), ('Remember', 2), ('[Aside.]', 2), ('further.', 1), ('wine', 3), ('ARTEMIDORUS.', 3), ('Cimber;', 1), ('beest', 1), ('Security', 1), ('defend', 2), ('lover,', 1), ('Artemidorus.\"', 1), ('suitor', 2), ('teeth', 2), ('mayest', 1), ('IV.', 3), ('prithee,', 3), ('Stay', 1), ('stay?', 1), ('there.', 1), ('tongue!', 1), ('Art', 3), ('sickly', 2), ('suitors', 1), ('ninth', 1), ('Capitol?', 1), ('suit', 4), ('None', 1), ('narrow,', 1), ('thine', 3), ('boy', 2), ('lord;', 2), ('sitting', 1), ('Artemidorus', 1), ('read,', 1), ('nearer.', 1), ('mad?', 1), ('Lena?', 1), ('discovered.', 1), ('speaks', 3), ('purposes;', 1), ('throws', 1), ('prevent', 2), ('couchings', 1), ('Might', 1), ('law', 1), ('children.', 1), ('fond', 1), ('rebel', 1), ('sweet', 3), ('Low-crooked', 1), ('repealing', 1), ('low', 1), ('move,', 1), ('move', 3), ('star,', 1), ('firmament.', 1), ('painted', 1), ('world,', 5), (\"furnish'd\", 1), ('motion;', 1), ('this;', 1), ('Olympus?', 1), ('Great', 1), ('kneel?', 1), ('Freedom!', 1), ('proclaim,', 1), ('\"Liberty,', 1), ('freedom,', 2), ('enfranchisement!\"', 1), ('affrighted,', 1), ('still;', 2), ('standing.', 1), ('person,', 1), ('abide', 2), ('deed', 5), ('Antony?', 1), ('Fled', 1), ('know;', 2), ('Cuts', 1), ('fearing', 2), ('stoop,', 1), ('weapons', 1), ('heads,', 1), ('wash.', 1), ('lofty', 1), ('basis', 1), ('dust!', 1), ('gave', 4), ('liberty.', 1), ('Soft,', 1), ('noble,', 2), ('valiant,', 2), ('loving.', 1), ('loved', 6), ('untrod', 1), ('purpose.', 1), ('glories,', 2), ('Though', 3), ('bleeding', 2), ('pity', 3), ('Rome-', 1), ('drives', 1), ('swords', 2), (\"brothers'\", 1), ('temper,', 1), ('disposing', 1), ('appeased', 1), ('render', 1), ('conceit', 1), ('grieve', 1), ('foes,', 1), ('corse?', 1), (\"bay'd,\", 1), (\"Sign'd\", 1), ('so;', 2), ('compact', 1), ('savage', 1), ('spectacle.', 1), ('regard', 3), (\"That's\", 3), ('shall,', 1), ('Brutus.]', 1), ('protest', 1), ('body.', 7), ('pardon', 2), ('meek', 1), ('lived', 2), ('tide', 2), ('times.', 1), ('shed', 2), ('tongue)', 1), ('Domestic', 1), (\"quarter'd\", 1), ('hell,', 1), ('coming,', 1), ('big;', 1), ('beads', 1), ('yet;', 1), ('Hie', 2), ('shalt', 4), ('borne', 1), ('corse', 2), ('try,', 1), ('audience,', 1), ('CITIZEN.', 68), ('compare', 1), ('rendered.', 1), ('pulpit.', 3), ('silent,', 1), ('believe.', 1), ('assembly,', 1), (\"Caesar's,\", 1), ('living', 2), ('ambitious,', 4), ('valor,', 1), ('ambition.', 1), ('reply.', 1), ('none.', 1), ('enrolled', 1), ('glory', 2), ('others,', 1), ('benefit', 1), ('live,', 3), ('live!', 3), ('FOURTH', 16), ('countrymen-', 1), ('depart', 1), ('rid', 2), ('ears!', 1), ('evil', 2), ('grievous', 1), ('grievously', 1), ('man;', 1), ('faithful', 1), ('coffers', 1), ('ambitious?', 1), ('presented', 1), ('cause;', 1), ('judgement,', 1), ('Bear', 3), ('rightly', 1), ('Has', 1), ('masters?', 1), ('soul,', 1), ('weeping.', 1), ('nobler', 1), ('begins', 2), ('commons', 1), ('sacred', 1), ('hair', 2), ('mention', 1), ('wills,', 1), ('legacy', 1), ('hearing', 1), ('Honorable', 1), ('men!', 1), ('round.', 1), ('Room', 1), ('tears,', 1), ('ran', 3), (\"Cassius'\", 4), ('through;', 1), ('rent', 1), ('made;', 1), ('Through', 1), ('unkindly', 1), ('dearly', 1), ('him!', 2), ('all;', 1), ('Ingratitude,', 1), (\"vanquish'd\", 1), ('countrymen!', 1), ('drops.', 2), (\"marr'd,\", 1), ('Fire!', 1), ('Slay!', 1), ('orator,', 1), ('worth,', 1), ('stones', 1), ('forgot', 1), ('citizen', 1), ('new-planted', 1), ('heirs', 1), ('recreate', 1), ('yourselves.', 1), ('Never,', 2), ('never.', 1), ('houses.', 1), ('Pluck', 3), ('fellow?', 1), ('thither', 1), ('wish.', 1), ('merry,', 1), ('fantasy.', 1), ('name?', 2), ('Whither', 2), ('going?', 2), ('wisely.', 1), ('marry.', 1), ('dwell', 1), ('pieces,', 1), ('conspirator.', 2), ('poet,', 1), ('verses.', 1), ('go!', 1), (\"prick'd.\", 1), ('Fetch', 1), ('Meet', 1), ('three-fold', 1), ('share', 1), ('proscription.', 2), ('divers', 1), ('loads,', 1), ('ass', 1), ('groan', 1), ('graze', 1), ('horse,', 1), ('fight,', 1), ('taste,', 1), ('barren-spirited', 1), ('objects,', 1), ('arts,', 1), ('levying', 1), ('alliance', 1), ('stake,', 1), ('enemies;', 1), ('mischiefs.', 1), ('tent.', 4), ('Lucilius,', 10), ('salutation', 1), ('master.', 2), ('Pindarus,', 3), ('ill', 4), ('officers,', 1), ('Things', 1), ('doubted.', 1), ('instances,', 1), ('friendly', 3), ('note,', 1), ('sicken', 1), ('enforced', 1), ('ceremony.', 1), ('tricks', 1), ('simple', 1), ('horses', 1), ('gallant', 2), ('crests', 1), ('Low', 3), ('SOLDIER.', 7), ('Stand!', 3), ('Wrong', 1), ('wrangle.', 1), ('away;', 1), ('enlarge', 1), ('conference.', 1), ('Pella', 1), ('Sardians,', 1), ('praying', 1), ('nice', 1), ('palm,', 1), ('mart', 1), ('offices', 1), ('gold', 2), (\"justice'\", 1), ('large', 1), ('bait', 1), ('hedge', 1), ('practice,', 1), ('conditions.', 1), ('possible?', 1), ('frighted', 1), ('break.', 1), ('tremble.', 1), ('bouge?', 1), ('testy', 1), ('mirth,', 1), ('soldier:', 1), ('vaunting', 1), ('\"better\"?', 1), (\"arm'd\", 1), ('honesty,', 1), ('sums', 1), ('peasants', 1), ('indirection.', 1), ('grows', 1), ('covetous', 1), ('lock', 1), ('counters', 1), ('ready,', 1), ('fool', 1), (\"flatterer's\", 1), ('loves;', 1), (\"learn'd\", 1), ('rote,', 1), ('Roman,', 3), ('Strike,', 1), ('hate', 1), ('dishonor', 1), ('humor.', 1), ('lamb,', 1), ('anger', 1), ('vexeth', 1), ('much?', 1), ('forgetful?', 1), ('[Within.]', 3), ('grudge', 1), ('Nothing', 1), ('Poet,', 1), ('shame,', 1), ('mean?', 1), ('sirrah;', 1), ('jigging', 1), ('Poet.', 1), ('Lucilius', 3), ('lodge', 1), ('Titinius.', 2), ('accidental', 1), (\"'scaped\", 1), ('touching', 1), ('(her', 1), ('attendants', 1), (\"swallow'd\", 1), ('unkindness,', 1), ('Drinks.', 2), ('love.', 1), ('Titinius!', 3), ('Myself', 2), ('addition?', 1), ('proscription', 1), ('Nothing,', 2), ('methinks,', 1), ('tell:', 1), ('meditating', 1), ('alive.', 1), ('marching', 2), ('rest,', 2), (\"'twixt\", 1), ('forced', 1), ('contribution.', 1), (\"refresh'd,\", 1), ('encouraged;', 1), ('brother.', 2), ('pardon.', 1), ('ripe:', 1), ('increaseth', 1), ('We,', 1), ('ready', 2), ('voyage', 1), ('ventures.', 1), ('obey', 1), ('niggard', 1), ('Early', 1), ('Messala;', 1), ('repose.', 1), ('brother!', 1), ('souls!', 1), ('instrument?', 1), (\"speak'st\", 1), (\"o'erwatch'd.\", 1), ('Varro', 3), ('Claudio!', 4), ('duty', 1), ('past', 1), ('already.', 1), ('Music,', 1), ('Layest', 1), ('plays', 1), ('wake', 1), ('see;', 1), ('shapes', 1), ('apparition.', 1), ('angel,', 1), ('Fellow', 1), ('we,', 1), ('Army.', 3), ('battles', 2), ('warn', 1), ('Messenger.', 1), ('exigent?', 1), ('battle?', 1), ('signal.', 1), ('Words', 1), ('countrymen?', 1), ('better,', 1), ('\"Long', 1), ('buzzing,', 1), ('apes,', 1), (\"bow'd\", 1), ('damned', 1), ('today,', 2), ('cause.', 1), ('arguing', 1), ('redder', 1), ('conspirators;', 1), ('couldst', 1), ('worthless', 1), (\"Join'd\", 1), ('Defiance,', 1), ('storm', 1), ('Ho,', 1), ('Messala!', 1), ('witness', 1), (\"compell'd\", 1), ('liberties.', 1), ('Epicurus', 1), ('strong,', 1), ('partly', 1), ('Coming', 1), ('eagles', 1), ('consorted', 1), ('steads', 1), ('partly,', 1), ('constantly.', 1), ('Lucilius.', 1), ('worst', 1), ('rule', 1), ('life-', 1), ('govern', 1), ('no.', 1), ('begun.', 1), ('take.', 1), ('Forever,', 1), ('indeed;', 1), ('come!', 1), ('Alarum.', 5), ('Ride,', 2), ('ride,', 3), ('alarum.', 1), ('demeanor', 1), ('wing,', 1), ('push', 2), ('coward,', 1), ('assured', 1), ('compass.', 1), ('news?', 2), ('[Above.]', 2), ('round', 1), ('horsemen,', 1), ('down;', 1), ('am,', 1), ('descends.', 1), ('Parthia', 1), ('prisoner,', 1), ('search', 1), ('[Pindarus', 1), ('So,', 2), ('free,', 1), ('disconsolate,', 1), ('ground?', 1), ('living.', 1), ('heart!', 1), ('set,', 1), ('dews,', 1), ('success', 2), ('deed.', 2), ('error,', 2), (\"melancholy's\", 1), ('conceived,', 1), (\"kill'st\", 1), ('Pindarus!', 1), ('Pindarus?', 1), ('everything!', 1), ('leave,', 1), ('Cato,', 5), ('where,', 1), ('CATO.', 3), ('walks', 1), ('these?', 1), ('armies;', 1), ('Yet,', 1), ('heads!', 1), ('I;', 1), ('friend;', 1), ('money.]', 1), ('straight:', 1), (\"ta'en,\", 2), ('assure', 2), ('prize', 1), ('worth.', 1), ('Keep', 1), ('safe,', 1), ('Clitus,', 2), ('Strato,', 4), ('Statilius', 1), ('deed?', 1), ('Volumnius,', 3), ('Volumnius:', 1), (\"appear'd\", 1), ('beat', 1), ('Alarum', 1), ('asleep;', 1), ('losing', 1), ('ended', 1), ('Night', 1), ('fly!\"', 1), ('smatch', 1), ('THE', 7), ('CAESAR', 1), ('Augustus', 1), ('emperor', 1), ('friend', 11), ('member', 1), ('conspiracy', 2), ('TREBONIUS,', 1), ('CAIUS', 1), ('POPILIUS,', 1), ('tribune', 2), ('CATO,', 1), ('Cassius', 24), ('Soothsayer', 1), ('Senators,', 1), ('Soldiers,', 1), ('1990-1993', 5), ('AND', 15), ('CARNEGIE', 5), ('MELLON', 5), ('MACHINE', 5), ('COPIES', 10), ('OR', 15), ('ONLY,', 5), ('NOT', 5), ('USED', 5), ('COMMERCIALLY.', 5), ('PROHIBITED', 5), ('INCLUDES', 5), ('SERVICE', 5), ('plains', 2), ('Rome.', 9), ('Enter', 40), ('Flavius,', 2), ('Hence,', 1), ('home,', 1), ('idle', 3), ('creatures,', 1), ('Is', 24), ('not,', 26), ('Being', 3), ('day', 16), ('profession?', 1), ('thou?', 4), ('FIRST', 23), ('Why,', 18), ('carpenter.', 1), ('leather', 2), ('apparel', 1), ('SECOND', 26), ('Truly,', 4), ('I', 497), ('trade,', 2), ('hope,', 2), ('conscience,', 1), ('naughty', 1), ('knave,', 3), ('trade?', 1), ('Nay,', 5), ('you,', 40), ('me;', 4), ('saucy', 3), ('meddle', 1), ('shoes;', 1), ('danger,', 1), ('recover', 1), (\"neat's\", 1), ('Why', 18), ('rejoice', 2), ('To', 75), ('stones,', 2), ('things!', 1), ('cruel', 2), ('Pompey?', 1), ('Many', 1), ('oft', 3), ('Have', 19), ('windows,', 2), ('Your', 12), ('infants', 2), ('Pompey', 2), ('made', 10), ('replication', 1), ('concave', 1), ('cull', 1), ('triumph', 3), ('Pray', 1), ('gods', 10), ('light', 3), ('Go,', 2), ('go,', 2), ('and,', 10), ('Assemble', 1), ('lowest', 1), ('kiss', 3), ('exalted', 2), ('See', 3), ('tongue-tied', 1), ('guiltiness.', 1), ('This', 22), ('images', 2), ('If', 54), ('find', 17), ('so?', 7), ('drive', 1), ('So', 31), ('too,', 3), ('perceive', 5), ('ordinary', 3), ('view', 1), ('Caesar;', 6), ('Casca;', 3), ('follows,', 1), ('speaks.', 2), ('Here,', 4), ('ANTONY.', 51), ('lord?', 12), ('elders', 1), ('holy', 2), ('\"Do', 1), ('this,\"', 1), ('Ha!', 1), ('Bid', 5), ('noise', 4), ('still.', 3), ('press', 5), ('music,', 1), ('Cry', 3), ('soothsayer', 1), ('face.', 1), ('again.', 3), ('He', 52), ('him.', 30), ('Cassius.', 13), ('course?', 1), ('desires;', 1), ('observe', 2), ('late;', 1), ('gentleness', 1), ('have;', 1), ('stubborn', 1), (\"veil'd\", 1), ('countenance', 1), ('myself.', 4), ('behaviors;', 1), ('friends', 6), ('one-', 1), ('construe', 3), ('war', 1), ('Then,', 6), ('mistook', 1), ('By', 17), ('breast', 2), ('mine', 19), ('worthy', 8), ('cogitations.', 1), ('Tell', 7), ('eye', 6), ('sees', 2), ('reflection,', 2), (\"'Tis\", 10), ('Except', 1), (\"wish'd\", 2), ('For', 49), ('Were', 1), ('scandal', 1), ('dangerous.', 4), ('king.', 3), ('aught', 2), ('outward', 1), ('Think', 4), ('self,', 1), ('In', 23), ('awe', 2), ('born', 2), ('you;', 5), ('We', 13), ('he.', 2), ('day,', 3), ('chafing', 1), ('\"Darest', 1), ('yonder', 2), ('word,', 5), ('Accoutred', 1), ('was,', 3), ('torrent', 1), ('throwing', 1), ('hearts', 5), ('ere', 5), ('sink!', 1), ('I,', 10), ('Aeneas', 1), ('Did', 13), ('Troy', 1), ('Anchises', 1), ('body', 5), ('nod', 1), ('true,', 4), ('shake;', 1), ('tongue', 4), ('write', 3), ('speeches', 1), ('drink,', 1), ('sick', 5), ('feeble', 4), ('Shout.', 1), ('shout!', 1), ('man,', 7), ('narrow', 1), ('Like', 6), ('Men', 2), ('masters', 2), ('\"Caesar\"?', 1), ('sounded', 1), ('yours?', 2), ('Write', 1), ('fair', 2), (\"'em,\", 2), ('Now,', 10), ('meat', 1), ('Age,', 1), (\"talk'd\", 1), ('wide', 1), ('fathers', 1), ('There', 18), ('eternal', 1), ('jealous;', 1), ('aim.', 1), ('Both', 1), ('answer', 7), ('Under', 3), ('Re-enter', 14), ('returning.', 1), ('sour', 1), ('glow', 1), ('cheek', 1), ('Cicero', 5), (\"cross'd\", 2), ('lean', 1), ('Fear', 1), ('Would', 4), ('avoid', 1), ('much,', 3), ('Quite', 3), ('Antony;', 2), ('music;', 1), ('moved', 5), ('smile', 4), ('anything.', 3), ('ease', 2), ('themselves,', 1), ('Train', 1), ('Casca.', 5), ('him,', 24), ('not?', 7), ('crown', 7), ('back', 4), ('fell', 9), ('for?', 3), ('other,', 1), ('honest', 4), ('shouted.', 1), ('mere', 1), ('foolery;', 1), ('offer', 1), ('once.', 2), ('loath', 1), ('time;', 1), ('by;', 1), ('clapped', 1), ('sweaty', 1), ('breath', 1), ('opening', 1), ('receiving', 1), ('marketplace', 1), ('foamed', 1), ('like.', 1), ('tagrag', 1), ('clap', 1), ('hiss', 1), ('displeased', 1), ('himself?', 1), ('down,', 7), ('ope', 2), ('cut.', 1), ('An', 2), ('amiss,', 1), ('desired', 1), ('\"Alas,', 1), ('them;', 1), ('stabbed', 1), ('came,', 1), ('Greek.', 1), ('face', 7), ('Marullus', 1), ('images,', 1), ('silence.', 1), ('remember', 4), ('dinner', 1), ('farewell,', 4), ('mettle', 3), ('bold', 2), ('form.', 1), ('stomach', 1), ('appetite.', 1), ('Tomorrow,', 1), ('wait', 1), ('world.', 4), ('Thy', 10), ('wrought', 1), ('firm', 1), ('humor', 4), ('hands,', 5), ('name,', 2), ('obscurely', 1), ('sure;', 1), ('III.', 6), ('sides,', 1), ('sword', 5), ('CICERO.', 4), ('even,', 1), ('breathless,', 1), ('tempests', 1), ('swell', 2), ('foam', 1), ('Either', 3), ('civil', 2), ('strife', 2), ('heaven,', 3), ('slave-', 1), ('burn', 4), (\"remain'd\", 1), ('met', 1), (\"glaz'd\", 1), ('surly', 1), ('drawn', 1), ('hundred', 3), ('ghastly', 1), ('noonday', 1), ('Indeed,', 1), ('Clean', 1), ('themselves.', 1), ('Send', 2), ('disturbed', 1), (\"Who's\", 3), ('Roman.', 2), ('knew', 2), ('Those', 4), ('faults.', 3), ('Submitting', 1), ('lightning', 1), (\"seem'd\", 2), ('present', 3), ('tremble', 1), ('fires,', 1), ('children', 2), ('calculate,', 1), ('monstrous', 4), ('warning', 1), ('opens', 1), ('personal', 2), ('action,', 1), ('prodigious', 1), ('fearful,', 1), ('thews', 1), ('woe', 1), (\"govern'd\", 2), ('spirits;', 1), ('land', 1), ('place', 9), ('dagger', 3), ('then:', 1), ('deliver', 2), ('gods,', 10), ('strong;', 1), ('strong', 7), ('spirit;', 1), ('cancel', 1), ('captivity.', 1), ('tyrant', 1), ('then?', 1), ('Poor', 3), ('man!', 2), ('wolf', 1), ('Begin', 2), ('trash', 3), ('serves', 1), ('base', 6), ('griefs,', 2), ('foot', 2), ('honorable-dangerous', 1), ('walking', 1), ('element', 1), ('bloody,', 2), ('awhile,', 4), ('Cinna,', 5), ('CINNA.', 19), ('attempts.', 1), ('for,', 3), ('Cinna?', 1), ('All', 9), ('Decius', 5), ('hie', 1), ('bestow', 2), ('parts', 3), ('yields', 1), ('when?', 1), ('taper', 4), ('lighted,', 1), ('nature,', 1), ('craves', 1), ('Crown', 1), ('greatness', 1), ('More', 2), ('reason.', 2), ('lowliness', 1), ('Whereto', 1), ('attains', 1), ('ladder', 1), ('may,', 3), ('Fashion', 1), ('egg', 1), ('grow', 2), ('mischievous,', 1), ('sir.', 4), ('found', 5), (\"seal'd\", 1), ('up,', 3), ('bed', 2), ('tomorrow,', 1), ('Look', 4), ('word.', 2), ('exhalations', 1), (\"sleep'st:\", 2), ('strike,', 2), ('\"Shall', 1), ('piece', 3), (\"man's\", 3), ('follow,', 1), ('petition', 1), ('days.', 1), ('Between', 1), ('motion,', 1), ('kingdom,', 1), ('suffers', 1), ('door,', 1), ('half', 3), ('Conspiracy,', 1), ('Shamest', 1), ('dangerous', 3), ('wilt', 3), ('Conspiracy;', 1), ('Cinna;', 4), ('Cimber.', 3), ('interpose', 1), ('Betwixt', 1), ('word?', 1), ('Here', 15), ('pardon,', 2), ('yongrey', 1), ('lines', 1), ('clouds', 1), ('deceived.', 1), ('sword,', 5), ('Weighing', 1), ('north', 1), ('Stands', 1), ('over,', 1), ('swear', 2), ('high-sighted', 1), ('these,', 1), ('cowards', 2), ('steel', 3), ('prick', 1), ('palter?', 1), ('stain', 1), ('insuppressive', 1), ('spirits,', 1), ('guilty', 1), ('smallest', 1), ('particle', 1), ('promise', 2), ('METELLUS.', 5), ('hairs', 1), ('buy', 1), ('deeds.', 1), ('fit.', 1), ('urged.', 1), ('all,', 5), ('prevent,', 1), ('hack', 1), ('afterwards;', 1), ('limb', 1), ('sacrificers,', 1), ('dismember', 1), ('bleed', 3), ('it!', 2), ('friends,', 13), ('dish', 1), (\"'em.\", 2), ('envious,', 1), ('murderers.', 1), ('himself,', 4), ('held', 3), ('dreams,', 1), ('that.', 1), ('unicorns', 1), (\"betray'd\", 1), ('trees,', 1), ('Lions', 1), ('hates', 1), ('work;', 1), ('Capitol.', 7), ('fashion', 1), ('morning', 2), ('disperse', 1), ('constancy.', 1), ('Fast', 1), ('asleep?', 1), ('fantasies,', 1), ('care', 2), ('men;', 3), (\"sleep'st\", 1), ('sound.', 1), ('health', 1), ('condition', 2), ('ungently,', 1), ('Stole', 1), ('looks.', 1), (\"stamp'd\", 1), ('insisted,', 1), ('Hoping', 1), ('Dear', 1), ('grief.', 1), ('embrace', 1), ('sick,', 3), ('suck', 2), ('dank', 1), ('morning?', 1), ('contagion', 1), ('unpurged', 1), ('mind,', 3), ('beauty,', 1), ('vows', 1), ('tonight', 5), ('appertain', 1), ('Portia', 3), ('wife.', 2), ('wife,', 3), ('heart.', 6), ('secret.', 1), ('woman,', 2), ('woman', 3), ('sex,', 1), ('wound', 2), ('hark,', 1), ('engagements', 1), ('Leave', 1), ('Lucius', 3), ('Boy,', 1), ('chose', 1), ('exploit', 2), ('discard', 1), ('Rome!', 1), ('Brave', 2), ('conjured', 1), ('do?', 3), ('whole.', 1), ('new-fired', 1), ('what;', 1), ('sufficeth', 2), ('on.', 4), ('nightgown.', 1), ('cried', 1), ('Calpurnia.', 1), (\"look'd\", 1), ('back;', 3), ('watch.', 1), (\"yawn'd,\", 1), ('Fierce', 1), ('warriors', 1), ('squadrons', 1), ('battle', 4), ('dying', 1), ('groan,', 1), ('beggars', 1), ('seen;', 1), ('princes.', 1), ('times', 3), ('taste', 2), ('heard,', 1), ('come.', 4), ('shame', 1), ('beast', 1), ('fear.', 2), ('Decius.', 2), (\"Here's\", 1), ('happy', 3), ('greeting', 1), ('lie?', 2), ('afeard', 1), ('cause,', 2), ('satisfy', 1), ('satisfaction,', 1), ('know.', 2), ('spouts,', 1), ('pure', 1), ('bathe', 2), ('bathed,', 1), ('Signifies', 1), ('Reviving', 1), ('relics,', 1), ('cognizance.', 1), ('have,', 3), ('say.', 2), ('concluded', 1), ('change.', 2), ('whisper', 1), ('afraid\"?', 1), ('proceeding', 1), ('fears', 2), ('ashamed', 1), ('robe,', 1), ('morrow,Caesar.', 1), ('Publius.', 2), ('strucken', 2), ('courtesy.', 1), ('See,', 1), ('revels', 1), ('notwithstanding', 1), ('Metellus;', 2), (\"hour's\", 1), ('today;', 1), ('upon!', 1), ('reading', 1), ('paper.', 1), ('trust', 1), ('Trebonius;', 1), ('bent', 1), ('conspiracy.', 1), ('along,', 1), ('live;', 2), ('Fates', 1), ('street,', 1), ('shouldst', 2), ('side!', 1), (\"'tween\", 2), (\"woman's\", 1), ('Madam,', 2), ('else?', 2), ('lord', 1), ('nothing.', 2), ('himself.', 3), ('chance.', 1), ('heels,', 1), ('void', 1), ('Ay', 1), ('Run,', 1), ('merry.', 1), ('above.', 1), ('Lepidus,', 3), ('Hail,', 2), ('schedule.', 1), ('first,', 3), ('ourself', 1), ('POPILIUS.', 2), ('Look,', 5), ('done?', 1), ('For,', 1), ('Kneels.', 1), ('lowly', 1), ('preordinance', 1), ('words,', 3), ('banished.', 1), ('voice', 5), ('sweetly', 1), ('flattery,', 1), ('Desiring', 1), ('repeal.', 1), ('constant', 3), ('northern', 1), (\"true-fix'd\", 1), ('resting', 1), ('skies', 1), ('sparks;', 1), ('flesh', 1), ('rank,', 1), ('remain', 1), ('Hence!', 2), ('lift', 1), ('bootless', 1), ('me!', 1), ('Conspirators', 1), ('Marcus', 6), ('Et', 1), ('Brute?-', 1), ('Liberty!', 1), ('Tyranny', 1), ('pulpits', 1), ('Fly', 3), ('debt', 1), ('paid.', 1), ('confounded', 1), ('fast', 2), ('Talk', 1), ('cheer,', 1), ('wives,', 1), ('Grant', 1), ('benefit;', 1), ('elbows,', 1), ('besmear', 1), ('cry,', 1), ('liberty!\"', 1), ('Stoop', 1), ('ages', 1), ('acted', 1), ('states', 1), ('accents', 1), ('unknown!', 1), ('sport,', 1), ('worthier', 1), ('away.', 1), ('lead,', 1), (\"Antony's.\", 1), ('prostrate,', 1), ('deserved', 2), ('dead', 5), ('living,', 1), ('fortunes', 1), ('hazards', 1), ('misgiving', 1), ('low?', 1), ('measure?', 1), ('intend,', 1), ('swords,', 1), ('whilst', 4), ('reek', 1), ('Fulfill', 1), ('Live', 1), ('apt', 2), ('choice', 1), ('As,', 1), ('pitiful;', 1), ('pity-', 1), ('leaden', 2), ('malice,', 1), ('dignities.', 1), ('Only', 2), ('hand;', 2), ('yours;', 2), ('last,', 1), ('Gentlemen', 1), ('all-', 1), ('slippery', 1), ('ways', 1), ('wounds,', 2), ('friendship', 1), ('wast', 2), ('hunters', 1), ('spoil,', 2), (\"crimson'd\", 1), ('forest', 1), ('depend', 1), ('Friends', 1), ('hope', 1), ('reasons', 5), ('consent', 2), ('permission,', 3), ('contented', 2), ('rites', 2), ('advantage', 3), ('devise', 1), ('Else', 1), ('whereto', 1), ('ended.', 1), ('earth,', 1), ('ruins', 1), ('(Which', 1), ('dumb', 2), ('utterance', 1), ('fierce', 1), ('Italy;', 1), ('Blood', 1), ('familiar,', 1), ('war;', 1), ('ranging', 1), ('Ate', 1), ('\"Havoc!\"', 1), ('foul', 1), ('burial.', 2), ('Octavius', 8), ('weep.', 1), ('catching,', 1), ('sorrow', 2), ('thine,', 1), ('Began', 1), ('leagues', 1), ('marketplace.', 1), ('Lend', 1), ('friends.', 1), ('here;', 1), ('severally', 1), ('THIRD', 17), ('last.', 2), ('lovers!', 1), ('Censure', 1), ('wisdom,', 1), ('answer:', 2), ('joy', 2), ('fortune,', 1), ('rude', 1), ('ALL.', 12), ('worthy,', 1), ('enforced,', 2), ('mourned', 1), ('who,', 1), ('Live,', 1), ('clamors.', 1), ('Peace!', 2), ('corse,', 1), ('Stay,', 2), ('ho,', 3), ('chair;', 1), ('beholding', 2), (\"'Twere\", 1), ('certain.', 1), ('lend', 1), ('bury', 2), ('lives', 1), ('ambitious;', 1), ('captives', 1), ('ransoms', 1), ('spoke,', 1), ('fled', 2), ('Methinks', 1), ('crown;', 1), ('disposed', 1), ('Who,', 3), ('choose', 1), ('dip', 1), ('memory,', 1), ('wood,', 1), ('heirs,', 1), ('patient?', 1), (\"o'ershot\", 1), ('daggers', 2), ('villains,', 1), ('ring', 1), ('descend?', 1), ('leave?', 1), ('ring,', 1), ('room,', 1), (\"summer's\", 1), ('tent,', 2), ('overcame', 2), ('envious', 1), ('away,', 4), ('rushing', 1), ('unkindest', 1), ('stab,', 2), ('heart,', 3), ('mantle', 1), ('treason', 1), (\"flourish'd\", 1), ('vesture', 1), ('wounded?', 1), ('Revenge!', 1), ('Burn!', 1), ('Kill!', 1), ('countrymen.', 1), ('sudden', 2), ('griefs', 2), ('doubt,', 1), ('plain', 2), ('utterance,', 1), ('Away,', 4), ('then!', 1), ('countrymen;', 1), ('loves?', 1), ('seal.', 1), ('drachmas.', 1), ('revenge', 1), ('royal', 1), ('walks,', 1), ('orchards,', 1), ('Tiber;', 1), ('Take', 2), ('forms,', 1), ('Citizens', 1), ('he?', 3), ('Lepidus', 3), ('straight', 3), ('mood', 1), ('fools', 1), ('truly.', 1), (\"Cassius';\", 1), (\"Casca's,\", 1), ('Octavius,', 12), ('Lepidus?', 1), ('LEPIDUS.', 3), (\"sister's\", 1), ('Lepidus.', 1), ('unmeritable', 1), ('sentence', 1), ('slanderous', 1), ('driven,', 1), ('empty', 1), ('ass,', 1), ('soldier.', 1), ('teach', 1), ('wind,', 1), ('corporal', 1), ('taught,', 1), (\"train'd,\", 1), ('fellow,', 2), ('feeds', 1), ('fashion.', 3), ('made,', 1), ('perils', 2), ('Millions', 1), ('Camp', 1), ('Sardis.', 1), ('Soldiers;', 1), ('Titinius', 5), ('greets', 1), ('PINDARUS.', 5), ('received', 2), ('resolved.', 1), ('familiar', 1), ('faith;', 1), ('Sink', 1), ('trial.', 1), ('army', 2), ('march', 1), ('brother,', 1), ('Judge', 1), ('sober', 1), ('hides', 1), ('content,', 1), ('softly,', 1), ('armies', 1), ('audience.', 1), ('commanders', 2), ('tent', 4), ('door.', 1), ('noted', 1), ('taking', 1), ('bribes', 2), ('side,', 1), ('comment.', 1), ('itching', 2), ('sell', 2), ('corruption,', 1), ('head.', 1), ('Chastisement?', 1), ('Julius', 2), ('supporting', 1), ('grasped', 1), ('moon,', 1), ('soldier,', 3), ('Urge', 1), ('farther.', 1), (\"Is't\", 1), ('choler?', 1), ('madman', 1), ('stares?', 1), ('proud', 1), ('spleen,', 1), ('split', 1), ('waspish.', 1), ('denied', 4), ('wring', 1), ('Dash', 1), ('back.', 3), ('infirmities,', 1), ('practise', 1), ('brother;', 1), (\"Check'd\", 1), ('observed,', 1), ('notebook,', 1), ('Dearer', 1), ('mine,', 1), ('carries', 1), ('laughter', 1), ('grief', 2), (\"ill-temper'd\", 2), ('matter?', 2), ('mother', 3), ('overearnest', 1), (\"He'll\", 1), ('chides,', 1), ('generals.', 2), ('Love,', 1), ('be;', 1), (\"I'm\", 1), ('vilely', 1), ('cynic', 1), ('wars', 1), ('fools?', 1), ('Immediately', 1), ('griefs.', 1), ('dead.', 2), ('Portia?', 1), ('absence,', 1), ('came-', 1), ('distract,', 1), ('died', 3), ('wine.', 1), ('pledge.', 1), (\"o'erswell\", 1), ('drink', 1), ('in,', 2), ('Messala.', 11), ('expedition', 1), ('selfsame', 1), ('bills', 2), ('outlawry', 1), ('proscriptions,', 1), ('writ', 1), ('manner.', 1), ('Philippi', 7), ('us;', 1), ('soldiers,', 1), ('affection,', 1), ('grudged', 1), ('enemy,', 1), ('afloat,', 1), ('deep', 1), ('necessity,', 1), ('Titinius;', 2), ('division', 1), ('Claudio', 2), ('cushions', 1), ('VARRO.', 6), ('Calls', 1), ('sleep;', 1), ('Lie', 1), ('sought', 1), ('pocket', 1), ('lordship', 1), ('Canst', 1), ('boy.', 1), ('willing.', 1), ('bloods', 1), ('slept,', 1), ('murtherous', 1), ('Gentle', 1), ('weakness', 1), ('makest', 1), ('stare?', 1), ('art.', 1), ('GHOST.', 3), ('again?', 2), ('Ill', 1), ('Varro!', 1), ('false.', 1), ('didst.', 1), ('Sleep', 1), ('powers', 2), ('hopes', 1), ('hills', 1), ('upper', 1), ('regions.', 1), ('field.', 7), ('Army;', 1), ('fast,', 1), ('words.', 3), ('Hybla', 1), ('stingless', 1), ('Villains!', 1), (\"fawn'd\", 1), ('kissing', 1), ('feet;', 1), ('cur,', 1), ('Strooke', 1), ('yourself.', 1), ('offended', 1), ('canst', 1), ('Unless', 1), (\"bring'st\", 1), ('traitors,', 1), ('bark!', 1), ('Lucilius!', 1), ('forth.]', 2), ('general?', 1), ('birthday,', 1), ('fell,', 1), ('crows,', 1), ('kites', 1), ('heads', 1), ('prey.', 1), ('canopy', 1), ('fatal,', 1), ('ghost.', 1), ('age!', 1), ('himself-', 1), ('cowardly', 1), ('mind.', 1), ('Forever', 1), ('forever', 1), ('Alarums.', 1), ('turning', 1), ('early,', 1), ('enclosed.', 1), ('off;', 1), ('tents,', 1), ('enough.', 2), ('fire?', 1), ('Mount', 1), ('troops', 2), ('hill;', 1), ('ascends', 1), ('hill.', 2), ('breathed', 1), ('end;', 1), ('enclosed', 1), ('lights', 1), ('[Shout.]', 1), ('hark!', 1), ('joy.', 1), ('sirrah.', 1), ('saving', 1), ('bowels,', 1), ('Guide', 1), (\"kill'd\", 2), ('been,', 1), ('setting', 1), ('sun,', 1), ('set!', 1), ('Mistrust', 2), ('thrusting', 1), ('report', 1), ('piercing', 1), ('friends?', 1), ('wreath', 1), ('brow;', 1), ('apace,', 1), ('Kills', 1), ('slain.', 2), ('camp,', 1), ('Cato;', 1), ('fortune', 1), ('foe', 1), ('mayst', 1), ('son.', 1), ('Yield,', 1), ('[Offers', 1), ('prisoner!', 1), ('Room,', 1), ('news.', 1), ('alive', 3), ('shame!', 1), ('Volumnius.', 4), ('rock.', 1), ('Whispers.', 2), ('DARDANIUS.', 3), ('Dardanius!', 1), ('vessel', 1), ('runs', 1), ('list', 1), ('VOLUMNIUS.', 3), ('night;', 1), ('leap', 1), ('tarry', 1), ('together;', 1), ('sword-hilts,', 1), ('Strato.', 2), ('respect;', 1), ('first.', 1), ('master?', 1), ('conquerors', 1), (\"Lucilius'\", 1), ('gentle,', 1), ('ordered', 1), ('honorably.', 1)]\n"
     ]
    }
   ],
   "source": [
    "# your turn\n",
    "wordsList = filtered_list\n",
    "wordsRDD = sc.parallelize(wordsList, 4)\n",
    "wordCountsCollected = (wordsRDD\n",
    "                       .map(lambda w: (w, 1))\n",
    "                       .reduceByKey(lambda x,y: x+y)\n",
    "                       .collect())\n",
    "print(wordCountsCollected)"
   ]
  },
  {
   "cell_type": "code",
   "execution_count": 88,
   "metadata": {},
   "outputs": [
    {
     "name": "stdout",
     "output_type": "stream",
     "text": [
      "2\n"
     ]
    }
   ],
   "source": [
    "print(wordCountsCollected[0][1])\n",
    "#probably use enumerate\n"
   ]
  },
  {
   "cell_type": "code",
   "execution_count": 89,
   "metadata": {
    "collapsed": true
   },
   "outputs": [],
   "source": [
    "wordCountsSorted = (wordsRDD\n",
    "                       .map(lambda w: (w, 1))\n",
    "                       .reduceByKey(lambda x,y: x+y)\n",
    "                       .takeOrdered(20, key=(lambda x: -x[1]))) # minus means sort in descended order\n",
    "                                                                # sort descending is protocol"
   ]
  },
  {
   "cell_type": "code",
   "execution_count": 90,
   "metadata": {},
   "outputs": [
    {
     "name": "stdout",
     "output_type": "stream",
     "text": [
      "[('I', 497), ('And', 200), ('BRUTUS.', 194), ('CASSIUS.', 139), ('Caesar', 95), ('thou', 95), ('That', 85), ('The', 84), ('Brutus', 75), ('To', 75), ('CITIZEN.', 68), ('But', 61), ('If', 54), ('What', 52), ('Brutus,', 52), ('He', 52), ('ANTONY.', 51), ('You', 49), ('For', 49), ('O', 48)]\n"
     ]
    }
   ],
   "source": [
    "print(wordCountsSorted)"
   ]
  },
  {
   "cell_type": "markdown",
   "metadata": {},
   "source": [
    "Plot a bar graph. For each of the top 20 words on the X axis, represent the count on the Y axis."
   ]
  },
  {
   "cell_type": "code",
   "execution_count": 92,
   "metadata": {},
   "outputs": [
    {
     "data": {
      "text/plain": [
       "497"
      ]
     },
     "execution_count": 92,
     "metadata": {},
     "output_type": "execute_result"
    }
   ],
   "source": [
    "wordCountsSorted[0][1] # matlotlib"
   ]
  },
  {
   "cell_type": "code",
   "execution_count": 94,
   "metadata": {},
   "outputs": [
    {
     "data": {
      "image/png": "[encoded data removed]",
      "text/plain": [
       "<Figure size 432x288 with 1 Axes>"
      ]
     },
     "metadata": {},
     "output_type": "display_data"
    }
   ],
   "source": [
    "import pandas as pd\n",
    "import matplotlib.pyplot as plt\n",
    "%matplotlib inline\n",
    "\n",
    "\n",
    "pd.DataFrame(wordCountsSorted, columns=['lbl','val']).set_index('lbl').plot(kind='bar');"
   ]
  },
  {
   "cell_type": "markdown",
   "metadata": {},
   "source": [
    "### Using partitions for parallelization"
   ]
  },
  {
   "cell_type": "markdown",
   "metadata": {},
   "source": [
    "In order to make your code more efficient, you want to use all of the available processing power, even on a single laptop. If your machine has multiple cores, you can tune the number of partitions to use all of them! From http://www.stat.berkeley.edu/scf/paciorek-spark-2014.html:\n",
    "\n",
    ">You want each partition to be able to fit in the memory availalbe on a node, and if you have multi-core nodes, you want that as many partitions as there are cores be able to fit in memory.\n",
    "\n",
    ">For load-balancing you'll want at least as many partitions as total computational cores in your cluster and probably rather more partitions. The Spark documentation suggests 2-4 partitions (which they also seem to call slices) per CPU. Often there are 100-10,000 partitions. Another rule of thumb is that tasks should take at least 100 ms. If less than that, you may want to repartition to have fewer partitions."
   ]
  },
  {
   "cell_type": "code",
   "execution_count": 98,
   "metadata": {
    "collapsed": true
   },
   "outputs": [],
   "source": [
    "shakesrdd=sc.textFile(\"./sparklect/shakes/*.txt\", minPartitions=4)"
   ]
  },
  {
   "cell_type": "code",
   "execution_count": 99,
   "metadata": {},
   "outputs": [
    {
     "data": {
      "text/plain": [
       "['1601',\n",
       " 'AS YOU LIKE IT',\n",
       " '',\n",
       " 'by William Shakespeare',\n",
       " '',\n",
       " '',\n",
       " '',\n",
       " 'DRAMATIS PERSONAE.',\n",
       " '',\n",
       " '']"
      ]
     },
     "execution_count": 99,
     "metadata": {},
     "output_type": "execute_result"
    }
   ],
   "source": [
    "shakesrdd.take(10)"
   ]
  },
  {
   "cell_type": "markdown",
   "metadata": {},
   "source": [
    "Now calculate the top 20 words in all of the files that you just read."
   ]
  },
  {
   "cell_type": "code",
   "execution_count": 96,
   "metadata": {
    "collapsed": true
   },
   "outputs": [],
   "source": [
    "shakesrddSorted = (shakesrdd\n",
    "                       .map(lambda w: (w, 1))\n",
    "                       .reduceByKey(lambda x,y: x+y)\n",
    "                       .takeOrdered(20, key=(lambda x: -x[1]))) # minus means sort in descended order\n",
    "                                                                # sort descending is protocol"
   ]
  },
  {
   "cell_type": "code",
   "execution_count": 100,
   "metadata": {},
   "outputs": [
    {
     "data": {
      "text/plain": [
       "[('', 10280),\n",
       " ('Ham.', 358),\n",
       " ('OTHELLO.', 274),\n",
       " ('IAGO.', 272),\n",
       " ('DESDEMONA.', 165),\n",
       " ('MENENIUS.', 164),\n",
       " ('SIR TOBY.', 152),\n",
       " ('CORIOLANUS.', 149),\n",
       " ('VIOLA.', 122),\n",
       " ('OLIVIA.', 119),\n",
       " ('CLOWN.', 118),\n",
       " ('SICINIUS.', 117),\n",
       " ('CASSIO.', 111),\n",
       " ('Hor.', 108),\n",
       " ('EMILIA.', 103),\n",
       " ('King.', 102),\n",
       " ('BRUTUS.', 91),\n",
       " ('SIR ANDREW.', 87),\n",
       " ('MALVOLIO.', 87),\n",
       " ('Pol.', 86)]"
      ]
     },
     "execution_count": 100,
     "metadata": {},
     "output_type": "execute_result"
    }
   ],
   "source": [
    "shakesrddSorted"
   ]
  },
  {
   "cell_type": "code",
   "execution_count": 101,
   "metadata": {
    "collapsed": true
   },
   "outputs": [],
   "source": [
    "shakesrddSorted = (shakesrdd\n",
    "                       .filter(lambda x: len(x) > 0) # !!! chaining operations\n",
    "                       .map(lambda w: (w, 1))\n",
    "                       .reduceByKey(lambda x,y: x+y)\n",
    "                       .takeOrdered(20, key=(lambda x: -x[1])))"
   ]
  },
  {
   "cell_type": "code",
   "execution_count": 102,
   "metadata": {},
   "outputs": [
    {
     "data": {
      "image/png": "[encoded data removed]",
      "text/plain": [
       "<Figure size 432x288 with 1 Axes>"
      ]
     },
     "metadata": {},
     "output_type": "display_data"
    }
   ],
   "source": [
    "pd.DataFrame(shakesrddSorted, columns=['lbl','val']).set_index('lbl').plot(kind='bar');"
   ]
  },
  {
   "cell_type": "markdown",
   "metadata": {},
   "source": [
    "## Optional topic 1: DataFrames\n",
    "\n",
    "Pandas and Spark dataframes can be easily converted to each other, making it easier to work with different data formats. This section shows some examples of each."
   ]
  },
  {
   "cell_type": "markdown",
   "metadata": {},
   "source": [
    "Convert Spark DataFrame to Pandas\n",
    "\n",
    "`pandas_df = spark_df.toPandas()`\n",
    "\n",
    "Create a Spark DataFrame from Pandas\n",
    "\n",
    "`spark_df = context.createDataFrame(pandas_df)`\n",
    "\n",
    "Must fit in memory.\n",
    "\n",
    "![](https://ogirardot.files.wordpress.com/2015/05/rdd-vs-dataframe.png?w=640&h=360)\n",
    "\n",
    "VERY IMPORTANT: DataFrames in Spark are like RDD in the sense that they’re an immutable data structure."
   ]
  },
  {
   "cell_type": "code",
   "execution_count": null,
   "metadata": {
    "collapsed": true
   },
   "outputs": [],
   "source": [
    "df=pd.read_csv(\"sparklect/01_heights_weights_genders.csv\")\n",
    "df.head()"
   ]
  },
  {
   "cell_type": "markdown",
   "metadata": {},
   "source": [
    "Convert this pandas dataframe to a Spark dataframe"
   ]
  },
  {
   "cell_type": "code",
   "execution_count": null,
   "metadata": {
    "collapsed": true
   },
   "outputs": [],
   "source": [
    "from pyspark.sql import SQLContext\n",
    "sqlsc=SQLContext(sc)\n",
    "sparkdf = sqlsc.createDataFrame(df)\n",
    "sparkdf"
   ]
  },
  {
   "cell_type": "code",
   "execution_count": null,
   "metadata": {
    "collapsed": true
   },
   "outputs": [],
   "source": [
    "sparkdf.show(5)"
   ]
  },
  {
   "cell_type": "code",
   "execution_count": null,
   "metadata": {
    "collapsed": true
   },
   "outputs": [],
   "source": [
    "type(sparkdf.Gender)"
   ]
  },
  {
   "cell_type": "code",
   "execution_count": null,
   "metadata": {
    "collapsed": true
   },
   "outputs": [],
   "source": [
    "# You can't call .map() on a DataFrame directly - you first have to convert it into an RDD\n",
    "temp = sparkdf.rdd.map(lambda r: r.Gender)\n",
    "print type(temp)\n",
    "temp.take(10)"
   ]
  },
  {
   "cell_type": "markdown",
   "metadata": {},
   "source": [
    "## Optional topic 2: Machine Learning using Spark\n",
    "\n"
   ]
  },
  {
   "cell_type": "code",
   "execution_count": null,
   "metadata": {
    "collapsed": true
   },
   "outputs": [],
   "source": [
    "from pyspark.mllib.classification import LogisticRegressionWithLBFGS\n",
    "from pyspark.mllib.regression import LabeledPoint"
   ]
  },
  {
   "cell_type": "markdown",
   "metadata": {},
   "source": [
    "Now create a data set from the Spark dataframe"
   ]
  },
  {
   "cell_type": "code",
   "execution_count": null,
   "metadata": {
    "collapsed": true
   },
   "outputs": [],
   "source": [
    "data=sparkdf.map(lambda row: LabeledPoint(row.Gender=='Male',[row.Height, row.Weight]))\n",
    "data.take(5)"
   ]
  },
  {
   "cell_type": "code",
   "execution_count": null,
   "metadata": {
    "collapsed": true
   },
   "outputs": [],
   "source": [
    "data2=sparkdf.map(lambda row: LabeledPoint(row[0]=='Male',row[1:]))\n",
    "data2.take(1)[0].label, data2.take(1)[0].features"
   ]
  },
  {
   "cell_type": "markdown",
   "metadata": {},
   "source": [
    "Split the data set into training and test sets"
   ]
  },
  {
   "cell_type": "code",
   "execution_count": null,
   "metadata": {
    "collapsed": true
   },
   "outputs": [],
   "source": [
    "train, test = data.randomSplit([0.7,0.3])\n",
    "train.cache()\n",
    "test.cache()"
   ]
  },
  {
   "cell_type": "code",
   "execution_count": null,
   "metadata": {
    "collapsed": true
   },
   "outputs": [],
   "source": [
    "type(train)"
   ]
  },
  {
   "cell_type": "markdown",
   "metadata": {},
   "source": [
    "Train the logistic regression model using MLIB"
   ]
  },
  {
   "cell_type": "code",
   "execution_count": null,
   "metadata": {
    "collapsed": true
   },
   "outputs": [],
   "source": [
    "model = LogisticRegressionWithLBFGS.train(train)"
   ]
  },
  {
   "cell_type": "code",
   "execution_count": null,
   "metadata": {
    "collapsed": true
   },
   "outputs": [],
   "source": [
    "model.weights"
   ]
  },
  {
   "cell_type": "markdown",
   "metadata": {},
   "source": [
    "Run it on the test data"
   ]
  },
  {
   "cell_type": "code",
   "execution_count": null,
   "metadata": {
    "collapsed": true
   },
   "outputs": [],
   "source": [
    "results = test.map(lambda lp: (lp.label, float(model.predict(lp.features))))\n",
    "print results.take(10)\n",
    "type(results)                       "
   ]
  },
  {
   "cell_type": "markdown",
   "metadata": {},
   "source": [
    "Measure accuracy and other metrics"
   ]
  },
  {
   "cell_type": "code",
   "execution_count": null,
   "metadata": {
    "collapsed": true
   },
   "outputs": [],
   "source": [
    "test_accuracy=results.filter(lambda (a,p): a==p).count()/float(results.count())\n",
    "test_accuracy"
   ]
  },
  {
   "cell_type": "code",
   "execution_count": null,
   "metadata": {
    "collapsed": true
   },
   "outputs": [],
   "source": [
    "from pyspark.mllib.evaluation import BinaryClassificationMetrics\n",
    "metrics = BinaryClassificationMetrics(results)"
   ]
  },
  {
   "cell_type": "code",
   "execution_count": null,
   "metadata": {
    "collapsed": true
   },
   "outputs": [],
   "source": [
    "print type(metrics)\n",
    "metrics.areaUnderROC"
   ]
  },
  {
   "cell_type": "code",
   "execution_count": null,
   "metadata": {
    "collapsed": true
   },
   "outputs": [],
   "source": [
    "type(model)"
   ]
  },
  {
   "cell_type": "code",
   "execution_count": null,
   "metadata": {
    "collapsed": true
   },
   "outputs": [],
   "source": [
    "!rm -rf mylogistic.model"
   ]
  },
  {
   "cell_type": "code",
   "execution_count": null,
   "metadata": {
    "collapsed": true
   },
   "outputs": [],
   "source": [
    "model.save(sc, \"mylogistic.model\")"
   ]
  },
  {
   "cell_type": "markdown",
   "metadata": {},
   "source": [
    "The pipeline API automates a lot of this stuff, allowing us to work directly on dataframes."
   ]
  },
  {
   "cell_type": "markdown",
   "metadata": {},
   "source": [
    "Also see:\n",
    "\n",
    "- http://jordicasanellas.weebly.com/data-science-blog/machine-learning-with-spark\n",
    "- http://spark.apache.org/docs/latest/mllib-guide.html\n",
    "- http://www.techpoweredmath.com/spark-dataframes-mllib-tutorial/\n",
    "- http://spark.apache.org/docs/latest/api/python/\n",
    "- http://spark.apache.org/docs/latest/programming-guide.html"
   ]
  },
  {
   "cell_type": "markdown",
   "metadata": {},
   "source": [
    "`rdd.saveAsTextFile()` saves an RDD as a string."
   ]
  },
  {
   "cell_type": "markdown",
   "metadata": {
    "collapsed": true
   },
   "source": [
    "## Optional Topic 3: Your Turn at Machine Learning! :)\n",
    "\n",
    "For this exercise, we're going to use one of the datasets we've already worked with: the Boston House Prices dataset. We're going to try a couple of regression algorithms, but from the SparkML library this time.\n",
    "\n",
    "Before you proceed, make sure to do an overview of the documentation: \n",
    "http://spark.apache.org/docs/latest/api/python/pyspark.ml.html"
   ]
  },
  {
   "cell_type": "code",
   "execution_count": null,
   "metadata": {
    "collapsed": true
   },
   "outputs": [],
   "source": [
    "# All imports go here\n",
    "\n",
    "\n"
   ]
  },
  {
   "cell_type": "markdown",
   "metadata": {},
   "source": [
    "First, we have to load the dataset, which resides as a CSV file in the folder for this exercise."
   ]
  },
  {
   "cell_type": "code",
   "execution_count": null,
   "metadata": {
    "collapsed": true
   },
   "outputs": [],
   "source": [
    "# Path: /sparklect/boston.csv\n"
   ]
  },
  {
   "cell_type": "markdown",
   "metadata": {},
   "source": [
    "Inspect the data to make sure everything is loaded properly."
   ]
  },
  {
   "cell_type": "code",
   "execution_count": null,
   "metadata": {
    "collapsed": true
   },
   "outputs": [],
   "source": []
  },
  {
   "cell_type": "markdown",
   "metadata": {},
   "source": [
    "Now we'll need to create a train/test split."
   ]
  },
  {
   "cell_type": "code",
   "execution_count": null,
   "metadata": {
    "collapsed": true
   },
   "outputs": [],
   "source": [
    "# We'll first have to vectorize the features\n"
   ]
  },
  {
   "cell_type": "markdown",
   "metadata": {},
   "source": [
    "As the next step, fit a Linear Regression model on the training set."
   ]
  },
  {
   "cell_type": "code",
   "execution_count": null,
   "metadata": {
    "collapsed": true
   },
   "outputs": [],
   "source": []
  },
  {
   "cell_type": "markdown",
   "metadata": {},
   "source": [
    "Now validate the model on the test set, and check the Root Mean Squared Error."
   ]
  },
  {
   "cell_type": "code",
   "execution_count": null,
   "metadata": {
    "collapsed": true
   },
   "outputs": [],
   "source": []
  },
  {
   "cell_type": "markdown",
   "metadata": {},
   "source": [
    "Let's compare Linear Regression with a more powerful algorithm - the Random Forest. As the Random Forest has several hyperparameters that can be tuned for maximum accuracy, we're going to need to use k-fold Cross Validation."
   ]
  },
  {
   "cell_type": "markdown",
   "metadata": {},
   "source": [
    "First, set up a grid for the hyperparameter search."
   ]
  },
  {
   "cell_type": "code",
   "execution_count": null,
   "metadata": {
    "collapsed": true
   },
   "outputs": [],
   "source": []
  },
  {
   "cell_type": "markdown",
   "metadata": {},
   "source": [
    "Now, with a Random Forest regressor using k-fold Cross Validation, and find the optimal combination of hyperparameters."
   ]
  },
  {
   "cell_type": "code",
   "execution_count": null,
   "metadata": {
    "collapsed": true
   },
   "outputs": [],
   "source": []
  },
  {
   "cell_type": "markdown",
   "metadata": {},
   "source": [
    "Finally, validate the model on the test set and check the Root Mean Squared Error again."
   ]
  },
  {
   "cell_type": "code",
   "execution_count": null,
   "metadata": {
    "collapsed": true
   },
   "outputs": [],
   "source": []
  },
  {
   "cell_type": "markdown",
   "metadata": {},
   "source": [
    "\n",
    "\n",
    "## Optional Topic 4: Model Your Capstone Dataset\n"
   ]
  },
  {
   "cell_type": "markdown",
   "metadata": {},
   "source": [
    "If you have time, load up the cleaned dataset from one of your capstone projects. Do you remember which algorithm and the accompanying combination of hyperparameters did the best job? For practice, try and implement the same model in SparkML."
   ]
  },
  {
   "cell_type": "code",
   "execution_count": null,
   "metadata": {
    "collapsed": true
   },
   "outputs": [],
   "source": []
  },
  {
   "cell_type": "code",
   "execution_count": null,
   "metadata": {
    "collapsed": true
   },
   "outputs": [],
   "source": [
    "# Stop Spark\n",
    "sc.stop()"
   ]
  }
 ],
 "metadata": {
  "kernelspec": {
   "display_name": "Python 3",
   "language": "python",
   "name": "python3"
  },
  "language_info": {
   "codemirror_mode": {
    "name": "ipython",
    "version": 3
   },
   "file_extension": ".py",
   "mimetype": "text/x-python",
   "name": "python",
   "nbconvert_exporter": "python",
   "pygments_lexer": "ipython3",
   "version": "3.6.5"
  }
 },
 "nbformat": 4,
 "nbformat_minor": 1
}
